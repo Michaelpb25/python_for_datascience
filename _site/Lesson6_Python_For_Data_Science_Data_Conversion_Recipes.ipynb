{
  "nbformat": 4,
  "nbformat_minor": 0,
  "metadata": {
    "colab": {
      "name": "Lesson6-Python For Data Science Data Conversion Recipes",
      "version": "0.3.2",
      "provenance": [],
      "collapsed_sections": [
        "4yLBz-G0ACvF",
        "m1oI49wGAJj2",
        "ODNn01QhGy4q",
        "kC0DL7jccwTz",
        "db_EeMOXcsMl",
        "hnrbuW1OeoaP",
        "zDeFh7DeHV_k",
        "iA3xuV1YOo_M",
        "xBThaF6Lf6-l",
        "ygpgBXkifzj5",
        "tPHx60a2O-A_",
        "qLNbYaeLPCMG",
        "p7AjiUsq7Nov",
        "fjwdh1uO7U58"
      ],
      "include_colab_link": true
    },
    "kernelspec": {
      "name": "python3",
      "display_name": "Python 3"
    }
  },
  "cells": [
    {
      "cell_type": "markdown",
      "metadata": {
        "id": "view-in-github",
        "colab_type": "text"
      },
      "source": [
        "<a href=\"https://colab.research.google.com/github/paiml/python_for_datascience/blob/master/Lesson6_Python_For_Data_Science_Data_Conversion_Recipes.ipynb\" target=\"_parent\"><img src=\"https://colab.research.google.com/assets/colab-badge.svg\" alt=\"Open In Colab\"/></a>"
      ]
    },
    {
      "metadata": {
        "id": "4yLBz-G0ACvF",
        "colab_type": "text"
      },
      "cell_type": "markdown",
      "source": [
        "# Lesson 6: Data Conversion Recipes"
      ]
    },
    {
      "metadata": {
        "id": "m1oI49wGAJj2",
        "colab_type": "text"
      },
      "cell_type": "markdown",
      "source": [
        "## 6.1 Convert lists to dicts, and dicts to lists "
      ]
    },
    {
      "metadata": {
        "id": "ODNn01QhGy4q",
        "colab_type": "text"
      },
      "cell_type": "markdown",
      "source": [
        "### Converting Lists to Dictionaries"
      ]
    },
    {
      "metadata": {
        "id": "kC0DL7jccwTz",
        "colab_type": "text"
      },
      "cell_type": "markdown",
      "source": [
        "#### Create basic dictionary"
      ]
    },
    {
      "metadata": {
        "id": "XKmoizujJ3BM",
        "colab_type": "code",
        "outputId": "4dfc83cf-363b-41c2-9e02-bbb53fa1daae",
        "colab": {
          "base_uri": "https://localhost:8080/",
          "height": 34
        }
      },
      "cell_type": "code",
      "source": [
        "d = dict( [('one', 1), ('two', 2), ('three', 3)] )\n",
        "d"
      ],
      "execution_count": 9,
      "outputs": [
        {
          "output_type": "execute_result",
          "data": {
            "text/plain": [
              "{'one': 1, 'three': 3, 'two': 2}"
            ]
          },
          "metadata": {
            "tags": []
          },
          "execution_count": 9
        }
      ]
    },
    {
      "metadata": {
        "id": "db_EeMOXcsMl",
        "colab_type": "text"
      },
      "cell_type": "markdown",
      "source": [
        "#### Zip two lists"
      ]
    },
    {
      "metadata": {
        "id": "xLT9Vq-ScC3u",
        "colab_type": "code",
        "colab": {
          "base_uri": "https://localhost:8080/",
          "height": 85
        },
        "outputId": "13b29bd7-9274-4780-b2ee-d1c5d4dfe3d3"
      },
      "cell_type": "code",
      "source": [
        "instruments = [ 'violin', 'lute', 'banjo', 'accordian']\n",
        "players = [ 'Anne-Sophie Mutter', 'Julian Bream', 'Noam Pikelny', 'Astor Pantaleón Piazzolla']\n",
        "\n",
        "d = dict(zip(instruments, players))\n",
        "d"
      ],
      "execution_count": 10,
      "outputs": [
        {
          "output_type": "execute_result",
          "data": {
            "text/plain": [
              "{'accordian': 'Astor Pantaleón Piazzolla',\n",
              " 'banjo': 'Noam Pikelny',\n",
              " 'lute': 'Julian Bream',\n",
              " 'violin': 'Anne-Sophie Mutter'}"
            ]
          },
          "metadata": {
            "tags": []
          },
          "execution_count": 10
        }
      ]
    },
    {
      "metadata": {
        "id": "hnrbuW1OeoaP",
        "colab_type": "text"
      },
      "cell_type": "markdown",
      "source": [
        "#### From keys"
      ]
    },
    {
      "metadata": {
        "id": "oOHL-nQBcEiM",
        "colab_type": "code",
        "colab": {
          "base_uri": "https://localhost:8080/",
          "height": 34
        },
        "outputId": "048fd05c-e6c1-45b4-a6e9-576401d56f83"
      },
      "cell_type": "code",
      "source": [
        "racers = ['Tom', 'Bill', 'Will', 'Jill']\n",
        "start_distance = 0\n",
        "d = dict.fromkeys(racers, start_distance)\n",
        "d"
      ],
      "execution_count": 11,
      "outputs": [
        {
          "output_type": "execute_result",
          "data": {
            "text/plain": [
              "{'Bill': 0, 'Jill': 0, 'Tom': 0, 'Will': 0}"
            ]
          },
          "metadata": {
            "tags": []
          },
          "execution_count": 11
        }
      ]
    },
    {
      "metadata": {
        "id": "zDeFh7DeHV_k",
        "colab_type": "text"
      },
      "cell_type": "markdown",
      "source": [
        "### Converting Dictionaries to  Lists"
      ]
    },
    {
      "metadata": {
        "id": "s13Km8SmH0da",
        "colab_type": "code",
        "outputId": "a6bf3328-02eb-44f6-81dd-de3e02eb0fe3",
        "colab": {
          "base_uri": "https://localhost:8080/",
          "height": 68
        }
      },
      "cell_type": "code",
      "source": [
        "d = {'name': 'toby', 'id' : 14}\n",
        "print( list(d) )\n",
        "print( sorted(d) )\n",
        "print( list(d.values()) )"
      ],
      "execution_count": 12,
      "outputs": [
        {
          "output_type": "stream",
          "text": [
            "['name', 'id']\n",
            "['id', 'name']\n",
            "['toby', 14]\n"
          ],
          "name": "stdout"
        }
      ]
    },
    {
      "metadata": {
        "id": "iA3xuV1YOo_M",
        "colab_type": "text"
      },
      "cell_type": "markdown",
      "source": [
        "## 6.2 Convert dicts to pandas Dataframe"
      ]
    },
    {
      "metadata": {
        "id": "xBThaF6Lf6-l",
        "colab_type": "text"
      },
      "cell_type": "markdown",
      "source": [
        "### Create dict from DataFrame"
      ]
    },
    {
      "metadata": {
        "id": "1k7y_fGvca73",
        "colab_type": "code",
        "outputId": "f0bb5f6f-73c2-4423-9f95-f9562ec44bbb",
        "colab": {
          "base_uri": "https://localhost:8080/",
          "height": 142
        }
      },
      "cell_type": "code",
      "source": [
        "from pandas import DataFrame\n",
        "\n",
        "d = {'first': ['Jill', 'Solma', 'Elizabeth'], 'last': ['Stein', 'Smith', 'Tudor']}\n",
        "DataFrame(data=d)"
      ],
      "execution_count": 13,
      "outputs": [
        {
          "output_type": "execute_result",
          "data": {
            "text/html": [
              "<div>\n",
              "<style scoped>\n",
              "    .dataframe tbody tr th:only-of-type {\n",
              "        vertical-align: middle;\n",
              "    }\n",
              "\n",
              "    .dataframe tbody tr th {\n",
              "        vertical-align: top;\n",
              "    }\n",
              "\n",
              "    .dataframe thead th {\n",
              "        text-align: right;\n",
              "    }\n",
              "</style>\n",
              "<table border=\"1\" class=\"dataframe\">\n",
              "  <thead>\n",
              "    <tr style=\"text-align: right;\">\n",
              "      <th></th>\n",
              "      <th>first</th>\n",
              "      <th>last</th>\n",
              "    </tr>\n",
              "  </thead>\n",
              "  <tbody>\n",
              "    <tr>\n",
              "      <th>0</th>\n",
              "      <td>Jill</td>\n",
              "      <td>Stein</td>\n",
              "    </tr>\n",
              "    <tr>\n",
              "      <th>1</th>\n",
              "      <td>Solma</td>\n",
              "      <td>Smith</td>\n",
              "    </tr>\n",
              "    <tr>\n",
              "      <th>2</th>\n",
              "      <td>Elizabeth</td>\n",
              "      <td>Tudor</td>\n",
              "    </tr>\n",
              "  </tbody>\n",
              "</table>\n",
              "</div>"
            ],
            "text/plain": [
              "       first   last\n",
              "0       Jill  Stein\n",
              "1      Solma  Smith\n",
              "2  Elizabeth  Tudor"
            ]
          },
          "metadata": {
            "tags": []
          },
          "execution_count": 13
        }
      ]
    },
    {
      "metadata": {
        "id": "jkWlDXTncVM-",
        "colab_type": "code",
        "colab": {
          "base_uri": "https://localhost:8080/",
          "height": 111
        },
        "outputId": "33b8e07e-14f5-46f9-8c29-d6877558006f"
      },
      "cell_type": "code",
      "source": [
        "DataFrame.from_dict(d)"
      ],
      "execution_count": 15,
      "outputs": [
        {
          "output_type": "execute_result",
          "data": {
            "text/html": [
              "<div>\n",
              "<style scoped>\n",
              "    .dataframe tbody tr th:only-of-type {\n",
              "        vertical-align: middle;\n",
              "    }\n",
              "\n",
              "    .dataframe tbody tr th {\n",
              "        vertical-align: top;\n",
              "    }\n",
              "\n",
              "    .dataframe thead th {\n",
              "        text-align: right;\n",
              "    }\n",
              "</style>\n",
              "<table border=\"1\" class=\"dataframe\">\n",
              "  <thead>\n",
              "    <tr style=\"text-align: right;\">\n",
              "      <th></th>\n",
              "      <th>0</th>\n",
              "      <th>1</th>\n",
              "      <th>3</th>\n",
              "    </tr>\n",
              "  </thead>\n",
              "  <tbody>\n",
              "    <tr>\n",
              "      <th>0</th>\n",
              "      <td>Edward</td>\n",
              "      <td>Robert</td>\n",
              "      <td>Earl</td>\n",
              "    </tr>\n",
              "    <tr>\n",
              "      <th>1</th>\n",
              "      <td>Tudor</td>\n",
              "      <td>Redford</td>\n",
              "      <td>Scruggs</td>\n",
              "    </tr>\n",
              "  </tbody>\n",
              "</table>\n",
              "</div>"
            ],
            "text/plain": [
              "        0        1        3\n",
              "0  Edward   Robert     Earl\n",
              "1   Tudor  Redford  Scruggs"
            ]
          },
          "metadata": {
            "tags": []
          },
          "execution_count": 15
        }
      ]
    },
    {
      "metadata": {
        "id": "ygpgBXkifzj5",
        "colab_type": "text"
      },
      "cell_type": "markdown",
      "source": [
        "### Create DataFrame with index orientation"
      ]
    },
    {
      "metadata": {
        "id": "jKTTCaxafbqp",
        "colab_type": "code",
        "colab": {
          "base_uri": "https://localhost:8080/",
          "height": 142
        },
        "outputId": "ccef1835-e4a2-499b-aaf9-2ccd6187b4d1"
      },
      "cell_type": "code",
      "source": [
        "d = {0: ['Edward', 'Tudor'], 1: ['Robert', 'Redford'], 3: ['Earl', 'Scruggs']}\n",
        "df = DataFrame.from_dict(d, orient='index')\n",
        "df.columns=['first', 'last']\n",
        "df"
      ],
      "execution_count": 17,
      "outputs": [
        {
          "output_type": "execute_result",
          "data": {
            "text/html": [
              "<div>\n",
              "<style scoped>\n",
              "    .dataframe tbody tr th:only-of-type {\n",
              "        vertical-align: middle;\n",
              "    }\n",
              "\n",
              "    .dataframe tbody tr th {\n",
              "        vertical-align: top;\n",
              "    }\n",
              "\n",
              "    .dataframe thead th {\n",
              "        text-align: right;\n",
              "    }\n",
              "</style>\n",
              "<table border=\"1\" class=\"dataframe\">\n",
              "  <thead>\n",
              "    <tr style=\"text-align: right;\">\n",
              "      <th></th>\n",
              "      <th>first</th>\n",
              "      <th>last</th>\n",
              "    </tr>\n",
              "  </thead>\n",
              "  <tbody>\n",
              "    <tr>\n",
              "      <th>0</th>\n",
              "      <td>Edward</td>\n",
              "      <td>Tudor</td>\n",
              "    </tr>\n",
              "    <tr>\n",
              "      <th>1</th>\n",
              "      <td>Robert</td>\n",
              "      <td>Redford</td>\n",
              "    </tr>\n",
              "    <tr>\n",
              "      <th>3</th>\n",
              "      <td>Earl</td>\n",
              "      <td>Scruggs</td>\n",
              "    </tr>\n",
              "  </tbody>\n",
              "</table>\n",
              "</div>"
            ],
            "text/plain": [
              "    first     last\n",
              "0  Edward    Tudor\n",
              "1  Robert  Redford\n",
              "3    Earl  Scruggs"
            ]
          },
          "metadata": {
            "tags": []
          },
          "execution_count": 17
        }
      ]
    },
    {
      "metadata": {
        "id": "A6eFFjrifVmb",
        "colab_type": "code",
        "colab": {
          "base_uri": "https://localhost:8080/",
          "height": 85
        },
        "outputId": "e3535f55-476f-49dd-f0fa-38ba566829e4"
      },
      "cell_type": "code",
      "source": [
        "d = {'a': 'A', 'b': 'B', 'c': 'C'}\n",
        "df = DataFrame(list(d.items()), columns=['lower', 'upper'])\n",
        "print(df)\n",
        "#Dataframe.from_record"
      ],
      "execution_count": 16,
      "outputs": [
        {
          "output_type": "stream",
          "text": [
            "  lower upper\n",
            "0     a     A\n",
            "1     b     B\n",
            "2     c     C\n"
          ],
          "name": "stdout"
        }
      ]
    },
    {
      "metadata": {
        "id": "tPHx60a2O-A_",
        "colab_type": "text"
      },
      "cell_type": "markdown",
      "source": [
        "## 6.3 Convert characters to integers and back "
      ]
    },
    {
      "metadata": {
        "id": "QIPSg2DYdr2z",
        "colab_type": "code",
        "outputId": "c8b88758-398f-4d2a-b7c8-7dea584f65f4",
        "colab": {
          "base_uri": "https://localhost:8080/",
          "height": 170
        }
      },
      "cell_type": "code",
      "source": [
        "print( float('12.3'))\n",
        "# Casting to int\n",
        "print( int('011') )\n",
        "print( int('011', 2) )\n",
        "print( int('011', 6) )\n",
        "print( int('011', 6) )\n",
        "print( int('011', 2) )\n",
        "print( int('011', 8) ) \n",
        "print( int('011', 16) )"
      ],
      "execution_count": 0,
      "outputs": [
        {
          "output_type": "stream",
          "text": [
            "12.3\n",
            "11\n",
            "3\n",
            "7\n",
            "7\n",
            "3\n",
            "9\n",
            "17\n",
            "161\n"
          ],
          "name": "stdout"
        }
      ]
    },
    {
      "metadata": {
        "id": "VihfMVYSk1GB",
        "colab_type": "code",
        "outputId": "959e5025-e0f6-4989-b7d0-3664f4707baf",
        "colab": {
          "base_uri": "https://localhost:8080/",
          "height": 51
        }
      },
      "cell_type": "code",
      "source": [
        "one = str(1)\n",
        "print( type(one) )\n",
        "f\"{one!r} is a string\""
      ],
      "execution_count": 18,
      "outputs": [
        {
          "output_type": "stream",
          "text": [
            "<class 'str'>\n"
          ],
          "name": "stdout"
        },
        {
          "output_type": "execute_result",
          "data": {
            "text/plain": [
              "\"'1' is a string\""
            ]
          },
          "metadata": {
            "tags": []
          },
          "execution_count": 18
        }
      ]
    },
    {
      "metadata": {
        "id": "dY6b7b15kYpn",
        "colab_type": "code",
        "colab": {}
      },
      "cell_type": "code",
      "source": [
        "# ascii codes"
      ],
      "execution_count": 0,
      "outputs": []
    },
    {
      "metadata": {
        "id": "qLNbYaeLPCMG",
        "colab_type": "text"
      },
      "cell_type": "markdown",
      "source": [
        "## 6.4 Convert between hexadecimal, binary, and floats"
      ]
    },
    {
      "metadata": {
        "id": "p7AjiUsq7Nov",
        "colab_type": "text"
      },
      "cell_type": "markdown",
      "source": [
        "### Conversion to and from Floats\n"
      ]
    },
    {
      "metadata": {
        "id": "vx2E_TYy9Nt-",
        "colab_type": "code",
        "outputId": "71fd5f68-dded-4e99-cfbe-af44871d5270",
        "colab": {
          "base_uri": "https://localhost:8080/",
          "height": 51
        }
      },
      "cell_type": "code",
      "source": [
        "\n",
        "a_float = str(12.4)\n",
        "print( f\" {a_float!r} is a {type(a_float)}\" )\n",
        "\n",
        "a_float = float(a_float)\n",
        "print( f\" {a_float!r} is a {type(a_float)}\" )\n",
        "\n",
        "\n"
      ],
      "execution_count": 0,
      "outputs": [
        {
          "output_type": "stream",
          "text": [
            " '12.4' is a <class 'str'>\n",
            " 12.4 is a <class 'float'>\n"
          ],
          "name": "stdout"
        }
      ]
    },
    {
      "metadata": {
        "id": "fjwdh1uO7U58",
        "colab_type": "text"
      },
      "cell_type": "markdown",
      "source": [
        "### Hexadecimal"
      ]
    },
    {
      "metadata": {
        "id": "35D8N6zR-aAA",
        "colab_type": "code",
        "outputId": "ef7e9ac6-2295-4c83-99e6-30504ec0df9b",
        "colab": {
          "base_uri": "https://localhost:8080/",
          "height": 51
        }
      },
      "cell_type": "code",
      "source": [
        "nt_hex = hex(18)\n",
        "print( f\" hex(18) returns the {type(int_hex)}: {int_hex!r}\" )\n",
        "\n",
        "float_hex = 12.4.hex()\n",
        "print( f\" 12.4.hex() returns the {type(float_hex)}: {float_hex!r}\" )"
      ],
      "execution_count": 0,
      "outputs": [
        {
          "output_type": "stream",
          "text": [
            " hex(18) returns the <class 'str'>: '0x12'\n",
            " 12.4.hex() returns the <class 'str'>: '0x1.8cccccccccccdp+3'\n"
          ],
          "name": "stdout"
        }
      ]
    },
    {
      "metadata": {
        "id": "UaLcFYpTom-I",
        "colab_type": "text"
      },
      "cell_type": "markdown",
      "source": [
        "[hex function](https://docs.python.org/3/library/functions.html)"
      ]
    },
    {
      "metadata": {
        "id": "fMGfHTiR7YQg",
        "colab_type": "text"
      },
      "cell_type": "markdown",
      "source": [
        "### Conversion to and from binary"
      ]
    },
    {
      "metadata": {
        "id": "-t-2J5Da7tDB",
        "colab_type": "code",
        "outputId": "aff2f68d-0969-4955-af22-c408cf26cfcd",
        "colab": {
          "base_uri": "https://localhost:8080/",
          "height": 51
        }
      },
      "cell_type": "code",
      "source": [
        "import base64\n",
        "bytes_str = b\"Encode this string\"\n",
        "encoded_str = base64.b64encode(bytes_str)\n",
        "print( encoded_str )\n",
        "\n",
        "print( base64.b64decode(encoded_str))"
      ],
      "execution_count": 0,
      "outputs": [
        {
          "output_type": "stream",
          "text": [
            "b'RW5jb2RlIHRoaXMgc3RyaW5n'\n",
            "b'Encode this string'\n"
          ],
          "name": "stdout"
        }
      ]
    },
    {
      "metadata": {
        "id": "RHqNCx9u-QR2",
        "colab_type": "text"
      },
      "cell_type": "markdown",
      "source": [
        "[base64-module](https://docs.python.org/3/library/base64.html#module-base64)"
      ]
    },
    {
      "metadata": {
        "id": "1u9f2snfCQ2D",
        "colab_type": "text"
      },
      "cell_type": "markdown",
      "source": [
        "# Notes\n",
        "- [Dictionaries](https://docs.python.org/3/tutorial/datastructures.html#dictionaries)\n",
        "- [More on  lists](https://docs.python.org/3/tutorial/datastructures.html#more-on-lists)\n",
        "- [Dataframe.from_dict](https://pandas.pydata.org/pandas-docs/stable/generated/pandas.DataFrame.from_dict.html)\n",
        "- https://stackoverflow.com/questions/4576115/convert-a-list-to-a-dictionary-in-python\n",
        "- https://thispointer.com/python-how-to-convert-a-list-to-dictionary/\n"
      ]
    }
  ]
}