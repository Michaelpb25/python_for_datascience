{
  "nbformat": 4,
  "nbformat_minor": 0,
  "metadata": {
    "colab": {
      "name": "Lesson12-Python For Data Science-Pattern-Matching.ipynb",
      "version": "0.3.2",
      "provenance": [],
      "collapsed_sections": [],
      "include_colab_link": true
    },
    "kernelspec": {
      "name": "python3",
      "display_name": "Python 3"
    }
  },
  "cells": [
    {
      "cell_type": "markdown",
      "metadata": {
        "id": "view-in-github",
        "colab_type": "text"
      },
      "source": [
        "<a href=\"https://colab.research.google.com/github/paiml/python_for_datascience/blob/master/Lesson12_Python_For_Data_Science_Pattern_Matching.ipynb\" target=\"_parent\"><img src=\"https://colab.research.google.com/assets/colab-badge.svg\" alt=\"Open In Colab\"/></a>"
      ]
    },
    {
      "metadata": {
        "id": "bLZR1WWsQ1Xn",
        "colab_type": "text"
      },
      "cell_type": "markdown",
      "source": [
        "# Lesson 12: Pattern Matching \n"
      ]
    },
    {
      "metadata": {
        "id": "adEo35_0RZie",
        "colab_type": "text"
      },
      "cell_type": "markdown",
      "source": [
        "## 12.1 Perform simple pattern matching                                                                                                   \n"
      ]
    },
    {
      "metadata": {
        "id": "zz5Rha7BQnUz",
        "colab_type": "code",
        "outputId": "14b4fad9-4fdc-48f8-a6d3-01aacf4d3a71",
        "colab": {
          "base_uri": "https://localhost:8080/",
          "height": 34
        }
      },
      "cell_type": "code",
      "source": [
        "\"sol\" in \"absolute\""
      ],
      "execution_count": 0,
      "outputs": [
        {
          "output_type": "execute_result",
          "data": {
            "text/plain": [
              "True"
            ]
          },
          "metadata": {
            "tags": []
          },
          "execution_count": 2
        }
      ]
    },
    {
      "metadata": {
        "id": "K0HMjnqsTECu",
        "colab_type": "code",
        "outputId": "17f33980-4189-4662-926a-50a83de1a1ef",
        "colab": {
          "base_uri": "https://localhost:8080/",
          "height": 34
        }
      },
      "cell_type": "code",
      "source": [
        "'absolute'.startswith('ab')"
      ],
      "execution_count": 0,
      "outputs": [
        {
          "output_type": "execute_result",
          "data": {
            "text/plain": [
              "True"
            ]
          },
          "metadata": {
            "tags": []
          },
          "execution_count": 3
        }
      ]
    },
    {
      "metadata": {
        "id": "-FvbydHHTL_U",
        "colab_type": "code",
        "outputId": "e75ca11c-08af-4e2a-f902-9a4139d8dc4a",
        "colab": {
          "base_uri": "https://localhost:8080/",
          "height": 34
        }
      },
      "cell_type": "code",
      "source": [
        "'absolute'.endswith('lute')"
      ],
      "execution_count": 0,
      "outputs": [
        {
          "output_type": "execute_result",
          "data": {
            "text/plain": [
              "True"
            ]
          },
          "metadata": {
            "tags": []
          },
          "execution_count": 4
        }
      ]
    },
    {
      "metadata": {
        "id": "g2xBLzlUTQwY",
        "colab_type": "code",
        "outputId": "b7e6d0a9-94b0-49fe-b783-7b3c1ab65a0c",
        "colab": {
          "base_uri": "https://localhost:8080/",
          "height": 34
        }
      },
      "cell_type": "code",
      "source": [
        "'absolute'.find('sol')"
      ],
      "execution_count": 0,
      "outputs": [
        {
          "output_type": "execute_result",
          "data": {
            "text/plain": [
              "2"
            ]
          },
          "metadata": {
            "tags": []
          },
          "execution_count": 1
        }
      ]
    },
    {
      "metadata": {
        "id": "cBE92K2XRbXT",
        "colab_type": "text"
      },
      "cell_type": "markdown",
      "source": [
        "## 12.2 Use regular expressions \n"
      ]
    },
    {
      "metadata": {
        "id": "4G9pf9FXM8cq",
        "colab_type": "code",
        "colab": {}
      },
      "cell_type": "code",
      "source": [
        "# TDL SDL LN\n",
        "text = '''\n",
        "Ahab: ahab@pequod.com\n",
        "Peleg: peleg@pequod.com\n",
        "Ishmael: ishmael@pequod.com\n",
        "Herman: herman@acushnet.io\n",
        "Pollard: pollard@essex.me\n",
        "'''"
      ],
      "execution_count": 0,
      "outputs": []
    },
    {
      "metadata": {
        "id": "AElhgpzV8IaY",
        "colab_type": "text"
      },
      "cell_type": "markdown",
      "source": [
        "### Simple matching"
      ]
    },
    {
      "metadata": {
        "id": "dbwnx_3o4Bgj",
        "colab_type": "code",
        "outputId": "69a65125-3385-4877-d135-9a9a892a1391",
        "colab": {
          "base_uri": "https://localhost:8080/",
          "height": 34
        }
      },
      "cell_type": "code",
      "source": [
        "import re\n",
        "\n",
        "\n",
        "re.match(\"Ahab:\", text )\n"
      ],
      "execution_count": 3,
      "outputs": [
        {
          "output_type": "execute_result",
          "data": {
            "text/plain": [
              "<_sre.SRE_Match object; span=(0, 5), match='Ahab:'>"
            ]
          },
          "metadata": {
            "tags": []
          },
          "execution_count": 3
        }
      ]
    },
    {
      "metadata": {
        "id": "-Unm-zt-u3B3",
        "colab_type": "code",
        "outputId": "a9f6599d-fa4d-48fc-be07-0456885ff5f7",
        "colab": {
          "base_uri": "https://localhost:8080/",
          "height": 34
        }
      },
      "cell_type": "code",
      "source": [
        "if re.match(\"Ahab:\", text ):\n",
        "  print(\"We found Ahab\")"
      ],
      "execution_count": 0,
      "outputs": [
        {
          "output_type": "stream",
          "text": [
            "We found Ahab\n"
          ],
          "name": "stdout"
        }
      ]
    },
    {
      "metadata": {
        "id": "r4lk9JyGvLw4",
        "colab_type": "code",
        "outputId": "b545bbea-4f50-4d89-c16e-83a6c2a4d59b",
        "colab": {
          "base_uri": "https://localhost:8080/",
          "height": 34
        }
      },
      "cell_type": "code",
      "source": [
        "if re.match(\"Peleg\", text):\n",
        "  print(\"We found Peleg\")\n",
        "else:\n",
        "  print(\"No Peleg found!\")"
      ],
      "execution_count": 0,
      "outputs": [
        {
          "output_type": "stream",
          "text": [
            "No Peleg found!\n"
          ],
          "name": "stdout"
        }
      ]
    },
    {
      "metadata": {
        "id": "QRw8QvzqGaUN",
        "colab_type": "text"
      },
      "cell_type": "markdown",
      "source": [
        "### Search"
      ]
    },
    {
      "metadata": {
        "id": "QyOe6X3yvbQ2",
        "colab_type": "code",
        "outputId": "cbf6f88b-3123-430d-e6d9-2c5179ebb2c4",
        "colab": {
          "base_uri": "https://localhost:8080/",
          "height": 34
        }
      },
      "cell_type": "code",
      "source": [
        "if re.search(\"Peleg\", text):\n",
        "  print(\"We found Peleg\")\n",
        "else:\n",
        "  print(\"No Peleg found!\")"
      ],
      "execution_count": 0,
      "outputs": [
        {
          "output_type": "stream",
          "text": [
            "We found Peleg\n"
          ],
          "name": "stdout"
        }
      ]
    },
    {
      "metadata": {
        "id": "bTYXWnrA8Pmm",
        "colab_type": "text"
      },
      "cell_type": "markdown",
      "source": [
        "### Character sets"
      ]
    },
    {
      "metadata": {
        "id": "B_6jUNjJv5ag",
        "colab_type": "code",
        "outputId": "321cfe58-2a14-4d4b-f6ce-2b20cfc529ab",
        "colab": {
          "base_uri": "https://localhost:8080/",
          "height": 34
        }
      },
      "cell_type": "code",
      "source": [
        "re.search(\"[A-Z][a-z]\", text)"
      ],
      "execution_count": 0,
      "outputs": [
        {
          "output_type": "execute_result",
          "data": {
            "text/plain": [
              "<_sre.SRE_Match object; span=(0, 2), match='Ah'>"
            ]
          },
          "metadata": {
            "tags": []
          },
          "execution_count": 13
        }
      ]
    },
    {
      "metadata": {
        "id": "dSSKISq-wYRl",
        "colab_type": "code",
        "outputId": "8f15feaa-fe8d-4b83-f3f2-457d6b1e7eaf",
        "colab": {
          "base_uri": "https://localhost:8080/",
          "height": 34
        }
      },
      "cell_type": "code",
      "source": [
        "re.search(\"[A-Za-z]+\", text)"
      ],
      "execution_count": 0,
      "outputs": [
        {
          "output_type": "execute_result",
          "data": {
            "text/plain": [
              "<_sre.SRE_Match object; span=(0, 4), match='Ahab'>"
            ]
          },
          "metadata": {
            "tags": []
          },
          "execution_count": 17
        }
      ]
    },
    {
      "metadata": {
        "id": "FhhPHQ5Jxk39",
        "colab_type": "code",
        "outputId": "2dd1af1e-aa97-4746-e576-492e4f9a64aa",
        "colab": {
          "base_uri": "https://localhost:8080/",
          "height": 34
        }
      },
      "cell_type": "code",
      "source": [
        "re.search(\"[A-Za-z]{7}\", text)"
      ],
      "execution_count": 0,
      "outputs": [
        {
          "output_type": "execute_result",
          "data": {
            "text/plain": [
              "<_sre.SRE_Match object; span=(66, 73), match='Ishmael'>"
            ]
          },
          "metadata": {
            "tags": []
          },
          "execution_count": 19
        }
      ]
    },
    {
      "metadata": {
        "id": "eDaf0SlRxuFG",
        "colab_type": "code",
        "outputId": "57545db7-a17e-4cdb-9ceb-7590718a82c4",
        "colab": {
          "base_uri": "https://localhost:8080/",
          "height": 34
        }
      },
      "cell_type": "code",
      "source": [
        "re.search(\"[a-z]+\\@[a-z]+\\.[a-z]+\", text)"
      ],
      "execution_count": 0,
      "outputs": [
        {
          "output_type": "execute_result",
          "data": {
            "text/plain": [
              "<_sre.SRE_Match object; span=(6, 21), match='ahab@pequod.com'>"
            ]
          },
          "metadata": {
            "tags": []
          },
          "execution_count": 23
        }
      ]
    },
    {
      "metadata": {
        "id": "0C8PElOBOdMj",
        "colab_type": "text"
      },
      "cell_type": "markdown",
      "source": [
        "### Character classes"
      ]
    },
    {
      "metadata": {
        "id": "smG0jFf7yZP3",
        "colab_type": "code",
        "outputId": "f22090b2-d994-4f9c-9df0-3d36a33b57b5",
        "colab": {
          "base_uri": "https://localhost:8080/",
          "height": 34
        }
      },
      "cell_type": "code",
      "source": [
        "re.search(\"\\w\\d\\w\", \"His panic over Y2K was overwhelming.\")"
      ],
      "execution_count": 0,
      "outputs": [
        {
          "output_type": "execute_result",
          "data": {
            "text/plain": [
              "<_sre.SRE_Match object; span=(15, 18), match='Y2K'>"
            ]
          },
          "metadata": {
            "tags": []
          },
          "execution_count": 26
        }
      ]
    },
    {
      "metadata": {
        "id": "luiPoUdvz0L3",
        "colab_type": "code",
        "outputId": "a64330c2-6093-4697-8ac5-7cc41cb7f4c8",
        "colab": {
          "base_uri": "https://localhost:8080/",
          "height": 34
        }
      },
      "cell_type": "code",
      "source": [
        "re.search(\"\\w+\\@\\w+\\.\\w+\", text)"
      ],
      "execution_count": 0,
      "outputs": [
        {
          "output_type": "execute_result",
          "data": {
            "text/plain": [
              "<_sre.SRE_Match object; span=(6, 21), match='ahab@pequod.com'>"
            ]
          },
          "metadata": {
            "tags": []
          },
          "execution_count": 27
        }
      ]
    },
    {
      "metadata": {
        "id": "y3254qWYOwuC",
        "colab_type": "text"
      },
      "cell_type": "markdown",
      "source": [
        "### Groups"
      ]
    },
    {
      "metadata": {
        "id": "p39e1ttIMeS8",
        "colab_type": "code",
        "colab": {
          "base_uri": "https://localhost:8080/",
          "height": 119
        },
        "outputId": "4097639e-6e22-4fed-fd0c-4f1e82732ef6"
      },
      "cell_type": "code",
      "source": [
        "m = re.search(\"(\\w+)\\@(\\w+)\\.(\\w+)\", text)\n",
        "print(f'''\n",
        "Group 0 is {m.group(0)}\n",
        "Group 1 is {m.group(1)}\n",
        "Group 2 is {m.group(2)}\n",
        "Group 3 is {m.group(3)}\n",
        "''')"
      ],
      "execution_count": 13,
      "outputs": [
        {
          "output_type": "stream",
          "text": [
            "\n",
            "Group 0 is ahab@pequod.com\n",
            "Group 1 is ahab\n",
            "Group 2 is pequod\n",
            "Group 3 is com\n",
            "\n"
          ],
          "name": "stdout"
        }
      ]
    },
    {
      "metadata": {
        "id": "lEb8YhQLNbZW",
        "colab_type": "text"
      },
      "cell_type": "markdown",
      "source": [
        "### Named groups"
      ]
    },
    {
      "metadata": {
        "id": "xo1J3jh5NikC",
        "colab_type": "code",
        "colab": {
          "base_uri": "https://localhost:8080/",
          "height": 119
        },
        "outputId": "ed6d7a0c-a587-479a-f54c-a815361a3b03"
      },
      "cell_type": "code",
      "source": [
        "m = re.search(\"(?P<name>\\w+)\\@(?P<SLD>\\w+)\\.(?P<TLD>\\w+)\", text)\n",
        "\n",
        "print(f'''\n",
        "Email address: {m.group()}\n",
        "Name:  {m.group(\"name\")}\n",
        "Secondary level domain: {m.group(\"SLD\")}\n",
        "Top level Domain: {m.group(\"TLD\")}\n",
        "''')"
      ],
      "execution_count": 17,
      "outputs": [
        {
          "output_type": "stream",
          "text": [
            "\n",
            "Email address: ahab@pequod.com\n",
            "Name:  ahab\n",
            "Secondary level domain: pequod\n",
            "Top level Domain: com\n",
            "\n"
          ],
          "name": "stdout"
        }
      ]
    },
    {
      "metadata": {
        "id": "F1DlR7T1Gcey",
        "colab_type": "text"
      },
      "cell_type": "markdown",
      "source": [
        "### Find all"
      ]
    },
    {
      "metadata": {
        "id": "PgyBLYJGQ6Xs",
        "colab_type": "code",
        "colab": {
          "base_uri": "https://localhost:8080/",
          "height": 102
        },
        "outputId": "b8941635-31b0-4ba7-afd7-332998b6409f"
      },
      "cell_type": "code",
      "source": [
        "m = re.findall(\"\\w+\\@\\w+\\.\\w+\", text)\n",
        "m"
      ],
      "execution_count": 19,
      "outputs": [
        {
          "output_type": "execute_result",
          "data": {
            "text/plain": [
              "['ahab@pequod.com',\n",
              " 'peleg@pequod.com',\n",
              " 'ishmael@pequod.com',\n",
              " 'herman@Acushnet.io',\n",
              " 'pollard@essex.me']"
            ]
          },
          "metadata": {
            "tags": []
          },
          "execution_count": 19
        }
      ]
    },
    {
      "metadata": {
        "id": "Eelot47DRPsn",
        "colab_type": "code",
        "colab": {
          "base_uri": "https://localhost:8080/",
          "height": 102
        },
        "outputId": "f88612a4-bbce-462c-a5ce-8bcc4b4f2059"
      },
      "cell_type": "code",
      "source": [
        "re.findall(\"(?P<name>\\w+)\\@(?P<SLD>\\w+)\\.(?P<TLD>\\w+)\", text)\n"
      ],
      "execution_count": 23,
      "outputs": [
        {
          "output_type": "execute_result",
          "data": {
            "text/plain": [
              "[('ahab', 'pequod', 'com'),\n",
              " ('peleg', 'pequod', 'com'),\n",
              " ('ishmael', 'pequod', 'com'),\n",
              " ('herman', 'Acushnet', 'io'),\n",
              " ('pollard', 'essex', 'me')]"
            ]
          },
          "metadata": {
            "tags": []
          },
          "execution_count": 23
        }
      ]
    },
    {
      "metadata": {
        "id": "LpOhULj4TI0t",
        "colab_type": "text"
      },
      "cell_type": "markdown",
      "source": [
        "### Find iterator"
      ]
    },
    {
      "metadata": {
        "id": "tkDVletnTLg-",
        "colab_type": "code",
        "colab": {
          "base_uri": "https://localhost:8080/",
          "height": 34
        },
        "outputId": "7dc27eb0-9a90-4116-c0c3-a2d7865d75da"
      },
      "cell_type": "code",
      "source": [
        "iterator = re.finditer(\"\\w+\\@\\w+\\.\\w+\", text)\n",
        "\n",
        "print(f\"An {type(iterator)} object is returned by finditer\" )"
      ],
      "execution_count": 30,
      "outputs": [
        {
          "output_type": "stream",
          "text": [
            "An <class 'callable_iterator'> object is returned by finditer\n"
          ],
          "name": "stdout"
        }
      ]
    },
    {
      "metadata": {
        "id": "p-zGBxlSULj2",
        "colab_type": "code",
        "colab": {
          "base_uri": "https://localhost:8080/",
          "height": 34
        },
        "outputId": "8c006d68-62b6-4784-b108-43b865ce78dd"
      },
      "cell_type": "code",
      "source": [
        "m = next(iterator)\n",
        "f\"The first match, {m.group()} is processed without processing the rest of the text\""
      ],
      "execution_count": 32,
      "outputs": [
        {
          "output_type": "execute_result",
          "data": {
            "text/plain": [
              "\"The first match, <_sre.SRE_Match object; span=(39, 55), match='peleg@pequod.com'> is processed without processing the rest of the text\""
            ]
          },
          "metadata": {
            "tags": []
          },
          "execution_count": 32
        }
      ]
    },
    {
      "metadata": {
        "id": "aR7NuChqVflo",
        "colab_type": "text"
      },
      "cell_type": "markdown",
      "source": [
        "### Iterators with named groups"
      ]
    },
    {
      "metadata": {
        "id": "jLO7xW-7V8kD",
        "colab_type": "code",
        "colab": {
          "base_uri": "https://localhost:8080/",
          "height": 102
        },
        "outputId": "efb3677f-0ccc-4541-c606-1d69a91b8256"
      },
      "cell_type": "code",
      "source": [
        "iterator = re.finditer(\"(?P<name>\\w+)\\@(?P<SLD>\\w+)\\.(?P<TLD>\\w+)\", text)\n",
        "for m in iterator:\n",
        "  print(m.groupdict())"
      ],
      "execution_count": 33,
      "outputs": [
        {
          "output_type": "stream",
          "text": [
            "{'name': 'ahab', 'SLD': 'pequod', 'TLD': 'com'}\n",
            "{'name': 'peleg', 'SLD': 'pequod', 'TLD': 'com'}\n",
            "{'name': 'ishmael', 'SLD': 'pequod', 'TLD': 'com'}\n",
            "{'name': 'herman', 'SLD': 'Acushnet', 'TLD': 'io'}\n",
            "{'name': 'pollard', 'SLD': 'essex', 'TLD': 'me'}\n"
          ],
          "name": "stdout"
        }
      ]
    },
    {
      "metadata": {
        "id": "ssZue1OmdHUK",
        "colab_type": "code",
        "colab": {
          "base_uri": "https://localhost:8080/",
          "height": 102
        },
        "outputId": "fd26ab89-7a2c-400c-cc68-e2fa41f13ebe"
      },
      "cell_type": "code",
      "source": [
        "iterator = re.finditer(\"(?P<name>\\w+)\\@(?P<SLD>\\w+)\\.(?P<TLD>\\w+)\", text)\n",
        "for m in iterator:\n",
        "  data = m.groupdict()\n",
        "  print(f\"{data['name'].title()} sailed on the {data['SLD'].title()}\")"
      ],
      "execution_count": 37,
      "outputs": [
        {
          "output_type": "stream",
          "text": [
            "Ahab sailed on the Pequod\n",
            "Peleg sailed on the Pequod\n",
            "Ishmael sailed on the Pequod\n",
            "Herman sailed on the Acushnet\n",
            "Pollard sailed on the Essex\n"
          ],
          "name": "stdout"
        }
      ]
    },
    {
      "metadata": {
        "id": "OYGSIg4xIUq8",
        "colab_type": "text"
      },
      "cell_type": "markdown",
      "source": [
        "### Substitution"
      ]
    },
    {
      "metadata": {
        "id": "RRhdr24LJ863",
        "colab_type": "code",
        "colab": {
          "base_uri": "https://localhost:8080/",
          "height": 34
        },
        "outputId": "4bf7b1c6-45c4-4e1c-d27b-7c2b24d80bfb"
      },
      "cell_type": "code",
      "source": [
        "re.sub(\"\\d\", \"#\", \"Your secrect pin is 12345\")"
      ],
      "execution_count": 46,
      "outputs": [
        {
          "output_type": "execute_result",
          "data": {
            "text/plain": [
              "'Your secrect pin is #####'"
            ]
          },
          "metadata": {
            "tags": []
          },
          "execution_count": 46
        }
      ]
    },
    {
      "metadata": {
        "id": "Ua8Nr13TJ41H",
        "colab_type": "text"
      },
      "cell_type": "markdown",
      "source": [
        "### Substitution using named groups"
      ]
    },
    {
      "metadata": {
        "id": "zkbJZpM3eAub",
        "colab_type": "code",
        "colab": {
          "base_uri": "https://localhost:8080/",
          "height": 136
        },
        "outputId": "3776ee2a-032a-40a3-b6bb-5273f293c265"
      },
      "cell_type": "code",
      "source": [
        "new_text = re.sub(\"(?P<name>\\w+)\\@(?P<SLD>\\w+)\\.(?P<TLD>\\w+)\", \"\\g<TLD>.\\g<SLD>.\\g<name>\", text)\n",
        "\n",
        "print(new_text)"
      ],
      "execution_count": 45,
      "outputs": [
        {
          "output_type": "stream",
          "text": [
            "\n",
            "Ahab: com.pequod.ahab\n",
            "Peleg: com.pequod.peleg\n",
            "Ishmael: com.pequod.ishmael\n",
            "Herman: io.acushnet.herman\n",
            "Pollard: me.essex.pollard\n",
            "\n"
          ],
          "name": "stdout"
        }
      ]
    },
    {
      "metadata": {
        "id": "vq491ZqXVo1r",
        "colab_type": "text"
      },
      "cell_type": "markdown",
      "source": [
        "### Compiling regexes"
      ]
    },
    {
      "metadata": {
        "id": "dOHZN2rUKOxe",
        "colab_type": "code",
        "colab": {
          "base_uri": "https://localhost:8080/",
          "height": 34
        },
        "outputId": "65a1da27-cd85-4f21-dc97-b5288a46cac6"
      },
      "cell_type": "code",
      "source": [
        "regex = re.compile(\"(?P<name>\\w+)\\@(?P<SLD>\\w+)\\.(?P<TLD>\\w+)\")\n",
        "regex"
      ],
      "execution_count": 49,
      "outputs": [
        {
          "output_type": "execute_result",
          "data": {
            "text/plain": [
              "re.compile(r'(?P<name>\\w+)\\@(?P<SLD>\\w+)\\.(?P<TLD>\\w+)', re.UNICODE)"
            ]
          },
          "metadata": {
            "tags": []
          },
          "execution_count": 49
        }
      ]
    },
    {
      "metadata": {
        "id": "m5oqqfRNLIq0",
        "colab_type": "code",
        "colab": {
          "base_uri": "https://localhost:8080/",
          "height": 34
        },
        "outputId": "cec65fb9-bb8c-494f-dc9a-82d6b5ac3240"
      },
      "cell_type": "code",
      "source": [
        "regex.search(text)"
      ],
      "execution_count": 50,
      "outputs": [
        {
          "output_type": "execute_result",
          "data": {
            "text/plain": [
              "<_sre.SRE_Match object; span=(7, 22), match='ahab@pequod.com'>"
            ]
          },
          "metadata": {
            "tags": []
          },
          "execution_count": 50
        }
      ]
    },
    {
      "metadata": {
        "id": "mQo0-596RdZF",
        "colab_type": "text"
      },
      "cell_type": "markdown",
      "source": [
        "## 12.3 Learn text processing techniques: Beautiful Soup \n"
      ]
    },
    {
      "metadata": {
        "id": "p-zuWvCQ4ooL",
        "colab_type": "text"
      },
      "cell_type": "markdown",
      "source": [
        "# Notes\n",
        "\n",
        "[python regular expresssions](https://docs.python.org/3/library/re.html#re-syntax)\n",
        "\n",
        "[python regex howto](https://docs.python.org/3/howto/regex.html)\n",
        "\n",
        "[regular_expressions](https://en.wikipedia.org/wiki/Regular_expression)"
      ]
    }
  ]
}