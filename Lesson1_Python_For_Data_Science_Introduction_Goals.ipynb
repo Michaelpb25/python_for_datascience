{
  "nbformat": 4,
  "nbformat_minor": 0,
  "metadata": {
    "colab": {
      "name": "Lesson1-Python For Data Science-Introduction-Goals.ipynb",
      "version": "0.3.2",
      "provenance": [],
      "include_colab_link": true
    },
    "kernelspec": {
      "name": "python3",
      "display_name": "Python 3"
    }
  },
  "cells": [
    {
      "cell_type": "markdown",
      "metadata": {
        "id": "view-in-github",
        "colab_type": "text"
      },
      "source": [
        "<a href=\"https://colab.research.google.com/github/paiml/python_for_datascience/blob/master/Lesson1_Python_For_Data_Science_Introduction_Goals.ipynb\" target=\"_parent\"><img src=\"https://colab.research.google.com/assets/colab-badge.svg\" alt=\"Open In Colab\"/></a>"
      ]
    },
    {
      "metadata": {
        "id": "spdivf2TMnGC",
        "colab_type": "text"
      },
      "cell_type": "markdown",
      "source": [
        "# Lesson 1 Python For Data Science"
      ]
    },
    {
      "metadata": {
        "id": "qqAIvhP5N4iu",
        "colab_type": "text"
      },
      "cell_type": "markdown",
      "source": [
        "## 1.1 Python Past and Future"
      ]
    },
    {
      "metadata": {
        "id": "epYHKGvoN8n3",
        "colab_type": "text"
      },
      "cell_type": "markdown",
      "source": [
        ""
      ]
    },
    {
      "metadata": {
        "id": "yHdWIarsN850",
        "colab_type": "text"
      },
      "cell_type": "markdown",
      "source": [
        "## 1.2 Overview of Python data science libraries"
      ]
    },
    {
      "metadata": {
        "id": "jYjzO6a4N88q",
        "colab_type": "text"
      },
      "cell_type": "markdown",
      "source": [
        ""
      ]
    },
    {
      "metadata": {
        "colab_type": "text",
        "id": "p8t4I8eiM9kO"
      },
      "cell_type": "markdown",
      "source": [
        "## 1.2 Future trends of Python in AI, ML, and data science"
      ]
    },
    {
      "metadata": {
        "colab_type": "text",
        "id": "jDqDV20zM9kP"
      },
      "cell_type": "markdown",
      "source": [
        ""
      ]
    },
    {
      "metadata": {
        "id": "loWnoGY8OPLA",
        "colab_type": "text"
      },
      "cell_type": "markdown",
      "source": [
        "## Notes"
      ]
    },
    {
      "metadata": {
        "id": "ClGs67SFOVL1",
        "colab_type": "text"
      },
      "cell_type": "markdown",
      "source": [
        "Similar to Notes section of Powerpoint (where we can exchange ideas)\n",
        "\n",
        "* We may want Lesson 1 to be PowerPoint only"
      ]
    },
    {
      "metadata": {
        "id": "m0BQFIHYOTuc",
        "colab_type": "code",
        "colab": {}
      },
      "cell_type": "code",
      "source": [
        ""
      ],
      "execution_count": 0,
      "outputs": []
    }
  ]
}