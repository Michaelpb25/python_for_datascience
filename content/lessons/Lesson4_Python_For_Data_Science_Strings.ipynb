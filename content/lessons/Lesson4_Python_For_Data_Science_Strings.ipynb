{
  "nbformat": 4,
  "nbformat_minor": 0,
  "metadata": {
    "colab": {
      "name": "Lesson4-Python For Data Science-Strings.ipynb",
      "version": "0.3.2",
      "provenance": [],
      "collapsed_sections": [
        "GbAj3ReBSbc6",
        "7JN8KRAruJdb",
        "Im6ZLIhXU1E5",
        "ITOkUfVNSoHC",
        "Zm7Khof-SKbr",
        "Gby8qdr8Tqkh",
        "XAMwuppiVn22",
        "uFr9RyXCZENG",
        "rWTfYVmKYExR",
        "7d0IbqU8Sslw",
        "VFczXfuzQmgL",
        "dglY8AFpUSyO",
        "lSGwfbgjUnGX",
        "BQpIi5ZASzd8"
      ],
      "include_colab_link": true
    },
    "kernelspec": {
      "display_name": "Python 3",
      "language": "python",
      "name": "python3"
    }
  },
  "cells": [
    {
      "cell_type": "markdown",
      "metadata": {
        "id": "view-in-github",
        "colab_type": "text"
      },
      "source": [
        "<a href=\"https://colab.research.google.com/github/paiml/python_for_datascience/blob/master/Lesson4_Python_For_Data_Science_Strings.ipynb\" target=\"_parent\"><img src=\"https://colab.research.google.com/assets/colab-badge.svg\" alt=\"Open In Colab\"/></a>"
      ]
    },
    {
      "metadata": {
        "colab_type": "text",
        "id": "cTNA1xgJSTZl"
      },
      "cell_type": "markdown",
      "source": [
        "# Lesson 4 Strings"
      ]
    },
    {
      "metadata": {
        "colab_type": "text",
        "id": "GbAj3ReBSbc6"
      },
      "cell_type": "markdown",
      "source": [
        "## 4.1 Use string methods\n",
        "\n"
      ]
    },
    {
      "metadata": {
        "colab_type": "text",
        "id": "7JN8KRAruJdb"
      },
      "cell_type": "markdown",
      "source": [
        "### Case Manipulation"
      ]
    },
    {
      "metadata": {
        "colab_type": "code",
        "id": "1ZnmUYK8fI9V",
        "outputId": "c66f8766-d3e9-4322-fd66-a28d6dcaee02",
        "colab": {
          "base_uri": "https://localhost:8080/",
          "height": 34
        }
      },
      "cell_type": "code",
      "source": [
        "captain = \"Patrick Tayluer\"\n",
        "captain.capitalize()\n"
      ],
      "execution_count": 0,
      "outputs": [
        {
          "output_type": "execute_result",
          "data": {
            "text/plain": [
              "'Patrick tayluer'"
            ]
          },
          "metadata": {
            "tags": []
          },
          "execution_count": 1
        }
      ]
    },
    {
      "metadata": {
        "colab_type": "code",
        "id": "sPgdoiu-tWrp",
        "outputId": "a57c9167-2c97-4c64-9127-c9684a61573b",
        "colab": {
          "base_uri": "https://localhost:8080/",
          "height": 34
        }
      },
      "cell_type": "code",
      "source": [
        "captain.lower()"
      ],
      "execution_count": 0,
      "outputs": [
        {
          "output_type": "execute_result",
          "data": {
            "text/plain": [
              "'patrick tayluer'"
            ]
          },
          "metadata": {
            "tags": []
          },
          "execution_count": 2
        }
      ]
    },
    {
      "metadata": {
        "colab_type": "code",
        "id": "6jlry9S4tcEj",
        "outputId": "6f43c43a-a174-43c6-a0dd-3c5b9719cd3f",
        "colab": {
          "base_uri": "https://localhost:8080/",
          "height": 34
        }
      },
      "cell_type": "code",
      "source": [
        "captain.swapcase()"
      ],
      "execution_count": 0,
      "outputs": [
        {
          "output_type": "execute_result",
          "data": {
            "text/plain": [
              "'pATRICK tAYLUER'"
            ]
          },
          "metadata": {
            "tags": []
          },
          "execution_count": 3
        }
      ]
    },
    {
      "metadata": {
        "colab_type": "code",
        "id": "IoCZQxuutvYA",
        "outputId": "d2d30190-e0cc-4a56-fbc7-7307091f79b8",
        "colab": {
          "base_uri": "https://localhost:8080/",
          "height": 34
        }
      },
      "cell_type": "code",
      "source": [
        "captain.title()"
      ],
      "execution_count": 0,
      "outputs": [
        {
          "output_type": "execute_result",
          "data": {
            "text/plain": [
              "'Patrick Tayluer'"
            ]
          },
          "metadata": {
            "tags": []
          },
          "execution_count": 4
        }
      ]
    },
    {
      "metadata": {
        "colab_type": "code",
        "id": "-K13_7fmtxjw",
        "outputId": "af545b02-8358-44f1-92b0-1792b34f5316",
        "colab": {
          "base_uri": "https://localhost:8080/",
          "height": 34
        }
      },
      "cell_type": "code",
      "source": [
        "captain.upper()"
      ],
      "execution_count": 0,
      "outputs": [
        {
          "output_type": "execute_result",
          "data": {
            "text/plain": [
              "'PATRICK TAYLUER'"
            ]
          },
          "metadata": {
            "tags": []
          },
          "execution_count": 5
        }
      ]
    },
    {
      "metadata": {
        "colab_type": "code",
        "id": "3HTEx2rKthZy",
        "colab": {}
      },
      "cell_type": "code",
      "source": [
        "\n"
      ],
      "execution_count": 0,
      "outputs": []
    },
    {
      "metadata": {
        "colab_type": "text",
        "id": "7V3tlaGeumsn"
      },
      "cell_type": "markdown",
      "source": [
        "#### Remove Whitespace"
      ]
    },
    {
      "metadata": {
        "colab_type": "code",
        "id": "S7s2L8NRTyYK",
        "colab": {}
      },
      "cell_type": "code",
      "source": [
        "ship = \" The Yankee Clipper \"\n",
        "ship"
      ],
      "execution_count": 0,
      "outputs": []
    },
    {
      "metadata": {
        "colab_type": "code",
        "id": "PM4r28sTT86o",
        "colab": {}
      },
      "cell_type": "code",
      "source": [
        "ship.strip()"
      ],
      "execution_count": 0,
      "outputs": []
    },
    {
      "metadata": {
        "colab_type": "code",
        "id": "ILdKPDCGT_Tw",
        "colab": {}
      },
      "cell_type": "code",
      "source": [
        "ship.rstrip()"
      ],
      "execution_count": 0,
      "outputs": []
    },
    {
      "metadata": {
        "colab_type": "code",
        "id": "wKtcldcRUCoo",
        "colab": {}
      },
      "cell_type": "code",
      "source": [
        "ship.lstrip()"
      ],
      "execution_count": 0,
      "outputs": []
    },
    {
      "metadata": {
        "colab_type": "text",
        "id": "Im6ZLIhXU1E5"
      },
      "cell_type": "markdown",
      "source": [
        "### Content Manipulation"
      ]
    },
    {
      "metadata": {
        "colab_type": "code",
        "id": "Z_RBTJMDdCJY",
        "colab": {}
      },
      "cell_type": "code",
      "source": [
        "port = \"Boston\"\n",
        "port.center(12, '*')"
      ],
      "execution_count": 0,
      "outputs": []
    },
    {
      "metadata": {
        "colab_type": "code",
        "id": "UIvvLZxNdysE",
        "colab": {}
      },
      "cell_type": "code",
      "source": [
        "port.ljust(12)"
      ],
      "execution_count": 0,
      "outputs": []
    },
    {
      "metadata": {
        "colab_type": "code",
        "id": "mjcsTvfXd4eL",
        "colab": {}
      },
      "cell_type": "code",
      "source": [
        "port.rjust(12)"
      ],
      "execution_count": 0,
      "outputs": []
    },
    {
      "metadata": {
        "colab_type": "code",
        "id": "pSr3PaxHd6hd",
        "colab": {}
      },
      "cell_type": "code",
      "source": [
        "for port_city in ['Liverpool', 'Boston', 'New York', 'Philadelphia']:\n",
        "  print(port_city.rjust(12))"
      ],
      "execution_count": 0,
      "outputs": []
    },
    {
      "metadata": {
        "colab_type": "code",
        "id": "b3ovfxR0eSHg",
        "colab": {}
      },
      "cell_type": "code",
      "source": [
        "\"FILADELFIA\".replace(\"F\", \"PH\")"
      ],
      "execution_count": 0,
      "outputs": []
    },
    {
      "metadata": {
        "colab_type": "code",
        "id": "9GoV_hGxfXQn",
        "colab": {}
      },
      "cell_type": "code",
      "source": [
        "'-5'.zfill(3)"
      ],
      "execution_count": 0,
      "outputs": []
    },
    {
      "metadata": {
        "colab_type": "text",
        "id": "rlkG5_YmfxII"
      },
      "cell_type": "markdown",
      "source": [
        "#### Spitting and Joining"
      ]
    },
    {
      "metadata": {
        "colab_type": "code",
        "id": "BELRTH31fVWn",
        "colab": {}
      },
      "cell_type": "code",
      "source": [
        "words_string = \"Here,Are,Some,Words\"\n",
        "words_string"
      ],
      "execution_count": 0,
      "outputs": []
    },
    {
      "metadata": {
        "colab_type": "code",
        "id": "azqJSUvbjT3L",
        "colab": {}
      },
      "cell_type": "code",
      "source": [
        "words = words_string.split(',')\n",
        "words"
      ],
      "execution_count": 0,
      "outputs": []
    },
    {
      "metadata": {
        "colab_type": "code",
        "id": "B26tHfU9jWID",
        "colab": {}
      },
      "cell_type": "code",
      "source": [
        "' '.join(words)"
      ],
      "execution_count": 0,
      "outputs": []
    },
    {
      "metadata": {
        "colab_type": "code",
        "id": "6GrBwbwokddj",
        "colab": {}
      },
      "cell_type": "code",
      "source": [
        "multiline = \"Sometimes we are given\\na multiline document\\nas a single string\"\n",
        "multiline"
      ],
      "execution_count": 0,
      "outputs": []
    },
    {
      "metadata": {
        "colab_type": "code",
        "id": "WJ0MDyfmkyLI",
        "colab": {}
      },
      "cell_type": "code",
      "source": [
        "for line in multiline.splitlines():\n",
        "  print(line)"
      ],
      "execution_count": 0,
      "outputs": []
    },
    {
      "metadata": {
        "colab_type": "text",
        "id": "8CjgNkacldql"
      },
      "cell_type": "markdown",
      "source": [
        "#### Interrogation"
      ]
    },
    {
      "metadata": {
        "colab_type": "code",
        "id": "TjQozbkOlnmI",
        "colab": {}
      },
      "cell_type": "code",
      "source": [
        "river = 'Mississippi'\n",
        "river.count('s')"
      ],
      "execution_count": 0,
      "outputs": []
    },
    {
      "metadata": {
        "colab_type": "code",
        "id": "JiicVyEgmEZK",
        "colab": {}
      },
      "cell_type": "code",
      "source": [
        "river.index('pp')"
      ],
      "execution_count": 0,
      "outputs": []
    },
    {
      "metadata": {
        "colab_type": "code",
        "id": "H3RK0w0NmZwg",
        "colab": {}
      },
      "cell_type": "code",
      "source": [
        "river.index('r')"
      ],
      "execution_count": 0,
      "outputs": []
    },
    {
      "metadata": {
        "colab_type": "code",
        "id": "YFW7wFi5mzRw",
        "colab": {}
      },
      "cell_type": "code",
      "source": [
        "river.find('r')"
      ],
      "execution_count": 0,
      "outputs": []
    },
    {
      "metadata": {
        "colab_type": "code",
        "id": "qk70XczYm1x4",
        "colab": {}
      },
      "cell_type": "code",
      "source": [
        "river.startswith('M')"
      ],
      "execution_count": 0,
      "outputs": []
    },
    {
      "metadata": {
        "colab_type": "code",
        "id": "BOh9jjnwm7GQ",
        "colab": {}
      },
      "cell_type": "code",
      "source": [
        "river.endswith('i')"
      ],
      "execution_count": 0,
      "outputs": []
    },
    {
      "metadata": {
        "colab_type": "text",
        "id": "NHcQp9irnPdB"
      },
      "cell_type": "markdown",
      "source": [
        "#### Content Type"
      ]
    },
    {
      "metadata": {
        "colab_type": "code",
        "id": "UJcGL9BgnSzJ",
        "colab": {}
      },
      "cell_type": "code",
      "source": [
        "'abc123'.isalpha()"
      ],
      "execution_count": 0,
      "outputs": []
    },
    {
      "metadata": {
        "colab_type": "code",
        "id": "lEEfmohingDN",
        "colab": {}
      },
      "cell_type": "code",
      "source": [
        "'abc123'.isalnum()"
      ],
      "execution_count": 0,
      "outputs": []
    },
    {
      "metadata": {
        "colab_type": "code",
        "id": "YUhkecIbnmGd",
        "colab": {}
      },
      "cell_type": "code",
      "source": [
        "'lowercase'.islower()"
      ],
      "execution_count": 0,
      "outputs": []
    },
    {
      "metadata": {
        "colab_type": "code",
        "id": "C0CduPhknrUs",
        "colab": {}
      },
      "cell_type": "code",
      "source": [
        "'lowercase'.isupper()"
      ],
      "execution_count": 0,
      "outputs": []
    },
    {
      "metadata": {
        "colab_type": "code",
        "id": "EFS9jh8IntrM",
        "colab": {}
      },
      "cell_type": "code",
      "source": [
        "'The Good Ship'.istitle()"
      ],
      "execution_count": 0,
      "outputs": []
    },
    {
      "metadata": {
        "colab_type": "code",
        "id": "GxHy9RU_UEgA",
        "colab": {}
      },
      "cell_type": "code",
      "source": [
        "'The bad seed'.istitle()"
      ],
      "execution_count": 0,
      "outputs": []
    },
    {
      "metadata": {
        "colab_type": "text",
        "id": "X1AJ18VJoD6J"
      },
      "cell_type": "markdown",
      "source": [
        "More information: [String Methods](https://docs.python.org/3/library/stdtypes.html#string-methods)"
      ]
    },
    {
      "metadata": {
        "colab_type": "text",
        "id": "ITOkUfVNSoHC"
      },
      "cell_type": "markdown",
      "source": [
        "## 4.2 Format strings"
      ]
    },
    {
      "metadata": {
        "id": "Zm7Khof-SKbr",
        "colab_type": "text"
      },
      "cell_type": "markdown",
      "source": [
        "### F-Strings"
      ]
    },
    {
      "metadata": {
        "colab_type": "code",
        "id": "LZDftZDKT0eI",
        "colab": {
          "base_uri": "https://localhost:8080/",
          "height": 34
        },
        "outputId": "dc2acbfd-0974-446e-98b0-8c8b18eb149f"
      },
      "cell_type": "code",
      "source": [
        "strings_count = 5\n",
        "frets_count = 24\n",
        "f\"Noam Pikelny's banjo has {strings_count} strings and {frets_count} frets\""
      ],
      "execution_count": 2,
      "outputs": [
        {
          "output_type": "execute_result",
          "data": {
            "text/plain": [
              "\"Noam Pikelny's banjo has 5 strings and 24 frets\""
            ]
          },
          "metadata": {
            "tags": []
          },
          "execution_count": 1
        },
        {
          "output_type": "execute_result",
          "data": {
            "text/plain": [
              "\"Noam Pikelny's banjo has 5 strings and 24 frets\""
            ]
          },
          "metadata": {
            "tags": []
          },
          "execution_count": 2
        }
      ]
    },
    {
      "metadata": {
        "colab_type": "code",
        "id": "Vp4gLnKIUn8d",
        "colab": {
          "base_uri": "https://localhost:8080/",
          "height": 34
        },
        "outputId": "7425952e-018c-4f71-8ec1-8b75c60be267"
      },
      "cell_type": "code",
      "source": [
        "a = 12\n",
        "b = 32\n",
        "f\"{a} times {b} equals {a*b}\""
      ],
      "execution_count": 3,
      "outputs": [
        {
          "output_type": "execute_result",
          "data": {
            "text/plain": [
              "'12 times 32 equals 384'"
            ]
          },
          "metadata": {
            "tags": []
          },
          "execution_count": 3
        }
      ]
    },
    {
      "metadata": {
        "colab_type": "code",
        "id": "0SINPS8VUGES",
        "colab": {
          "base_uri": "https://localhost:8080/",
          "height": 34
        },
        "outputId": "d9df8901-63cd-457e-c28d-01cdde0feaf7"
      },
      "cell_type": "code",
      "source": [
        "players = [\"Tony Trischka\", \"Bill Evans\", \"Alan Munde\"]\n",
        "f\"Performances will be held by {players[1]}, {players[0]}, and {players[2]}\""
      ],
      "execution_count": 4,
      "outputs": [
        {
          "output_type": "execute_result",
          "data": {
            "text/plain": [
              "'Performances will be held by Bill Evans, Tony Trischka, and Alan Munde'"
            ]
          },
          "metadata": {
            "tags": []
          },
          "execution_count": 4
        }
      ]
    },
    {
      "metadata": {
        "colab_type": "code",
        "id": "3KHOPzFpUiYt",
        "colab": {}
      },
      "cell_type": "code",
      "source": [
        "nut = 'pistacio'\n",
        "f\"Calling repr on the string {nut} results in {nut!r}\""
      ],
      "execution_count": 0,
      "outputs": []
    },
    {
      "metadata": {
        "colab_type": "code",
        "id": "h8HvErGWVaRm",
        "colab": {}
      },
      "cell_type": "code",
      "source": [
        "check = \"√\"\n",
        "f\"The ascii version of {check} is {check!a}\""
      ],
      "execution_count": 0,
      "outputs": []
    },
    {
      "metadata": {
        "colab_type": "code",
        "id": "RPuBc-tZVhRN",
        "colab": {}
      },
      "cell_type": "code",
      "source": [
        "some_num = 34\n",
        "padding = 5\n",
        "f\"To pad the number {some_num} to {padding} places:{some_num:{padding}d}\""
      ],
      "execution_count": 0,
      "outputs": []
    },
    {
      "metadata": {
        "colab_type": "text",
        "id": "kwXBDbXRLHhK"
      },
      "cell_type": "markdown",
      "source": [
        "More information: [Format String Syntax](https://docs.python.org/2/library/string.html#format-string-syntax)\n",
        "\n",
        "Other String Formatting: \n",
        "  [String Format Method](https://docs.python.org/2/library/string.html#custom-string-formatting)\n",
        "  \n",
        "  [Old Style String Formatting](https://docs.python.org/3/library/stdtypes.html#old-string-formatting)"
      ]
    },
    {
      "metadata": {
        "id": "VhHzvEHWSNuk",
        "colab_type": "text"
      },
      "cell_type": "markdown",
      "source": [
        ""
      ]
    },
    {
      "metadata": {
        "id": "Gby8qdr8Tqkh",
        "colab_type": "text"
      },
      "cell_type": "markdown",
      "source": [
        "### String Quoting"
      ]
    },
    {
      "metadata": {
        "id": "YYUhAN5NTuu3",
        "colab_type": "text"
      },
      "cell_type": "markdown",
      "source": [
        "#### Triple Strings"
      ]
    },
    {
      "metadata": {
        "id": "spMcAUfWTxB7",
        "colab_type": "code",
        "colab": {}
      },
      "cell_type": "code",
      "source": [
        "a_very_large_phrase = \"\"\"\n",
        "Wikipedia is hosted by the Wikimedia Foundation, \n",
        "a non-profit organization that also hosts a range of other projects.\n",
        "\"\"\"\n"
      ],
      "execution_count": 0,
      "outputs": []
    },
    {
      "metadata": {
        "id": "XAMwuppiVn22",
        "colab_type": "text"
      },
      "cell_type": "markdown",
      "source": [
        "#### Raw Strings"
      ]
    },
    {
      "metadata": {
        "id": "txx8Ps8hVqf5",
        "colab_type": "code",
        "colab": {
          "base_uri": "https://localhost:8080/",
          "height": 34
        },
        "outputId": "31794ea0-31c6-456d-9107-5edbcc54225f"
      },
      "cell_type": "code",
      "source": [
        "jon_jones = r'...wrote on twitter he is the greatest \"heavyw8e! fighter of all time'\n",
        "jon_jones"
      ],
      "execution_count": 7,
      "outputs": [
        {
          "output_type": "execute_result",
          "data": {
            "text/plain": [
              "'...wrote on twitter he is the greatest \"heavyw8e! fighter of all time'"
            ]
          },
          "metadata": {
            "tags": []
          },
          "execution_count": 7
        }
      ]
    },
    {
      "metadata": {
        "id": "UGTLKXycWNPE",
        "colab_type": "text"
      },
      "cell_type": "markdown",
      "source": [
        "### Replacing"
      ]
    },
    {
      "metadata": {
        "id": "AYGTPDPGYM65",
        "colab_type": "code",
        "colab": {
          "base_uri": "https://localhost:8080/",
          "height": 54
        },
        "outputId": "49586de0-1f00-415f-a2aa-b370049ea6b2"
      },
      "cell_type": "code",
      "source": [
        "a_very_large_phrase\n"
      ],
      "execution_count": 11,
      "outputs": [
        {
          "output_type": "execute_result",
          "data": {
            "text/plain": [
              "'\\nWikipedia is hosted by the Wikimedia Foundation, \\na non-profit organization that also hosts a range of other projects.\\n'"
            ]
          },
          "metadata": {
            "tags": []
          },
          "execution_count": 11
        }
      ]
    },
    {
      "metadata": {
        "id": "OuN6IfmxYYsT",
        "colab_type": "code",
        "colab": {
          "base_uri": "https://localhost:8080/",
          "height": 54
        },
        "outputId": "631990bd-b4f2-4667-e4c5-ea5cca28562a"
      },
      "cell_type": "code",
      "source": [
        "a_very_large_phrase.replace(\"\\n\", \"\")"
      ],
      "execution_count": 17,
      "outputs": [
        {
          "output_type": "execute_result",
          "data": {
            "text/plain": [
              "'Wikipedia is hosted by the Wikimedia Foundation, a non-profit organization that also hosts a range of other projects.'"
            ]
          },
          "metadata": {
            "tags": []
          },
          "execution_count": 17
        }
      ]
    },
    {
      "metadata": {
        "id": "uFr9RyXCZENG",
        "colab_type": "text"
      },
      "cell_type": "markdown",
      "source": [
        "### Stripping"
      ]
    },
    {
      "metadata": {
        "id": "eEkEIy1iZDBP",
        "colab_type": "code",
        "colab": {
          "base_uri": "https://localhost:8080/",
          "height": 34
        },
        "outputId": "c25a979f-2d0f-4b9a-9c91-08bbe2753192"
      },
      "cell_type": "code",
      "source": [
        "annoying_text = \"A half-formed sent\"\n",
        "annoying_text.rstrip(\" sent\")"
      ],
      "execution_count": 19,
      "outputs": [
        {
          "output_type": "execute_result",
          "data": {
            "text/plain": [
              "'A half-formed'"
            ]
          },
          "metadata": {
            "tags": []
          },
          "execution_count": 19
        }
      ]
    },
    {
      "metadata": {
        "id": "rWTfYVmKYExR",
        "colab_type": "text"
      },
      "cell_type": "markdown",
      "source": [
        "### Splitting"
      ]
    },
    {
      "metadata": {
        "id": "ucL5SzDHWTI6",
        "colab_type": "code",
        "colab": {
          "base_uri": "https://localhost:8080/",
          "height": 34
        },
        "outputId": "f3438684-dd2e-4b2f-d72a-0f5411458d30"
      },
      "cell_type": "code",
      "source": [
        "shopping_list = \"Carrots, apples, oranges\"\n",
        "shopping_list.split(\",\")"
      ],
      "execution_count": 8,
      "outputs": [
        {
          "output_type": "execute_result",
          "data": {
            "text/plain": [
              "['Carrots', ' apples', ' oranges']"
            ]
          },
          "metadata": {
            "tags": []
          },
          "execution_count": 8
        }
      ]
    },
    {
      "metadata": {
        "colab_type": "text",
        "id": "7d0IbqU8Sslw"
      },
      "cell_type": "markdown",
      "source": [
        "## 4.3 Manipulate strings "
      ]
    },
    {
      "metadata": {
        "id": "VFczXfuzQmgL",
        "colab_type": "text"
      },
      "cell_type": "markdown",
      "source": [
        "### Membership"
      ]
    },
    {
      "metadata": {
        "colab_type": "code",
        "id": "fJ-HzGr_NmAn",
        "colab": {}
      },
      "cell_type": "code",
      "source": [
        "'Rob' in \"Robert Henry Wonderson\""
      ],
      "execution_count": 0,
      "outputs": []
    },
    {
      "metadata": {
        "colab_type": "code",
        "id": "UnyBeXtFNyYa",
        "colab": {}
      },
      "cell_type": "code",
      "source": [
        "\"Bob\" not in \"Robert Henry Wonderson\""
      ],
      "execution_count": 0,
      "outputs": []
    },
    {
      "metadata": {
        "id": "dglY8AFpUSyO",
        "colab_type": "text"
      },
      "cell_type": "markdown",
      "source": [
        "### Concatenation"
      ]
    },
    {
      "metadata": {
        "colab_type": "code",
        "id": "LQCXMZpyN22h",
        "colab": {}
      },
      "cell_type": "code",
      "source": [
        "\"Bob\" + \"beroo\""
      ],
      "execution_count": 0,
      "outputs": []
    },
    {
      "metadata": {
        "colab_type": "code",
        "id": "mxjlBRMEN_zB",
        "colab": {}
      },
      "cell_type": "code",
      "source": [
        "\"AB\" * 8"
      ],
      "execution_count": 0,
      "outputs": []
    },
    {
      "metadata": {
        "id": "lSGwfbgjUnGX",
        "colab_type": "text"
      },
      "cell_type": "markdown",
      "source": [
        "### Slicing"
      ]
    },
    {
      "metadata": {
        "colab_type": "code",
        "id": "jWDDLCi7OEgA",
        "colab": {}
      },
      "cell_type": "code",
      "source": [
        "collector = \"William Main Doerflinger\"\n",
        "collector[0]"
      ],
      "execution_count": 0,
      "outputs": []
    },
    {
      "metadata": {
        "colab_type": "code",
        "id": "ENIzTZ5ZO-9p",
        "colab": {}
      },
      "cell_type": "code",
      "source": [
        "collector[-1]"
      ],
      "execution_count": 0,
      "outputs": []
    },
    {
      "metadata": {
        "colab_type": "code",
        "id": "e-higk4NPBqn",
        "colab": {}
      },
      "cell_type": "code",
      "source": [
        "collector[13:18]"
      ],
      "execution_count": 0,
      "outputs": []
    },
    {
      "metadata": {
        "colab_type": "code",
        "id": "kruilXhaPQ81",
        "colab": {}
      },
      "cell_type": "code",
      "source": [
        "collector[-7:]"
      ],
      "execution_count": 0,
      "outputs": []
    },
    {
      "metadata": {
        "colab_type": "code",
        "id": "LaK01EsbPIZ3",
        "colab": {}
      },
      "cell_type": "code",
      "source": [
        "len(collector)"
      ],
      "execution_count": 0,
      "outputs": []
    },
    {
      "metadata": {
        "colab_type": "text",
        "id": "MdBlKNdUMcQQ"
      },
      "cell_type": "markdown",
      "source": [
        "More information: [common sequence operations](https://docs.python.org/3/library/stdtypes.html#typesseq-common)\n"
      ]
    },
    {
      "metadata": {
        "colab_type": "text",
        "id": "BQpIi5ZASzd8"
      },
      "cell_type": "markdown",
      "source": [
        "## 4.4 Learn to use unicode"
      ]
    },
    {
      "metadata": {
        "id": "fC1n_VfJVT7e",
        "colab_type": "text"
      },
      "cell_type": "markdown",
      "source": [
        "### Encode"
      ]
    },
    {
      "metadata": {
        "colab_type": "code",
        "id": "MbxFwOd1iCcF",
        "colab": {}
      },
      "cell_type": "code",
      "source": [
        "# encode, casefold\n",
        "twice_pie = 'ππ'\n",
        "twice_pie"
      ],
      "execution_count": 0,
      "outputs": []
    },
    {
      "metadata": {
        "id": "KdKciMP1BV_1",
        "colab_type": "code",
        "colab": {}
      },
      "cell_type": "code",
      "source": [
        "twice_π = twice_pie\n",
        "twice_π"
      ],
      "execution_count": 0,
      "outputs": []
    },
    {
      "metadata": {
        "id": "akJBiL6mBV_1",
        "colab_type": "code",
        "colab": {}
      },
      "cell_type": "code",
      "source": [
        "pie = \"\\N{GREEK CAPITAL LETTER PI}\"\n",
        "pie"
      ],
      "execution_count": 0,
      "outputs": []
    },
    {
      "metadata": {
        "id": "PpTRKo5-BV_2",
        "colab_type": "code",
        "colab": {}
      },
      "cell_type": "code",
      "source": [
        "ord(pie)"
      ],
      "execution_count": 0,
      "outputs": []
    },
    {
      "metadata": {
        "id": "5GycnVteBV_3",
        "colab_type": "code",
        "colab": {}
      },
      "cell_type": "code",
      "source": [
        "chr(928)"
      ],
      "execution_count": 0,
      "outputs": []
    },
    {
      "metadata": {
        "id": "zvK_zexPBV_4",
        "colab_type": "code",
        "colab": {}
      },
      "cell_type": "code",
      "source": [
        "u = chr(40960) + 'abcd' + chr(1972)\n",
        "u.encode('utf-8')\n",
        "u"
      ],
      "execution_count": 0,
      "outputs": []
    },
    {
      "metadata": {
        "id": "c2a2TylyVYOS",
        "colab_type": "text"
      },
      "cell_type": "markdown",
      "source": [
        "### Saving File in Unicode "
      ]
    },
    {
      "metadata": {
        "id": "MY8ElZT0BV_8",
        "colab_type": "code",
        "outputId": "c51d30a3-a621-4128-9164-a4625f04e51d",
        "colab": {
          "base_uri": "https://localhost:8080/",
          "height": 34
        }
      },
      "cell_type": "code",
      "source": [
        "with open(\"new_file.txt\", \"w\", encoding='utf-8') as opened_file:\n",
        "  opened_file.write(\"Søme Unˆcode text\")\n",
        "  \n",
        "!cat new_file.txt\n",
        "  "
      ],
      "execution_count": 0,
      "outputs": [
        {
          "output_type": "stream",
          "text": [
            "Søme Unˆcode text"
          ],
          "name": "stdout"
        }
      ]
    },
    {
      "metadata": {
        "colab_type": "text",
        "id": "mrlk--OrXZDc"
      },
      "cell_type": "markdown",
      "source": [
        "[Unicode](https://docs.python.org/3/howto/unicode.html)"
      ]
    },
    {
      "metadata": {
        "colab_type": "text",
        "id": "leSOwe1iTSkX"
      },
      "cell_type": "markdown",
      "source": [
        "## Notes\n",
        "\n"
      ]
    }
  ]
}