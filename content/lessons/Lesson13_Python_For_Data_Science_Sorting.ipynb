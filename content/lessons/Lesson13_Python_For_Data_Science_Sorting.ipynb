{
  "nbformat": 4,
  "nbformat_minor": 0,
  "metadata": {
    "colab": {
      "name": "Lesson13-Python For Data Science-Sorting.ipynb",
      "version": "0.3.2",
      "provenance": [],
      "collapsed_sections": [
        "4z2e2QHV4EvD",
        "7PISBoZr4xgp",
        "iQawn9MQJIph",
        "loWnoGY8OPLA"
      ],
      "include_colab_link": true
    },
    "kernelspec": {
      "name": "python3",
      "display_name": "Python 3"
    }
  },
  "cells": [
    {
      "cell_type": "markdown",
      "metadata": {
        "id": "view-in-github",
        "colab_type": "text"
      },
      "source": [
        "<a href=\"https://colab.research.google.com/github/paiml/python_for_datascience/blob/master/Lesson13_Python_For_Data_Science_Sorting.ipynb\" target=\"_parent\"><img src=\"https://colab.research.google.com/assets/colab-badge.svg\" alt=\"Open In Colab\"/></a>"
      ]
    },
    {
      "metadata": {
        "id": "spdivf2TMnGC",
        "colab_type": "text"
      },
      "cell_type": "markdown",
      "source": [
        "# Lesson 13 Sorting\n"
      ]
    },
    {
      "metadata": {
        "id": "qqAIvhP5N4iu",
        "colab_type": "text"
      },
      "cell_type": "markdown",
      "source": [
        "## 13.1 Sort in python"
      ]
    },
    {
      "metadata": {
        "id": "quAhiuBw-sq9",
        "colab_type": "text"
      },
      "cell_type": "markdown",
      "source": [
        "### Understanding Sorting\n",
        "\n",
        "Python has powerful built-in sorting\n"
      ]
    },
    {
      "metadata": {
        "id": "wwHjj7Br-sUk",
        "colab_type": "text"
      },
      "cell_type": "markdown",
      "source": [
        "#### World Food Facts DataSet "
      ]
    },
    {
      "metadata": {
        "id": "yY9gKLFD-03J",
        "colab_type": "text"
      },
      "cell_type": "markdown",
      "source": [
        "* Original Data Source:  https://www.kaggle.com/openfoodfacts/world-food-facts\n",
        "* Modified Source:  https://www.kaggle.com/lwodarzek/nutrition-table-clustering/output"
      ]
    },
    {
      "metadata": {
        "id": "Y8a6auMZTzoa",
        "colab_type": "text"
      },
      "cell_type": "markdown",
      "source": [
        "##### Ingest"
      ]
    },
    {
      "metadata": {
        "id": "co7HfeLmvvZV",
        "colab_type": "code",
        "colab": {}
      },
      "cell_type": "code",
      "source": [
        "import pandas as pd"
      ],
      "execution_count": 0,
      "outputs": []
    },
    {
      "metadata": {
        "id": "77Ih-vxcv-BR",
        "colab_type": "code",
        "colab": {
          "base_uri": "https://localhost:8080/",
          "height": 198
        },
        "outputId": "036dec7f-5444-44f5-8ac2-3972b44d0014"
      },
      "cell_type": "code",
      "source": [
        "df = pd.read_csv(\n",
        "    \"https://raw.githubusercontent.com/noahgift/food/master/data/features.en.openfoodfacts.org.products.csv\")\n",
        "df.drop([\"Unnamed: 0\", \"exceeded\", \"g_sum\", \"energy_100g\"], axis=1, inplace=True) #drop two rows we don't need\n",
        "df = df.drop(df.index[[1,11877]]) #drop outlier\n",
        "df.rename(index=str, columns={\"reconstructed_energy\": \"energy_100g\"}, inplace=True)\n",
        "df.head()"
      ],
      "execution_count": 4,
      "outputs": [
        {
          "output_type": "execute_result",
          "data": {
            "text/html": [
              "<div>\n",
              "<style scoped>\n",
              "    .dataframe tbody tr th:only-of-type {\n",
              "        vertical-align: middle;\n",
              "    }\n",
              "\n",
              "    .dataframe tbody tr th {\n",
              "        vertical-align: top;\n",
              "    }\n",
              "\n",
              "    .dataframe thead th {\n",
              "        text-align: right;\n",
              "    }\n",
              "</style>\n",
              "<table border=\"1\" class=\"dataframe\">\n",
              "  <thead>\n",
              "    <tr style=\"text-align: right;\">\n",
              "      <th></th>\n",
              "      <th>fat_100g</th>\n",
              "      <th>carbohydrates_100g</th>\n",
              "      <th>sugars_100g</th>\n",
              "      <th>proteins_100g</th>\n",
              "      <th>salt_100g</th>\n",
              "      <th>energy_100g</th>\n",
              "      <th>product</th>\n",
              "    </tr>\n",
              "  </thead>\n",
              "  <tbody>\n",
              "    <tr>\n",
              "      <th>0</th>\n",
              "      <td>28.57</td>\n",
              "      <td>64.29</td>\n",
              "      <td>14.29</td>\n",
              "      <td>3.57</td>\n",
              "      <td>0.00000</td>\n",
              "      <td>2267.85</td>\n",
              "      <td>Banana Chips Sweetened (Whole)</td>\n",
              "    </tr>\n",
              "    <tr>\n",
              "      <th>2</th>\n",
              "      <td>57.14</td>\n",
              "      <td>17.86</td>\n",
              "      <td>3.57</td>\n",
              "      <td>17.86</td>\n",
              "      <td>1.22428</td>\n",
              "      <td>2835.70</td>\n",
              "      <td>Organic Salted Nut Mix</td>\n",
              "    </tr>\n",
              "    <tr>\n",
              "      <th>3</th>\n",
              "      <td>18.75</td>\n",
              "      <td>57.81</td>\n",
              "      <td>15.62</td>\n",
              "      <td>14.06</td>\n",
              "      <td>0.13970</td>\n",
              "      <td>1953.04</td>\n",
              "      <td>Organic Muesli</td>\n",
              "    </tr>\n",
              "    <tr>\n",
              "      <th>4</th>\n",
              "      <td>36.67</td>\n",
              "      <td>36.67</td>\n",
              "      <td>3.33</td>\n",
              "      <td>16.67</td>\n",
              "      <td>1.60782</td>\n",
              "      <td>2336.91</td>\n",
              "      <td>Zen Party Mix</td>\n",
              "    </tr>\n",
              "    <tr>\n",
              "      <th>5</th>\n",
              "      <td>18.18</td>\n",
              "      <td>60.00</td>\n",
              "      <td>21.82</td>\n",
              "      <td>14.55</td>\n",
              "      <td>0.02286</td>\n",
              "      <td>1976.37</td>\n",
              "      <td>Cinnamon Nut Granola</td>\n",
              "    </tr>\n",
              "  </tbody>\n",
              "</table>\n",
              "</div>"
            ],
            "text/plain": [
              "   fat_100g  carbohydrates_100g  sugars_100g  proteins_100g  salt_100g  \\\n",
              "0     28.57               64.29        14.29           3.57    0.00000   \n",
              "2     57.14               17.86         3.57          17.86    1.22428   \n",
              "3     18.75               57.81        15.62          14.06    0.13970   \n",
              "4     36.67               36.67         3.33          16.67    1.60782   \n",
              "5     18.18               60.00        21.82          14.55    0.02286   \n",
              "\n",
              "   energy_100g                         product  \n",
              "0      2267.85  Banana Chips Sweetened (Whole)  \n",
              "2      2835.70          Organic Salted Nut Mix  \n",
              "3      1953.04                  Organic Muesli  \n",
              "4      2336.91                   Zen Party Mix  \n",
              "5      1976.37            Cinnamon Nut Granola  "
            ]
          },
          "metadata": {
            "tags": []
          },
          "execution_count": 4
        }
      ]
    },
    {
      "metadata": {
        "id": "GC88vFkPQwLO",
        "colab_type": "text"
      },
      "cell_type": "markdown",
      "source": [
        "#### Using built-in sorting\n",
        "\n",
        "Convert Pandas DataFrame Columns into a list"
      ]
    },
    {
      "metadata": {
        "id": "-7lMsgk3Qz0m",
        "colab_type": "code",
        "outputId": "66b898f7-f746-4089-b0f9-a90da3a895b8",
        "colab": {
          "base_uri": "https://localhost:8080/",
          "height": 138
        }
      },
      "cell_type": "code",
      "source": [
        "food_facts = list(df.columns.values)\n",
        "food_facts"
      ],
      "execution_count": 0,
      "outputs": [
        {
          "output_type": "execute_result",
          "data": {
            "text/plain": [
              "['fat_100g',\n",
              " 'carbohydrates_100g',\n",
              " 'sugars_100g',\n",
              " 'proteins_100g',\n",
              " 'salt_100g',\n",
              " 'energy_100g',\n",
              " 'product']"
            ]
          },
          "metadata": {
            "tags": []
          },
          "execution_count": 5
        }
      ]
    },
    {
      "metadata": {
        "id": "4z2e2QHV4EvD",
        "colab_type": "text"
      },
      "cell_type": "markdown",
      "source": [
        "##### Alphabetical Sort"
      ]
    },
    {
      "metadata": {
        "id": "4_PU9Buv3wiT",
        "colab_type": "code",
        "outputId": "18476afe-441d-4fcd-fa99-adfa5fa0ca3a",
        "colab": {
          "base_uri": "https://localhost:8080/",
          "height": 138
        }
      },
      "cell_type": "code",
      "source": [
        "sorted(food_facts)"
      ],
      "execution_count": 0,
      "outputs": [
        {
          "output_type": "execute_result",
          "data": {
            "text/plain": [
              "['carbohydrates_100g',\n",
              " 'energy_100g',\n",
              " 'fat_100g',\n",
              " 'product',\n",
              " 'proteins_100g',\n",
              " 'salt_100g',\n",
              " 'sugars_100g']"
            ]
          },
          "metadata": {
            "tags": []
          },
          "execution_count": 7
        }
      ]
    },
    {
      "metadata": {
        "id": "7PISBoZr4xgp",
        "colab_type": "text"
      },
      "cell_type": "markdown",
      "source": [
        "##### Reverse Alphabetical Sort"
      ]
    },
    {
      "metadata": {
        "id": "kn27GHO640j7",
        "colab_type": "code",
        "outputId": "c7152183-03a8-449d-f8e1-894fc3e12825",
        "colab": {
          "base_uri": "https://localhost:8080/",
          "height": 138
        }
      },
      "cell_type": "code",
      "source": [
        "sorted(food_facts, reverse=True)"
      ],
      "execution_count": 0,
      "outputs": [
        {
          "output_type": "execute_result",
          "data": {
            "text/plain": [
              "['sugars_100g',\n",
              " 'salt_100g',\n",
              " 'proteins_100g',\n",
              " 'product',\n",
              " 'fat_100g',\n",
              " 'energy_100g',\n",
              " 'carbohydrates_100g']"
            ]
          },
          "metadata": {
            "tags": []
          },
          "execution_count": 8
        }
      ]
    },
    {
      "metadata": {
        "id": "OqDh2Tdz5xoX",
        "colab_type": "text"
      },
      "cell_type": "markdown",
      "source": [
        "##### Using built in list sort"
      ]
    },
    {
      "metadata": {
        "id": "mL_jSyb16ANi",
        "colab_type": "text"
      },
      "cell_type": "markdown",
      "source": [
        "Only works on a list"
      ]
    },
    {
      "metadata": {
        "id": "IYVo0SlR6FFF",
        "colab_type": "code",
        "outputId": "f39041a6-e95e-493f-c03d-dbbcbc06d9b0",
        "colab": {
          "base_uri": "https://localhost:8080/",
          "height": 72
        }
      },
      "cell_type": "code",
      "source": [
        "food_facts = list(df.columns.values)\n",
        "print(f\"Before sort: {food_facts}\")\n",
        "food_facts.sort()\n",
        "print(f\"After sort: {food_facts}\")\n"
      ],
      "execution_count": 0,
      "outputs": [
        {
          "output_type": "stream",
          "text": [
            "Before sort: ['fat_100g', 'carbohydrates_100g', 'sugars_100g', 'proteins_100g', 'salt_100g', 'energy_100g', 'product']\n",
            "After sort: ['carbohydrates_100g', 'energy_100g', 'fat_100g', 'product', 'proteins_100g', 'salt_100g', 'sugars_100g']\n"
          ],
          "name": "stdout"
        }
      ]
    },
    {
      "metadata": {
        "id": "LRZ_0TGH6oB4",
        "colab_type": "text"
      },
      "cell_type": "markdown",
      "source": [
        "##### Timing built-in sort function vs list sort method"
      ]
    },
    {
      "metadata": {
        "id": "ytsl-5Mj68XH",
        "colab_type": "text"
      },
      "cell_type": "markdown",
      "source": [
        "list method"
      ]
    },
    {
      "metadata": {
        "id": "V2nnwt9s7DWL",
        "colab_type": "code",
        "colab": {}
      },
      "cell_type": "code",
      "source": [
        "food_facts = list(df.columns.values)"
      ],
      "execution_count": 0,
      "outputs": []
    },
    {
      "metadata": {
        "id": "vcQ36Evq6z5h",
        "colab_type": "code",
        "outputId": "a1aadeed-7780-4b0e-a6d0-1f04ed989662",
        "colab": {
          "base_uri": "https://localhost:8080/",
          "height": 35
        }
      },
      "cell_type": "code",
      "source": [
        "%%timeit -n 3 -r 3\n",
        "food_facts.sort()\n",
        "\n"
      ],
      "execution_count": 0,
      "outputs": [
        {
          "output_type": "stream",
          "text": [
            "3 loops, best of 3: 307 ns per loop\n"
          ],
          "name": "stdout"
        }
      ]
    },
    {
      "metadata": {
        "id": "QhPpYNaM7JJb",
        "colab_type": "text"
      },
      "cell_type": "markdown",
      "source": [
        "built in function"
      ]
    },
    {
      "metadata": {
        "id": "ue1XDqAc7LDJ",
        "colab_type": "code",
        "colab": {}
      },
      "cell_type": "code",
      "source": [
        "food_facts = list(df.columns.values)"
      ],
      "execution_count": 0,
      "outputs": []
    },
    {
      "metadata": {
        "id": "ZaIestd37Mrt",
        "colab_type": "code",
        "outputId": "7248d771-1653-4d0d-88e5-fe446ecac54e",
        "colab": {
          "base_uri": "https://localhost:8080/",
          "height": 35
        }
      },
      "cell_type": "code",
      "source": [
        "%%timeit -n 3 -r 3\n",
        "sorted(food_facts)"
      ],
      "execution_count": 0,
      "outputs": [
        {
          "output_type": "stream",
          "text": [
            "3 loops, best of 3: 513 ns per loop\n"
          ],
          "name": "stdout"
        }
      ]
    },
    {
      "metadata": {
        "id": "RSggCymO8nny",
        "colab_type": "text"
      },
      "cell_type": "markdown",
      "source": [
        "#### Sorting Dictionary"
      ]
    },
    {
      "metadata": {
        "id": "2Q3ukiyB9jLG",
        "colab_type": "text"
      },
      "cell_type": "markdown",
      "source": [
        "sorting a dictionary"
      ]
    },
    {
      "metadata": {
        "id": "GSBRp6_q9Omq",
        "colab_type": "code",
        "outputId": "f2841c22-8edc-4291-80ff-cfe3413f2607",
        "colab": {
          "base_uri": "https://localhost:8080/",
          "height": 138
        }
      },
      "cell_type": "code",
      "source": [
        "food_facts_row = df.head(1).to_dict()\n",
        "food_facts_row"
      ],
      "execution_count": 0,
      "outputs": [
        {
          "output_type": "execute_result",
          "data": {
            "text/plain": [
              "{'carbohydrates_100g': {'0': 64.29},\n",
              " 'energy_100g': {'0': 2267.85},\n",
              " 'fat_100g': {'0': 28.57},\n",
              " 'product': {'0': 'Banana Chips Sweetened (Whole)'},\n",
              " 'proteins_100g': {'0': 3.57},\n",
              " 'salt_100g': {'0': 0.0},\n",
              " 'sugars_100g': {'0': 14.29}}"
            ]
          },
          "metadata": {
            "tags": []
          },
          "execution_count": 40
        }
      ]
    },
    {
      "metadata": {
        "id": "SatiHTXJ_Teq",
        "colab_type": "text"
      },
      "cell_type": "markdown",
      "source": [
        "reverse sort dictionary"
      ]
    },
    {
      "metadata": {
        "id": "qhUojdlf9oSI",
        "colab_type": "code",
        "outputId": "0eb99d40-c415-483f-fbce-bbafe5bb344b",
        "colab": {
          "base_uri": "https://localhost:8080/",
          "height": 138
        }
      },
      "cell_type": "code",
      "source": [
        "sorted(food_facts_row, reverse=True)"
      ],
      "execution_count": 0,
      "outputs": [
        {
          "output_type": "execute_result",
          "data": {
            "text/plain": [
              "['sugars_100g',\n",
              " 'salt_100g',\n",
              " 'proteins_100g',\n",
              " 'product',\n",
              " 'fat_100g',\n",
              " 'energy_100g',\n",
              " 'carbohydrates_100g']"
            ]
          },
          "metadata": {
            "tags": []
          },
          "execution_count": 42
        }
      ]
    },
    {
      "metadata": {
        "id": "4-TPMSwWADEf",
        "colab_type": "code",
        "outputId": "e5cc5fd6-b2ff-484b-dd18-10cbb99d03e3",
        "colab": {
          "base_uri": "https://localhost:8080/",
          "height": 69
        }
      },
      "cell_type": "code",
      "source": [
        "df[\"product\"].head().values"
      ],
      "execution_count": 0,
      "outputs": [
        {
          "output_type": "execute_result",
          "data": {
            "text/plain": [
              "array(['Banana Chips Sweetened (Whole)', 'Organic Salted Nut Mix',\n",
              "       'Organic Muesli', 'Zen Party Mix', 'Cinnamon Nut Granola'],\n",
              "      dtype=object)"
            ]
          },
          "metadata": {
            "tags": []
          },
          "execution_count": 46
        }
      ]
    },
    {
      "metadata": {
        "id": "Em50pLNG_cYo",
        "colab_type": "text"
      },
      "cell_type": "markdown",
      "source": [
        "#### Sorting A Generator Pipeline"
      ]
    },
    {
      "metadata": {
        "id": "uYo2NlNh_sHR",
        "colab_type": "code",
        "colab": {}
      },
      "cell_type": "code",
      "source": [
        "def dataframe_rows(df=df, column=\"product\", chunks=10):\n",
        "  \n",
        "    count_row = df.shape[0]\n",
        "    rows = list(df[column].values)\n",
        "    for i in range(0, count_row, chunks):\n",
        "      yield rows[i:i + chunks]\n",
        "    \n",
        "    "
      ],
      "execution_count": 0,
      "outputs": []
    },
    {
      "metadata": {
        "id": "6Po9GpYABmxD",
        "colab_type": "code",
        "outputId": "1a7fccdd-70b5-41ac-b23b-de947c1f52e7",
        "colab": {
          "base_uri": "https://localhost:8080/",
          "height": 190
        }
      },
      "cell_type": "code",
      "source": [
        "rows = dataframe_rows()\n",
        "next(rows)\n"
      ],
      "execution_count": 6,
      "outputs": [
        {
          "output_type": "execute_result",
          "data": {
            "text/plain": [
              "['Banana Chips Sweetened (Whole)',\n",
              " 'Organic Salted Nut Mix',\n",
              " 'Organic Muesli',\n",
              " 'Zen Party Mix',\n",
              " 'Cinnamon Nut Granola',\n",
              " 'Organic Hazelnuts',\n",
              " 'Organic Oat Groats',\n",
              " 'Energy Power Mix',\n",
              " 'Antioxidant Mix - Berries & Chocolate',\n",
              " 'Organic Quinoa Coconut Granola With Mango']"
            ]
          },
          "metadata": {
            "tags": []
          },
          "execution_count": 6
        }
      ]
    },
    {
      "metadata": {
        "id": "1Ka1vYOzHgSn",
        "colab_type": "code",
        "outputId": "cb31e342-a73f-4859-df9e-163b34eec74f",
        "colab": {
          "base_uri": "https://localhost:8080/",
          "height": 190
        }
      },
      "cell_type": "code",
      "source": [
        "next(rows)"
      ],
      "execution_count": 7,
      "outputs": [
        {
          "output_type": "execute_result",
          "data": {
            "text/plain": [
              "['Fire Roasted Hatch Green Chile Almonds',\n",
              " 'Peanut Butter Power Chews',\n",
              " 'Organic Unswt Berry Coconut Granola',\n",
              " 'Roasted Salted Black Pepper Cashews',\n",
              " 'Thai Curry Roasted Cashews',\n",
              " 'Wasabi Tamari Almonds',\n",
              " 'Organic Red Quinoa',\n",
              " 'Dark Chocolate Coconut Chews',\n",
              " 'Organic Unsweetened Granola, Cinnamon Almond',\n",
              " 'Organic Blueberry Almond Granola']"
            ]
          },
          "metadata": {
            "tags": []
          },
          "execution_count": 7
        }
      ]
    },
    {
      "metadata": {
        "id": "YbEsKMqYHpuR",
        "colab_type": "code",
        "outputId": "2f63b969-5517-4de2-a6c4-39d7c706d0d9",
        "colab": {
          "base_uri": "https://localhost:8080/",
          "height": 55
        }
      },
      "cell_type": "code",
      "source": [
        "sorted_row = (sorted(row) for row in rows )\n",
        "print(next(sorted_row))"
      ],
      "execution_count": 8,
      "outputs": [
        {
          "output_type": "stream",
          "text": [
            "['35% Fruit And Fiber Muesli', \"Aunt Ginger's Snappy Granola\", 'Coconut Almond Granola', 'Dark Chocolate Sea Salt & Turbinado Almonds', 'Maple Almond Granola', 'Organic Coconut Chips', 'Organic Garbanzo Beans', 'Organic Yellow Split Peas', 'Super Nutty Granola', 'Tricolor Tortellini']\n"
          ],
          "name": "stdout"
        }
      ]
    },
    {
      "metadata": {
        "colab_type": "text",
        "id": "1VErz5Z7g0v7"
      },
      "cell_type": "markdown",
      "source": [
        "## 13.2 Create custom sorting functions"
      ]
    },
    {
      "metadata": {
        "id": "Sa-OqhQgIwl4",
        "colab_type": "text"
      },
      "cell_type": "markdown",
      "source": [
        "### Building a Shuffle Function"
      ]
    },
    {
      "metadata": {
        "id": "UstkrDyVI1gM",
        "colab_type": "code",
        "colab": {}
      },
      "cell_type": "code",
      "source": [
        "food_items = ['Chocolate Nut Crunch', 'Cranberries', 'Curry Lentil Soup Mix', \n",
        "                'Milk Chocolate Peanut Butter Malt Balls', 'Organic Harvest Pilaf', \n",
        "                'Organic Tamari Pumpkin Seed', 'Split Pea Soup Mix', \n",
        "                'Swiss-Style Muesli', \"Whole Wheat 'N Honey Fig Bars\", \n",
        "                'Yogurt Pretzels']\n"
      ],
      "execution_count": 0,
      "outputs": []
    },
    {
      "metadata": {
        "id": "3NCAIctKI4ZT",
        "colab_type": "code",
        "colab": {}
      },
      "cell_type": "code",
      "source": [
        "from random import sample\n",
        "\n",
        "def shuffle_list(items):\n",
        "  \"\"\"Randomly Shuffles List\"\"\"\n",
        "  \n",
        "  shuffled = sample(items, len(items))\n",
        "  return shuffled\n",
        "  "
      ],
      "execution_count": 0,
      "outputs": []
    },
    {
      "metadata": {
        "id": "0NjLGWrSKB9y",
        "colab_type": "code",
        "outputId": "f32b66eb-0685-483e-bf4c-3cebf3c0e4e6",
        "colab": {
          "base_uri": "https://localhost:8080/",
          "height": 190
        }
      },
      "cell_type": "code",
      "source": [
        "shuffled_food_items = shuffle_list(food_items)\n",
        "shuffled_food_items"
      ],
      "execution_count": 0,
      "outputs": [
        {
          "output_type": "execute_result",
          "data": {
            "text/plain": [
              "[\"Whole Wheat 'N Honey Fig Bars\",\n",
              " 'Organic Harvest Pilaf',\n",
              " 'Chocolate Nut Crunch',\n",
              " 'Organic Tamari Pumpkin Seed',\n",
              " 'Milk Chocolate Peanut Butter Malt Balls',\n",
              " 'Yogurt Pretzels',\n",
              " 'Split Pea Soup Mix',\n",
              " 'Swiss-Style Muesli',\n",
              " 'Curry Lentil Soup Mix',\n",
              " 'Cranberries']"
            ]
          },
          "metadata": {
            "tags": []
          },
          "execution_count": 93
        }
      ]
    },
    {
      "metadata": {
        "id": "i_Skh8l8S6re",
        "colab_type": "text"
      },
      "cell_type": "markdown",
      "source": [
        "### Custom Sort Functions"
      ]
    },
    {
      "metadata": {
        "id": "OrWriGn-S_S6",
        "colab_type": "text"
      },
      "cell_type": "markdown",
      "source": [
        "#### Highly Customized Sort"
      ]
    },
    {
      "metadata": {
        "id": "IRoNvB9RS_fM",
        "colab_type": "code",
        "outputId": "2c573129-a4cc-4640-b1e5-0ba37c53a38e",
        "colab": {
          "base_uri": "https://localhost:8080/",
          "height": 190
        }
      },
      "cell_type": "code",
      "source": [
        "def best_snack(item):\n",
        "  if item == \"Chocolate Nut Crunch\":\n",
        "    return 1\n",
        "  return len(item) \n",
        "\n",
        "sorted(shuffled_food_items, key=best_snack)"
      ],
      "execution_count": 0,
      "outputs": [
        {
          "output_type": "execute_result",
          "data": {
            "text/plain": [
              "['Chocolate Nut Crunch',\n",
              " 'Cranberries',\n",
              " 'Yogurt Pretzels',\n",
              " 'Split Pea Soup Mix',\n",
              " 'Swiss-Style Muesli',\n",
              " 'Organic Harvest Pilaf',\n",
              " 'Curry Lentil Soup Mix',\n",
              " 'Organic Tamari Pumpkin Seed',\n",
              " \"Whole Wheat 'N Honey Fig Bars\",\n",
              " 'Milk Chocolate Peanut Butter Malt Balls']"
            ]
          },
          "metadata": {
            "tags": []
          },
          "execution_count": 94
        }
      ]
    },
    {
      "metadata": {
        "id": "31myQds7Ns_6",
        "colab_type": "text"
      },
      "cell_type": "markdown",
      "source": [
        "#### Sorting Objects"
      ]
    },
    {
      "metadata": {
        "id": "_h35dY358Iln",
        "colab_type": "code",
        "colab": {}
      },
      "cell_type": "code",
      "source": [
        "class Food:\n",
        "  def __init__(self, product, protein):\n",
        "    self.product = product\n",
        "    self.protein = protein\n",
        "  def __repr__(self):\n",
        "    return f\"Food: {self.product}, Protein: {self.protein}\""
      ],
      "execution_count": 0,
      "outputs": []
    },
    {
      "metadata": {
        "id": "KQ4vP3E-9Cfi",
        "colab_type": "code",
        "colab": {
          "base_uri": "https://localhost:8080/",
          "height": 104
        },
        "outputId": "30d7d55a-c02f-4294-f8ab-a2298621a8a9"
      },
      "cell_type": "code",
      "source": [
        "pairs = df[[\"product\", \"proteins_100g\"]].head().values.tolist()\n",
        "pairs"
      ],
      "execution_count": 29,
      "outputs": [
        {
          "output_type": "execute_result",
          "data": {
            "text/plain": [
              "[['Banana Chips Sweetened (Whole)', 3.57],\n",
              " ['Organic Salted Nut Mix', 17.86],\n",
              " ['Organic Muesli', 14.06],\n",
              " ['Zen Party Mix', 16.67],\n",
              " ['Cinnamon Nut Granola', 14.55]]"
            ]
          },
          "metadata": {
            "tags": []
          },
          "execution_count": 29
        }
      ]
    },
    {
      "metadata": {
        "id": "CGIVqRgaPbEE",
        "colab_type": "code",
        "outputId": "a14d4666-1852-4d6d-fe8d-eac178d2539c",
        "colab": {
          "base_uri": "https://localhost:8080/",
          "height": 104
        }
      },
      "cell_type": "code",
      "source": [
        "pairs = df[[\"product\", \"proteins_100g\"]].head().values.tolist()\n",
        "foods = [Food(item[0], item[1]) for item in pairs]\n",
        "foods"
      ],
      "execution_count": 31,
      "outputs": [
        {
          "output_type": "execute_result",
          "data": {
            "text/plain": [
              "[Food: Banana Chips Sweetened (Whole), Protein: 3.57,\n",
              " Food: Organic Salted Nut Mix, Protein: 17.86,\n",
              " Food: Organic Muesli, Protein: 14.06,\n",
              " Food: Zen Party Mix, Protein: 16.67,\n",
              " Food: Cinnamon Nut Granola, Protein: 14.55]"
            ]
          },
          "metadata": {
            "tags": []
          },
          "execution_count": 31
        }
      ]
    },
    {
      "metadata": {
        "id": "mQ-Pb-AHUZQz",
        "colab_type": "code",
        "outputId": "94ca453e-405f-4ccf-fd80-12f525098140",
        "colab": {
          "base_uri": "https://localhost:8080/",
          "height": 104
        }
      },
      "cell_type": "code",
      "source": [
        "sorted(foods, key=lambda food: food.protein)\n"
      ],
      "execution_count": 32,
      "outputs": [
        {
          "output_type": "execute_result",
          "data": {
            "text/plain": [
              "[Food: Banana Chips Sweetened (Whole), Protein: 3.57,\n",
              " Food: Organic Muesli, Protein: 14.06,\n",
              " Food: Cinnamon Nut Granola, Protein: 14.55,\n",
              " Food: Zen Party Mix, Protein: 16.67,\n",
              " Food: Organic Salted Nut Mix, Protein: 17.86]"
            ]
          },
          "metadata": {
            "tags": []
          },
          "execution_count": 32
        }
      ]
    },
    {
      "metadata": {
        "colab_type": "text",
        "id": "esYhvVKHg-TM"
      },
      "cell_type": "markdown",
      "source": [
        "## 13.3 Sort in pandas"
      ]
    },
    {
      "metadata": {
        "id": "iQawn9MQJIph",
        "colab_type": "text"
      },
      "cell_type": "markdown",
      "source": [
        "### Sort by One Column:  Protein"
      ]
    },
    {
      "metadata": {
        "id": "wvmwiE7N5b2J",
        "colab_type": "code",
        "outputId": "8b72d166-1771-4504-cb5a-f32732372c54",
        "colab": {
          "base_uri": "https://localhost:8080/",
          "height": 348
        }
      },
      "cell_type": "code",
      "source": [
        "df.sort_values(by=[\"proteins_100g\"], ascending=False).head(10)"
      ],
      "execution_count": 0,
      "outputs": [
        {
          "output_type": "execute_result",
          "data": {
            "text/html": [
              "<div>\n",
              "<style scoped>\n",
              "    .dataframe tbody tr th:only-of-type {\n",
              "        vertical-align: middle;\n",
              "    }\n",
              "\n",
              "    .dataframe tbody tr th {\n",
              "        vertical-align: top;\n",
              "    }\n",
              "\n",
              "    .dataframe thead th {\n",
              "        text-align: right;\n",
              "    }\n",
              "</style>\n",
              "<table border=\"1\" class=\"dataframe\">\n",
              "  <thead>\n",
              "    <tr style=\"text-align: right;\">\n",
              "      <th></th>\n",
              "      <th>fat_100g</th>\n",
              "      <th>carbohydrates_100g</th>\n",
              "      <th>sugars_100g</th>\n",
              "      <th>proteins_100g</th>\n",
              "      <th>salt_100g</th>\n",
              "      <th>energy_100g</th>\n",
              "      <th>product</th>\n",
              "    </tr>\n",
              "  </thead>\n",
              "  <tbody>\n",
              "    <tr>\n",
              "      <th>2377</th>\n",
              "      <td>0.00</td>\n",
              "      <td>0.00</td>\n",
              "      <td>0.00</td>\n",
              "      <td>100.00</td>\n",
              "      <td>0.00000</td>\n",
              "      <td>1700.00</td>\n",
              "      <td>Unflavored Gelatin</td>\n",
              "    </tr>\n",
              "    <tr>\n",
              "      <th>37027</th>\n",
              "      <td>0.00</td>\n",
              "      <td>0.00</td>\n",
              "      <td>0.00</td>\n",
              "      <td>100.00</td>\n",
              "      <td>0.36322</td>\n",
              "      <td>1700.00</td>\n",
              "      <td>Unflavored Gelatin</td>\n",
              "    </tr>\n",
              "    <tr>\n",
              "      <th>16674</th>\n",
              "      <td>6.82</td>\n",
              "      <td>22.73</td>\n",
              "      <td>13.64</td>\n",
              "      <td>86.36</td>\n",
              "      <td>14.77772</td>\n",
              "      <td>2120.51</td>\n",
              "      <td>Fisherman's Wharf, Cocktail Shrimp</td>\n",
              "    </tr>\n",
              "    <tr>\n",
              "      <th>37415</th>\n",
              "      <td>3.33</td>\n",
              "      <td>6.67</td>\n",
              "      <td>3.33</td>\n",
              "      <td>83.33</td>\n",
              "      <td>0.67818</td>\n",
              "      <td>1659.87</td>\n",
              "      <td>Whey &amp; Soy Protein, Flavored Drink Mix, Vanilla</td>\n",
              "    </tr>\n",
              "    <tr>\n",
              "      <th>133</th>\n",
              "      <td>4.60</td>\n",
              "      <td>8.80</td>\n",
              "      <td>6.00</td>\n",
              "      <td>78.05</td>\n",
              "      <td>1.21158</td>\n",
              "      <td>1655.85</td>\n",
              "      <td>Whey Protein aus Molke 500 Gramm Vanilla</td>\n",
              "    </tr>\n",
              "    <tr>\n",
              "      <th>131</th>\n",
              "      <td>4.60</td>\n",
              "      <td>8.80</td>\n",
              "      <td>6.00</td>\n",
              "      <td>78.05</td>\n",
              "      <td>1.21158</td>\n",
              "      <td>1655.85</td>\n",
              "      <td>Whey Protein aus Molke 1000 Gramm Vanilla</td>\n",
              "    </tr>\n",
              "    <tr>\n",
              "      <th>129</th>\n",
              "      <td>4.60</td>\n",
              "      <td>8.80</td>\n",
              "      <td>6.00</td>\n",
              "      <td>78.05</td>\n",
              "      <td>1.21158</td>\n",
              "      <td>1655.85</td>\n",
              "      <td>Whey Protein aus Molke Vanilla</td>\n",
              "    </tr>\n",
              "    <tr>\n",
              "      <th>33115</th>\n",
              "      <td>1.67</td>\n",
              "      <td>13.33</td>\n",
              "      <td>0.00</td>\n",
              "      <td>76.67</td>\n",
              "      <td>0.00000</td>\n",
              "      <td>1595.13</td>\n",
              "      <td>Vital Wheat</td>\n",
              "    </tr>\n",
              "    <tr>\n",
              "      <th>37392</th>\n",
              "      <td>6.25</td>\n",
              "      <td>8.33</td>\n",
              "      <td>4.17</td>\n",
              "      <td>75.00</td>\n",
              "      <td>0.63500</td>\n",
              "      <td>1660.36</td>\n",
              "      <td>Whey Protein Powder, Chocolate</td>\n",
              "    </tr>\n",
              "    <tr>\n",
              "      <th>16669</th>\n",
              "      <td>5.36</td>\n",
              "      <td>21.43</td>\n",
              "      <td>14.29</td>\n",
              "      <td>67.86</td>\n",
              "      <td>12.79144</td>\n",
              "      <td>1726.97</td>\n",
              "      <td>Fisherman's Wharf, Cocktail Shrimp</td>\n",
              "    </tr>\n",
              "  </tbody>\n",
              "</table>\n",
              "</div>"
            ],
            "text/plain": [
              "       fat_100g  carbohydrates_100g  sugars_100g  proteins_100g  salt_100g  \\\n",
              "2377       0.00                0.00         0.00         100.00    0.00000   \n",
              "37027      0.00                0.00         0.00         100.00    0.36322   \n",
              "16674      6.82               22.73        13.64          86.36   14.77772   \n",
              "37415      3.33                6.67         3.33          83.33    0.67818   \n",
              "133        4.60                8.80         6.00          78.05    1.21158   \n",
              "131        4.60                8.80         6.00          78.05    1.21158   \n",
              "129        4.60                8.80         6.00          78.05    1.21158   \n",
              "33115      1.67               13.33         0.00          76.67    0.00000   \n",
              "37392      6.25                8.33         4.17          75.00    0.63500   \n",
              "16669      5.36               21.43        14.29          67.86   12.79144   \n",
              "\n",
              "       energy_100g                                          product  \n",
              "2377       1700.00                               Unflavored Gelatin  \n",
              "37027      1700.00                               Unflavored Gelatin  \n",
              "16674      2120.51               Fisherman's Wharf, Cocktail Shrimp  \n",
              "37415      1659.87  Whey & Soy Protein, Flavored Drink Mix, Vanilla  \n",
              "133        1655.85         Whey Protein aus Molke 500 Gramm Vanilla  \n",
              "131        1655.85        Whey Protein aus Molke 1000 Gramm Vanilla  \n",
              "129        1655.85                   Whey Protein aus Molke Vanilla  \n",
              "33115      1595.13                                      Vital Wheat  \n",
              "37392      1660.36                   Whey Protein Powder, Chocolate  \n",
              "16669      1726.97               Fisherman's Wharf, Cocktail Shrimp  "
            ]
          },
          "metadata": {
            "tags": []
          },
          "execution_count": 43
        }
      ]
    },
    {
      "metadata": {
        "id": "bq_K-nnPWQcA",
        "colab_type": "text"
      },
      "cell_type": "markdown",
      "source": [
        "### Sort by Two Columns:  Sugar, Salt"
      ]
    },
    {
      "metadata": {
        "id": "iI2ogrIvKYIm",
        "colab_type": "code",
        "outputId": "c92c45b6-ff00-4414-d324-3d34430a21cd",
        "colab": {
          "base_uri": "https://localhost:8080/",
          "height": 348
        }
      },
      "cell_type": "code",
      "source": [
        "df.sort_values(by=[\"sugars_100g\", \"salt_100g\"], ascending=[False, False]).head(10)"
      ],
      "execution_count": 0,
      "outputs": [
        {
          "output_type": "execute_result",
          "data": {
            "text/html": [
              "<div>\n",
              "<style scoped>\n",
              "    .dataframe tbody tr th:only-of-type {\n",
              "        vertical-align: middle;\n",
              "    }\n",
              "\n",
              "    .dataframe tbody tr th {\n",
              "        vertical-align: top;\n",
              "    }\n",
              "\n",
              "    .dataframe thead th {\n",
              "        text-align: right;\n",
              "    }\n",
              "</style>\n",
              "<table border=\"1\" class=\"dataframe\">\n",
              "  <thead>\n",
              "    <tr style=\"text-align: right;\">\n",
              "      <th></th>\n",
              "      <th>fat_100g</th>\n",
              "      <th>carbohydrates_100g</th>\n",
              "      <th>sugars_100g</th>\n",
              "      <th>proteins_100g</th>\n",
              "      <th>salt_100g</th>\n",
              "      <th>energy_100g</th>\n",
              "      <th>product</th>\n",
              "    </tr>\n",
              "  </thead>\n",
              "  <tbody>\n",
              "    <tr>\n",
              "      <th>33151</th>\n",
              "      <td>0.0</td>\n",
              "      <td>0.0</td>\n",
              "      <td>100.0</td>\n",
              "      <td>0.0</td>\n",
              "      <td>71.1200</td>\n",
              "      <td>0.0</td>\n",
              "      <td>Turkey Brine Kit, Garlic &amp; Herb</td>\n",
              "    </tr>\n",
              "    <tr>\n",
              "      <th>24783</th>\n",
              "      <td>0.0</td>\n",
              "      <td>100.0</td>\n",
              "      <td>100.0</td>\n",
              "      <td>0.0</td>\n",
              "      <td>24.1300</td>\n",
              "      <td>1700.0</td>\n",
              "      <td>Seasoning</td>\n",
              "    </tr>\n",
              "    <tr>\n",
              "      <th>4073</th>\n",
              "      <td>0.0</td>\n",
              "      <td>100.0</td>\n",
              "      <td>100.0</td>\n",
              "      <td>0.0</td>\n",
              "      <td>7.6200</td>\n",
              "      <td>1700.0</td>\n",
              "      <td>Seasoning Rub, Sweet &amp; Spicy Seafood</td>\n",
              "    </tr>\n",
              "    <tr>\n",
              "      <th>10282</th>\n",
              "      <td>0.0</td>\n",
              "      <td>100.0</td>\n",
              "      <td>100.0</td>\n",
              "      <td>0.0</td>\n",
              "      <td>2.5400</td>\n",
              "      <td>1700.0</td>\n",
              "      <td>Instant Pectin</td>\n",
              "    </tr>\n",
              "    <tr>\n",
              "      <th>17880</th>\n",
              "      <td>0.0</td>\n",
              "      <td>100.0</td>\n",
              "      <td>100.0</td>\n",
              "      <td>0.0</td>\n",
              "      <td>0.6350</td>\n",
              "      <td>1700.0</td>\n",
              "      <td>Cranberry Cosmos Cocktail Rimming Sugar</td>\n",
              "    </tr>\n",
              "    <tr>\n",
              "      <th>8822</th>\n",
              "      <td>0.0</td>\n",
              "      <td>100.0</td>\n",
              "      <td>100.0</td>\n",
              "      <td>0.0</td>\n",
              "      <td>0.5588</td>\n",
              "      <td>1700.0</td>\n",
              "      <td>Alaga, The Original Cane Flavor Syrup, Cane</td>\n",
              "    </tr>\n",
              "    <tr>\n",
              "      <th>8823</th>\n",
              "      <td>0.0</td>\n",
              "      <td>100.0</td>\n",
              "      <td>100.0</td>\n",
              "      <td>0.0</td>\n",
              "      <td>0.5588</td>\n",
              "      <td>1700.0</td>\n",
              "      <td>The Original Cane Syrup</td>\n",
              "    </tr>\n",
              "    <tr>\n",
              "      <th>41157</th>\n",
              "      <td>0.0</td>\n",
              "      <td>100.0</td>\n",
              "      <td>100.0</td>\n",
              "      <td>0.0</td>\n",
              "      <td>0.3175</td>\n",
              "      <td>1700.0</td>\n",
              "      <td>Panela Brown Sugar Cane</td>\n",
              "    </tr>\n",
              "    <tr>\n",
              "      <th>41158</th>\n",
              "      <td>0.0</td>\n",
              "      <td>100.0</td>\n",
              "      <td>100.0</td>\n",
              "      <td>0.0</td>\n",
              "      <td>0.3175</td>\n",
              "      <td>1700.0</td>\n",
              "      <td>Panela Brown Sugar Cane</td>\n",
              "    </tr>\n",
              "    <tr>\n",
              "      <th>41159</th>\n",
              "      <td>0.0</td>\n",
              "      <td>100.0</td>\n",
              "      <td>100.0</td>\n",
              "      <td>0.0</td>\n",
              "      <td>0.3175</td>\n",
              "      <td>1700.0</td>\n",
              "      <td>Panela</td>\n",
              "    </tr>\n",
              "  </tbody>\n",
              "</table>\n",
              "</div>"
            ],
            "text/plain": [
              "       fat_100g  carbohydrates_100g  sugars_100g  proteins_100g  salt_100g  \\\n",
              "33151       0.0                 0.0        100.0            0.0    71.1200   \n",
              "24783       0.0               100.0        100.0            0.0    24.1300   \n",
              "4073        0.0               100.0        100.0            0.0     7.6200   \n",
              "10282       0.0               100.0        100.0            0.0     2.5400   \n",
              "17880       0.0               100.0        100.0            0.0     0.6350   \n",
              "8822        0.0               100.0        100.0            0.0     0.5588   \n",
              "8823        0.0               100.0        100.0            0.0     0.5588   \n",
              "41157       0.0               100.0        100.0            0.0     0.3175   \n",
              "41158       0.0               100.0        100.0            0.0     0.3175   \n",
              "41159       0.0               100.0        100.0            0.0     0.3175   \n",
              "\n",
              "       energy_100g                                      product  \n",
              "33151          0.0              Turkey Brine Kit, Garlic & Herb  \n",
              "24783       1700.0                                    Seasoning  \n",
              "4073        1700.0         Seasoning Rub, Sweet & Spicy Seafood  \n",
              "10282       1700.0                               Instant Pectin  \n",
              "17880       1700.0      Cranberry Cosmos Cocktail Rimming Sugar  \n",
              "8822        1700.0  Alaga, The Original Cane Flavor Syrup, Cane  \n",
              "8823        1700.0                      The Original Cane Syrup  \n",
              "41157       1700.0                      Panela Brown Sugar Cane  \n",
              "41158       1700.0                      Panela Brown Sugar Cane  \n",
              "41159       1700.0                                       Panela  "
            ]
          },
          "metadata": {
            "tags": []
          },
          "execution_count": 44
        }
      ]
    },
    {
      "metadata": {
        "id": "sxVe1CtO_FKr",
        "colab_type": "text"
      },
      "cell_type": "markdown",
      "source": [
        "### Groupby"
      ]
    },
    {
      "metadata": {
        "id": "Ljcivk3_AW1v",
        "colab_type": "code",
        "colab": {
          "base_uri": "https://localhost:8080/",
          "height": 215
        },
        "outputId": "6fbe5ee9-2545-4e74-a3e6-b69e787d642a"
      },
      "cell_type": "code",
      "source": [
        "def high_protein(row):\n",
        "  \"\"\"Creates a high or low protein category\"\"\"\n",
        "  \n",
        "  if row > 80:\n",
        "    return \"high_protein\"\n",
        "  return \"low_protein\"\n",
        "\n",
        "df[\"high_protein\"] = df[\"proteins_100g\"].apply(high_protein)\n",
        "df.head()"
      ],
      "execution_count": 39,
      "outputs": [
        {
          "output_type": "execute_result",
          "data": {
            "text/html": [
              "<div>\n",
              "<style scoped>\n",
              "    .dataframe tbody tr th:only-of-type {\n",
              "        vertical-align: middle;\n",
              "    }\n",
              "\n",
              "    .dataframe tbody tr th {\n",
              "        vertical-align: top;\n",
              "    }\n",
              "\n",
              "    .dataframe thead th {\n",
              "        text-align: right;\n",
              "    }\n",
              "</style>\n",
              "<table border=\"1\" class=\"dataframe\">\n",
              "  <thead>\n",
              "    <tr style=\"text-align: right;\">\n",
              "      <th></th>\n",
              "      <th>fat_100g</th>\n",
              "      <th>carbohydrates_100g</th>\n",
              "      <th>sugars_100g</th>\n",
              "      <th>proteins_100g</th>\n",
              "      <th>salt_100g</th>\n",
              "      <th>energy_100g</th>\n",
              "      <th>product</th>\n",
              "      <th>high_protein</th>\n",
              "    </tr>\n",
              "  </thead>\n",
              "  <tbody>\n",
              "    <tr>\n",
              "      <th>0</th>\n",
              "      <td>28.57</td>\n",
              "      <td>64.29</td>\n",
              "      <td>14.29</td>\n",
              "      <td>3.57</td>\n",
              "      <td>0.00000</td>\n",
              "      <td>2267.85</td>\n",
              "      <td>Banana Chips Sweetened (Whole)</td>\n",
              "      <td>low_protein</td>\n",
              "    </tr>\n",
              "    <tr>\n",
              "      <th>2</th>\n",
              "      <td>57.14</td>\n",
              "      <td>17.86</td>\n",
              "      <td>3.57</td>\n",
              "      <td>17.86</td>\n",
              "      <td>1.22428</td>\n",
              "      <td>2835.70</td>\n",
              "      <td>Organic Salted Nut Mix</td>\n",
              "      <td>low_protein</td>\n",
              "    </tr>\n",
              "    <tr>\n",
              "      <th>3</th>\n",
              "      <td>18.75</td>\n",
              "      <td>57.81</td>\n",
              "      <td>15.62</td>\n",
              "      <td>14.06</td>\n",
              "      <td>0.13970</td>\n",
              "      <td>1953.04</td>\n",
              "      <td>Organic Muesli</td>\n",
              "      <td>low_protein</td>\n",
              "    </tr>\n",
              "    <tr>\n",
              "      <th>4</th>\n",
              "      <td>36.67</td>\n",
              "      <td>36.67</td>\n",
              "      <td>3.33</td>\n",
              "      <td>16.67</td>\n",
              "      <td>1.60782</td>\n",
              "      <td>2336.91</td>\n",
              "      <td>Zen Party Mix</td>\n",
              "      <td>low_protein</td>\n",
              "    </tr>\n",
              "    <tr>\n",
              "      <th>5</th>\n",
              "      <td>18.18</td>\n",
              "      <td>60.00</td>\n",
              "      <td>21.82</td>\n",
              "      <td>14.55</td>\n",
              "      <td>0.02286</td>\n",
              "      <td>1976.37</td>\n",
              "      <td>Cinnamon Nut Granola</td>\n",
              "      <td>low_protein</td>\n",
              "    </tr>\n",
              "  </tbody>\n",
              "</table>\n",
              "</div>"
            ],
            "text/plain": [
              "   fat_100g  carbohydrates_100g  sugars_100g  proteins_100g  salt_100g  \\\n",
              "0     28.57               64.29        14.29           3.57    0.00000   \n",
              "2     57.14               17.86         3.57          17.86    1.22428   \n",
              "3     18.75               57.81        15.62          14.06    0.13970   \n",
              "4     36.67               36.67         3.33          16.67    1.60782   \n",
              "5     18.18               60.00        21.82          14.55    0.02286   \n",
              "\n",
              "   energy_100g                         product high_protein  \n",
              "0      2267.85  Banana Chips Sweetened (Whole)  low_protein  \n",
              "2      2835.70          Organic Salted Nut Mix  low_protein  \n",
              "3      1953.04                  Organic Muesli  low_protein  \n",
              "4      2336.91                   Zen Party Mix  low_protein  \n",
              "5      1976.37            Cinnamon Nut Granola  low_protein  "
            ]
          },
          "metadata": {
            "tags": []
          },
          "execution_count": 39
        }
      ]
    },
    {
      "metadata": {
        "id": "bNwREeat_HLX",
        "colab_type": "code",
        "colab": {
          "base_uri": "https://localhost:8080/",
          "height": 138
        },
        "outputId": "09282159-5e37-4e3f-cb64-3a8c039ec7b2"
      },
      "cell_type": "code",
      "source": [
        "df.groupby(\"high_protein\").median()"
      ],
      "execution_count": 41,
      "outputs": [
        {
          "output_type": "execute_result",
          "data": {
            "text/html": [
              "<div>\n",
              "<style scoped>\n",
              "    .dataframe tbody tr th:only-of-type {\n",
              "        vertical-align: middle;\n",
              "    }\n",
              "\n",
              "    .dataframe tbody tr th {\n",
              "        vertical-align: top;\n",
              "    }\n",
              "\n",
              "    .dataframe thead th {\n",
              "        text-align: right;\n",
              "    }\n",
              "</style>\n",
              "<table border=\"1\" class=\"dataframe\">\n",
              "  <thead>\n",
              "    <tr style=\"text-align: right;\">\n",
              "      <th></th>\n",
              "      <th>fat_100g</th>\n",
              "      <th>carbohydrates_100g</th>\n",
              "      <th>sugars_100g</th>\n",
              "      <th>proteins_100g</th>\n",
              "      <th>salt_100g</th>\n",
              "      <th>energy_100g</th>\n",
              "    </tr>\n",
              "    <tr>\n",
              "      <th>high_protein</th>\n",
              "      <th></th>\n",
              "      <th></th>\n",
              "      <th></th>\n",
              "      <th></th>\n",
              "      <th></th>\n",
              "      <th></th>\n",
              "    </tr>\n",
              "  </thead>\n",
              "  <tbody>\n",
              "    <tr>\n",
              "      <th>high_protein</th>\n",
              "      <td>1.665</td>\n",
              "      <td>3.335</td>\n",
              "      <td>1.665</td>\n",
              "      <td>93.18</td>\n",
              "      <td>0.5207</td>\n",
              "      <td>1700.00</td>\n",
              "    </tr>\n",
              "    <tr>\n",
              "      <th>low_protein</th>\n",
              "      <td>3.170</td>\n",
              "      <td>22.390</td>\n",
              "      <td>5.880</td>\n",
              "      <td>4.00</td>\n",
              "      <td>0.6350</td>\n",
              "      <td>1121.54</td>\n",
              "    </tr>\n",
              "  </tbody>\n",
              "</table>\n",
              "</div>"
            ],
            "text/plain": [
              "              fat_100g  carbohydrates_100g  sugars_100g  proteins_100g  \\\n",
              "high_protein                                                             \n",
              "high_protein     1.665               3.335        1.665          93.18   \n",
              "low_protein      3.170              22.390        5.880           4.00   \n",
              "\n",
              "              salt_100g  energy_100g  \n",
              "high_protein                          \n",
              "high_protein     0.5207      1700.00  \n",
              "low_protein      0.6350      1121.54  "
            ]
          },
          "metadata": {
            "tags": []
          },
          "execution_count": 41
        }
      ]
    },
    {
      "metadata": {
        "id": "loWnoGY8OPLA",
        "colab_type": "text"
      },
      "cell_type": "markdown",
      "source": [
        "## Notes"
      ]
    },
    {
      "metadata": {
        "id": "ClGs67SFOVL1",
        "colab_type": "text"
      },
      "cell_type": "markdown",
      "source": [
        "Similar to Notes section of Powerpoint (where we can exchange ideas)\n",
        "\n",
        "* We may want Lesson 1 to be PowerPoint only"
      ]
    },
    {
      "metadata": {
        "id": "m0BQFIHYOTuc",
        "colab_type": "code",
        "colab": {}
      },
      "cell_type": "code",
      "source": [
        ""
      ],
      "execution_count": 0,
      "outputs": []
    }
  ]
}