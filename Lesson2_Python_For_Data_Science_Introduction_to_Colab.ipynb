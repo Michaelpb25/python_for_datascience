{
  "nbformat": 4,
  "nbformat_minor": 0,
  "metadata": {
    "colab": {
      "name": "Lesson2-Python For Data Science-Introduction-to-Colab.ipynb",
      "version": "0.3.2",
      "provenance": [],
      "collapsed_sections": [
        "rFoJ_ekfWrY8",
        "epYHKGvoN8n3",
        "IrhCtqRnXE0H",
        "_TfXsBkouZs3",
        "kn-P-e_hjvK5",
        "gG6bUpCQcWQe",
        "yHdWIarsN850",
        "xSBoMgN4lRAr",
        "bG6eVSevY5_z",
        "Y_IEtysrbyCG",
        "23kiNSVkb09I",
        "z2pbL991a9OU",
        "7n10W_hmb5CX",
        "hPWO_zyRopXN",
        "bq4VmHjPpMOR",
        "fYu0ekUlqPk6",
        "FpJhrpSQsK5E",
        "Kj977UW3rph_",
        "S2l0ozLudvx5",
        "nrkDViEcfnw8",
        "rQkSyrDjxXA4",
        "jYjzO6a4N88q",
        "ckb3xjN-PsAQ",
        "vn1SjZ7Kr_Em"
      ],
      "include_colab_link": true
    },
    "kernelspec": {
      "name": "python3",
      "display_name": "Python 3"
    }
  },
  "cells": [
    {
      "cell_type": "markdown",
      "metadata": {
        "id": "view-in-github",
        "colab_type": "text"
      },
      "source": [
        "<a href=\"https://colab.research.google.com/github/paiml/python_for_datascience/blob/master/Lesson2_Python_For_Data_Science_Introduction_to_Colab.ipynb\" target=\"_parent\"><img src=\"https://colab.research.google.com/assets/colab-badge.svg\" alt=\"Open In Colab\"/></a>"
      ]
    },
    {
      "metadata": {
        "id": "spdivf2TMnGC",
        "colab_type": "text"
      },
      "cell_type": "markdown",
      "source": [
        "# Lesson 2 Introduction to Colab"
      ]
    },
    {
      "metadata": {
        "id": "qqAIvhP5N4iu",
        "colab_type": "text"
      },
      "cell_type": "markdown",
      "source": [
        "## 2.1 First Colab Document"
      ]
    },
    {
      "metadata": {
        "id": "rFoJ_ekfWrY8",
        "colab_type": "text"
      },
      "cell_type": "markdown",
      "source": [
        "### What is Colab?"
      ]
    },
    {
      "metadata": {
        "id": "7MBiLIWmWzzF",
        "colab_type": "text"
      },
      "cell_type": "markdown",
      "source": [
        "\n",
        "\n",
        "*   Hosted Jupyter Notebooks\n",
        "*   GPU/TPU enabled runtimes\n",
        "*   Google Docs Integration\n",
        "\n"
      ]
    },
    {
      "metadata": {
        "id": "epYHKGvoN8n3",
        "colab_type": "text"
      },
      "cell_type": "markdown",
      "source": [
        "### Creating Colab Notebooks\n",
        "\n",
        "\n",
        "\n"
      ]
    },
    {
      "metadata": {
        "id": "8mYKNSGTYjX8",
        "colab_type": "text"
      },
      "cell_type": "markdown",
      "source": [
        "Three main interfaces:\n",
        "\n",
        "\n",
        "\n",
        "*   New Notebook (Python2 or Python3)\n",
        "*   Upload Notebooks\n",
        "*   Open Notebooks (Github, Drive, Upload)\n",
        "\n"
      ]
    },
    {
      "metadata": {
        "id": "IrhCtqRnXE0H",
        "colab_type": "text"
      },
      "cell_type": "markdown",
      "source": [
        "### Key Features\n",
        "\n",
        "\n",
        "\n"
      ]
    },
    {
      "metadata": {
        "id": "LynH5LJ4vxVn",
        "colab_type": "code",
        "colab": {
          "base_uri": "https://localhost:8080/",
          "height": 204
        },
        "outputId": "121181e0-9e2c-484e-bfee-d4fe183fb0be"
      },
      "cell_type": "code",
      "source": [
        "import pandas as pd\n",
        "df = pd.read_csv(\"mlb_weight_ht.csv\")\n",
        "df.head()"
      ],
      "execution_count": 5,
      "outputs": [
        {
          "output_type": "execute_result",
          "data": {
            "text/html": [
              "<div>\n",
              "<style scoped>\n",
              "    .dataframe tbody tr th:only-of-type {\n",
              "        vertical-align: middle;\n",
              "    }\n",
              "\n",
              "    .dataframe tbody tr th {\n",
              "        vertical-align: top;\n",
              "    }\n",
              "\n",
              "    .dataframe thead th {\n",
              "        text-align: right;\n",
              "    }\n",
              "</style>\n",
              "<table border=\"1\" class=\"dataframe\">\n",
              "  <thead>\n",
              "    <tr style=\"text-align: right;\">\n",
              "      <th></th>\n",
              "      <th>Name</th>\n",
              "      <th>Team</th>\n",
              "      <th>Position</th>\n",
              "      <th>Height(inches)</th>\n",
              "      <th>Weight(pounds)</th>\n",
              "      <th>Age</th>\n",
              "    </tr>\n",
              "  </thead>\n",
              "  <tbody>\n",
              "    <tr>\n",
              "      <th>0</th>\n",
              "      <td>Adam_Donachie</td>\n",
              "      <td>BAL</td>\n",
              "      <td>Catcher</td>\n",
              "      <td>74</td>\n",
              "      <td>180.0</td>\n",
              "      <td>22.99</td>\n",
              "    </tr>\n",
              "    <tr>\n",
              "      <th>1</th>\n",
              "      <td>Paul_Bako</td>\n",
              "      <td>BAL</td>\n",
              "      <td>Catcher</td>\n",
              "      <td>74</td>\n",
              "      <td>215.0</td>\n",
              "      <td>34.69</td>\n",
              "    </tr>\n",
              "    <tr>\n",
              "      <th>2</th>\n",
              "      <td>Ramon_Hernandez</td>\n",
              "      <td>BAL</td>\n",
              "      <td>Catcher</td>\n",
              "      <td>72</td>\n",
              "      <td>210.0</td>\n",
              "      <td>30.78</td>\n",
              "    </tr>\n",
              "    <tr>\n",
              "      <th>3</th>\n",
              "      <td>Kevin_Millar</td>\n",
              "      <td>BAL</td>\n",
              "      <td>First_Baseman</td>\n",
              "      <td>72</td>\n",
              "      <td>210.0</td>\n",
              "      <td>35.43</td>\n",
              "    </tr>\n",
              "    <tr>\n",
              "      <th>4</th>\n",
              "      <td>Chris_Gomez</td>\n",
              "      <td>BAL</td>\n",
              "      <td>First_Baseman</td>\n",
              "      <td>73</td>\n",
              "      <td>188.0</td>\n",
              "      <td>35.71</td>\n",
              "    </tr>\n",
              "  </tbody>\n",
              "</table>\n",
              "</div>"
            ],
            "text/plain": [
              "              Name Team       Position  Height(inches)  Weight(pounds)    Age\n",
              "0    Adam_Donachie  BAL        Catcher              74           180.0  22.99\n",
              "1        Paul_Bako  BAL        Catcher              74           215.0  34.69\n",
              "2  Ramon_Hernandez  BAL        Catcher              72           210.0  30.78\n",
              "3     Kevin_Millar  BAL  First_Baseman              72           210.0  35.43\n",
              "4      Chris_Gomez  BAL  First_Baseman              73           188.0  35.71"
            ]
          },
          "metadata": {
            "tags": []
          },
          "execution_count": 5
        }
      ]
    },
    {
      "metadata": {
        "id": "52ptGIrQXPQq",
        "colab_type": "text"
      },
      "cell_type": "markdown",
      "source": [
        "\n",
        "*   Iron Icon\n",
        "*  Table of Contents\n",
        "*  Code snippits\n",
        "*  Files\n",
        "\n",
        "\n",
        "\n"
      ]
    },
    {
      "metadata": {
        "id": "0kmgxW7Sxa6j",
        "colab_type": "text"
      },
      "cell_type": "markdown",
      "source": [
        "### Forms in Colab"
      ]
    },
    {
      "metadata": {
        "id": "ZqHMr_brxdkA",
        "colab_type": "code",
        "colab": {}
      },
      "cell_type": "code",
      "source": [
        "Use_Python = False #@param [\"False\", \"True\"] {type:\"raw\"}"
      ],
      "execution_count": 0,
      "outputs": []
    },
    {
      "metadata": {
        "id": "d1z9fz5_x_bf",
        "colab_type": "code",
        "outputId": "cee9339f-df2a-4e7a-cbaa-c94425304cc8",
        "colab": {
          "base_uri": "https://localhost:8080/",
          "height": 34
        }
      },
      "cell_type": "code",
      "source": [
        "print(f\"You select it is {Use_Python} you use Python\")"
      ],
      "execution_count": 10,
      "outputs": [
        {
          "output_type": "stream",
          "text": [
            "You select it is False you use Python\n"
          ],
          "name": "stdout"
        }
      ]
    },
    {
      "metadata": {
        "id": "_TfXsBkouZs3",
        "colab_type": "text"
      },
      "cell_type": "markdown",
      "source": [
        "### Upload to Colab"
      ]
    },
    {
      "metadata": {
        "id": "PmaBtHz_ub6_",
        "colab_type": "code",
        "colab": {
          "resources": {
            "http://localhost:8080/nbextensions/google.colab/files.js": {
              "data": "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",
              "ok": true,
              "headers": [
                [
                  "content-type",
                  "application/javascript"
                ]
              ],
              "status": 200,
              "status_text": ""
            }
          },
          "base_uri": "https://localhost:8080/",
          "height": 69
        },
        "outputId": "e423f31a-c0b3-4629-a331-47f3100e80bf"
      },
      "cell_type": "code",
      "source": [
        "from google.colab import files\n",
        "uploaded = files.upload()"
      ],
      "execution_count": 11,
      "outputs": [
        {
          "output_type": "display_data",
          "data": {
            "text/html": [
              "\n",
              "     <input type=\"file\" id=\"files-5d0998df-9cb1-4eeb-b255-45849435d648\" name=\"files[]\" multiple disabled />\n",
              "     <output id=\"result-5d0998df-9cb1-4eeb-b255-45849435d648\">\n",
              "      Upload widget is only available when the cell has been executed in the\n",
              "      current browser session. Please rerun this cell to enable.\n",
              "      </output>\n",
              "      <script src=\"/nbextensions/google.colab/files.js\"></script> "
            ],
            "text/plain": [
              "<IPython.core.display.HTML object>"
            ]
          },
          "metadata": {
            "tags": []
          }
        },
        {
          "output_type": "stream",
          "text": [
            "Saving mlb_weight_ht.csv to mlb_weight_ht (1).csv\n"
          ],
          "name": "stdout"
        }
      ]
    },
    {
      "metadata": {
        "id": "kn-P-e_hjvK5",
        "colab_type": "text"
      },
      "cell_type": "markdown",
      "source": [
        "### Python executable\n",
        "\n",
        "Can run scripts, REPL and even run python statements with -c flag and semicolon to string together multiple statements"
      ]
    },
    {
      "metadata": {
        "id": "p2aDegQxjegv",
        "colab_type": "code",
        "outputId": "4c087715-8021-4e36-f229-d7e0eed3931a",
        "colab": {
          "base_uri": "https://localhost:8080/",
          "height": 34
        }
      },
      "cell_type": "code",
      "source": [
        "!python -c \"import os;print(os.listdir())\""
      ],
      "execution_count": 12,
      "outputs": [
        {
          "output_type": "stream",
          "text": [
            "['.config', 'mlb_weight_ht.csv', 'mlb_weight_ht (1).csv', 'sample_data']\n"
          ],
          "name": "stdout"
        }
      ]
    },
    {
      "metadata": {
        "id": "WaXhDeUM_49R",
        "colab_type": "code",
        "outputId": "7626277a-8276-4b20-cd56-9f474662e66b",
        "colab": {
          "base_uri": "https://localhost:8080/",
          "height": 85
        }
      },
      "cell_type": "code",
      "source": [
        "!ls -l"
      ],
      "execution_count": 13,
      "outputs": [
        {
          "output_type": "stream",
          "text": [
            "total 100\n",
            "-rw-r--r-- 1 root root 46535 Feb 11 18:11 'mlb_weight_ht (1).csv'\n",
            "-rw-r--r-- 1 root root 46535 Feb 11 18:09  mlb_weight_ht.csv\n",
            "drwxr-xr-x 1 root root  4096 Feb  6 17:31  sample_data\n"
          ],
          "name": "stdout"
        }
      ]
    },
    {
      "metadata": {
        "id": "58zCAVUC_8JP",
        "colab_type": "code",
        "outputId": "88678578-6640-4b0a-b4e4-3d473c6bc7f3",
        "colab": {
          "base_uri": "https://localhost:8080/",
          "height": 212
        }
      },
      "cell_type": "code",
      "source": [
        "!pip install yellowbrick"
      ],
      "execution_count": 0,
      "outputs": [
        {
          "output_type": "stream",
          "text": [
            "Requirement already satisfied: yellowbrick in /usr/local/lib/python3.6/dist-packages (0.9)\n",
            "Requirement already satisfied: cycler>=0.10.0 in /usr/local/lib/python3.6/dist-packages (from yellowbrick) (0.10.0)\n",
            "Requirement already satisfied: matplotlib<3.0,>=1.5.1 in /usr/local/lib/python3.6/dist-packages (from yellowbrick) (2.1.2)\n",
            "Requirement already satisfied: numpy>=1.13.0 in /usr/local/lib/python3.6/dist-packages (from yellowbrick) (1.14.6)\n",
            "Requirement already satisfied: scipy>=1.0.0 in /usr/local/lib/python3.6/dist-packages (from yellowbrick) (1.1.0)\n",
            "Requirement already satisfied: scikit-learn>=0.20 in /usr/local/lib/python3.6/dist-packages (from yellowbrick) (0.20.2)\n",
            "Requirement already satisfied: six in /usr/local/lib/python3.6/dist-packages (from cycler>=0.10.0->yellowbrick) (1.11.0)\n",
            "Requirement already satisfied: pyparsing!=2.0.4,!=2.1.2,!=2.1.6,>=2.0.1 in /usr/local/lib/python3.6/dist-packages (from matplotlib<3.0,>=1.5.1->yellowbrick) (2.3.0)\n",
            "Requirement already satisfied: python-dateutil>=2.1 in /usr/local/lib/python3.6/dist-packages (from matplotlib<3.0,>=1.5.1->yellowbrick) (2.5.3)\n",
            "Requirement already satisfied: pytz in /usr/local/lib/python3.6/dist-packages (from matplotlib<3.0,>=1.5.1->yellowbrick) (2018.7)\n"
          ],
          "name": "stdout"
        }
      ]
    },
    {
      "metadata": {
        "id": "egHxTJUGNYCA",
        "colab_type": "code",
        "outputId": "3ad77317-6f83-4ce3-8e51-8b0f03328b02",
        "colab": {
          "base_uri": "https://localhost:8080/",
          "height": 68
        }
      },
      "cell_type": "code",
      "source": [
        "#this is how you capture input to a program\n",
        "import sys;sys.argv"
      ],
      "execution_count": 14,
      "outputs": [
        {
          "output_type": "execute_result",
          "data": {
            "text/plain": [
              "['/usr/local/lib/python3.6/dist-packages/ipykernel_launcher.py',\n",
              " '-f',\n",
              " '/root/.local/share/jupyter/runtime/kernel-990d7124-1599-4f5e-b6d9-1e66b9359d20.json']"
            ]
          },
          "metadata": {
            "tags": []
          },
          "execution_count": 14
        }
      ]
    },
    {
      "metadata": {
        "id": "gG6bUpCQcWQe",
        "colab_type": "text"
      },
      "cell_type": "markdown",
      "source": [
        "### GitHub Integration\n",
        "\n",
        "\n"
      ]
    },
    {
      "metadata": {
        "id": "JwifSk6ya1g1",
        "colab_type": "text"
      },
      "cell_type": "markdown",
      "source": [
        "\n",
        "*   **Load Public Notebooks from Github**\n",
        "\n",
        "*Original URL*:  https://github.com/paiml/python_for_datascience/blob/master/Lesson2_Python_For_Data_Science_Introduction_to_Colab.ipynb\n",
        "\n",
        "*Colab Load UR*L: \n",
        "https://colab.research.google.com/github.com/paiml/python_for_datascience/blob/master/Lesson2_Python_For_Data_Science_Introduction_to_Colab.ipynb\n",
        "\n",
        "\n",
        "*   **Browsing Github Repos**\n",
        "\n",
        "*All of Github*:\n",
        "\n",
        "http://colab.research.google.com/github\n",
        "\n",
        "*An organization or user*\n",
        "\n",
        "http://colab.research.google.com/github/paiml/\n",
        "\n",
        "* Open in Colab Badge\n",
        "\n",
        "[![Open In Colab](https://colab.research.google.com/assets/colab-badge.svg)](https://colab.research.google.com/github/paiml/python_for_datascience/blob/master/Lesson2_Python_For_Data_Science_Introduction_to_Colab.ipynb)\n",
        "\n",
        "* **Saving to Github**\n",
        "\n",
        " - Github repo\n",
        " - Gist\n",
        "\n"
      ]
    },
    {
      "metadata": {
        "id": "yHdWIarsN850",
        "colab_type": "text"
      },
      "cell_type": "markdown",
      "source": [
        "## 2.2 Managing Colab Documents"
      ]
    },
    {
      "metadata": {
        "id": "xSBoMgN4lRAr",
        "colab_type": "text"
      },
      "cell_type": "markdown",
      "source": [
        "### Kaggle Load Recipe"
      ]
    },
    {
      "metadata": {
        "id": "bG6eVSevY5_z",
        "colab_type": "text"
      },
      "cell_type": "markdown",
      "source": [
        "#### Mount GDrive"
      ]
    },
    {
      "metadata": {
        "id": "Dwi5tsDwYxJY",
        "colab_type": "code",
        "colab": {}
      },
      "cell_type": "code",
      "source": [
        "from google.colab import drive\n",
        "drive.mount('/content/gdrive')"
      ],
      "execution_count": 0,
      "outputs": []
    },
    {
      "metadata": {
        "id": "Y_IEtysrbyCG",
        "colab_type": "text"
      },
      "cell_type": "markdown",
      "source": [
        "#### list in python"
      ]
    },
    {
      "metadata": {
        "id": "ws2U1dVIaCDf",
        "colab_type": "code",
        "outputId": "99caa415-e138-4aa2-991d-71fcc0e1530a",
        "colab": {
          "base_uri": "https://localhost:8080/",
          "height": 34
        }
      },
      "cell_type": "code",
      "source": [
        "import os;os.listdir(\"/content/gdrive/My Drive/awsml\")"
      ],
      "execution_count": 0,
      "outputs": [
        {
          "output_type": "execute_result",
          "data": {
            "text/plain": [
              "['kaggle.json']"
            ]
          },
          "metadata": {
            "tags": []
          },
          "execution_count": 6
        }
      ]
    },
    {
      "metadata": {
        "id": "23kiNSVkb09I",
        "colab_type": "text"
      },
      "cell_type": "markdown",
      "source": [
        "#### list in bash"
      ]
    },
    {
      "metadata": {
        "id": "5GIbH4AgbjhL",
        "colab_type": "code",
        "outputId": "ceb5e0b1-bc9a-457d-9d2b-59b9657a33af",
        "colab": {
          "base_uri": "https://localhost:8080/",
          "height": 51
        }
      },
      "cell_type": "code",
      "source": [
        "!ls -l /content/gdrive/My\\ Drive/awsml"
      ],
      "execution_count": 0,
      "outputs": [
        {
          "output_type": "stream",
          "text": [
            "total 1\n",
            "-rw------- 1 root root 64 Nov 21 22:24 kaggle.json\n"
          ],
          "name": "stdout"
        }
      ]
    },
    {
      "metadata": {
        "id": "z2pbL991a9OU",
        "colab_type": "text"
      },
      "cell_type": "markdown",
      "source": [
        "#### Wire up Kaggle"
      ]
    },
    {
      "metadata": {
        "id": "FXyFfUdbbBtB",
        "colab_type": "code",
        "colab": {}
      },
      "cell_type": "code",
      "source": [
        "!pip install -U -q kaggle\n",
        "!mkdir -p ~/.kaggle\n",
        "!cp /content/gdrive/My\\ Drive/awsml/kaggle.json ~/.kaggle/kaggle.json"
      ],
      "execution_count": 0,
      "outputs": []
    },
    {
      "metadata": {
        "id": "7n10W_hmb5CX",
        "colab_type": "text"
      },
      "cell_type": "markdown",
      "source": [
        "#### Get Kaggle MNIST Data"
      ]
    },
    {
      "metadata": {
        "id": "dWxwfqJqb8Fe",
        "colab_type": "code",
        "outputId": "76c5c541-8c84-4afc-fd2c-742180f68c34",
        "colab": {
          "base_uri": "https://localhost:8080/",
          "height": 221
        }
      },
      "cell_type": "code",
      "source": [
        "!kaggle datasets download -d oddrationale/mnist-in-csv\n",
        "!ls -l /content\n",
        "!unzip /content/mnist-in-csv.zip\n"
      ],
      "execution_count": 0,
      "outputs": [
        {
          "output_type": "stream",
          "text": [
            "mnist-in-csv.zip: Skipping, found more recently modified local copy (use --force to force download)\n",
            "total 140560\n",
            "drwxr-xr-x 2 root root      4096 Nov 21 22:59 data\n",
            "drwx------ 4 root root      4096 Nov 21 22:37 gdrive\n",
            "-rw-r--r-- 1 root root  15970516 Nov 21 22:54 mnist-in-csv.zip\n",
            "-rw-r--r-- 1 root root  18303650 May 19  2018 mnist_test.csv\n",
            "-rw-r--r-- 1 root root 109640201 May 19  2018 mnist_train.csv\n",
            "drwxr-xr-x 2 root root      4096 Nov 20 18:17 sample_data\n",
            "Archive:  /content/mnist-in-csv.zip\n",
            "replace mnist_train.csv? [y]es, [n]o, [A]ll, [N]one, [r]ename: A\n",
            "  inflating: mnist_train.csv         \n",
            "  inflating: mnist_test.csv          \n"
          ],
          "name": "stdout"
        }
      ]
    },
    {
      "metadata": {
        "id": "JMLQm0NYgRPl",
        "colab_type": "text"
      },
      "cell_type": "markdown",
      "source": [
        "#### Load into Pandas"
      ]
    },
    {
      "metadata": {
        "id": "T-Span8_gSsR",
        "colab_type": "code",
        "outputId": "8cd82463-c48c-418e-e3ad-397392b08639",
        "colab": {
          "base_uri": "https://localhost:8080/",
          "height": 51
        }
      },
      "cell_type": "code",
      "source": [
        "import pandas as pd\n",
        "import numpy as np\n",
        "import matplotlib.pyplot as plt\n",
        "\n",
        "#train\n",
        "train_path = \"/content/mnist_train.csv\"\n",
        "data_train = pd.read_csv(train_path)\n",
        "y_train = np.array(data_train.iloc[:, 0])\n",
        "x_train = np.array(data_train.iloc[:, 1:])\n",
        "\n",
        "#test\n",
        "test_path = \"/content/mnist_test.csv\"\n",
        "data_test = pd.read_csv(test_path)\n",
        "x_test = np.array(data_test)\n",
        "\n",
        "#features\n",
        "n_features_train = x_train.shape[1]\n",
        "n_samples_train = x_train.shape[0]\n",
        "n_features_test = x_test.shape[1]\n",
        "n_samples_test = x_test.shape[0]\n",
        "print(n_features_train, n_samples_train, n_features_test, n_samples_test)\n",
        "print(x_train.shape, y_train.shape, x_test.shape)"
      ],
      "execution_count": 0,
      "outputs": [
        {
          "output_type": "stream",
          "text": [
            "784 60000 785 10000\n",
            "(60000, 784) (60000,) (10000, 785)\n"
          ],
          "name": "stdout"
        }
      ]
    },
    {
      "metadata": {
        "id": "t79uzIZehSRy",
        "colab_type": "text"
      },
      "cell_type": "markdown",
      "source": [
        "#### Show Image"
      ]
    },
    {
      "metadata": {
        "id": "mtqEr0h6ghzK",
        "colab_type": "code",
        "outputId": "6bd73442-e371-4c48-cdd4-ba78489df2ee",
        "colab": {
          "base_uri": "https://localhost:8080/",
          "height": 431
        }
      },
      "cell_type": "code",
      "source": [
        "def show_img(x):\n",
        "    size_img = 28\n",
        "    plt.figure(figsize=(8,7))\n",
        "    num_images = 16\n",
        "    n_samples = x.shape[0]\n",
        "    x = x.reshape(n_samples, size_img, size_img)\n",
        "    for i in range(num_images):\n",
        "        plt.subplot(4, 4, i+1)\n",
        "        plt.imshow(x[i])\n",
        "    plt.show()\n",
        "    \n",
        "show_img(x_train)\n"
      ],
      "execution_count": 0,
      "outputs": [
        {
          "output_type": "display_data",
          "data": {
            "image/png": "[encoded data removed]",
            "text/plain": [
              "<matplotlib.figure.Figure at 0x7ffa0b7a9f28>"
            ]
          },
          "metadata": {
            "tags": []
          }
        }
      ]
    },
    {
      "metadata": {
        "id": "hPWO_zyRopXN",
        "colab_type": "text"
      },
      "cell_type": "markdown",
      "source": [
        "### Mount GDrive Workflow\n"
      ]
    },
    {
      "metadata": {
        "id": "XI73HZNLobp4",
        "colab_type": "code",
        "colab": {}
      },
      "cell_type": "code",
      "source": [
        "from google.colab import drive\n",
        "drive.mount('/content/gdrive', force_remount=True)"
      ],
      "execution_count": 0,
      "outputs": []
    },
    {
      "metadata": {
        "id": "UNyzZwgmoxwm",
        "colab_type": "code",
        "outputId": "1be9ef3b-60bf-4aa7-918c-20c83341fe23",
        "colab": {
          "base_uri": "https://localhost:8080/",
          "height": 35
        }
      },
      "cell_type": "code",
      "source": [
        "import os;os.listdir(\"/content/gdrive/My Drive/awsml\")"
      ],
      "execution_count": 0,
      "outputs": [
        {
          "output_type": "execute_result",
          "data": {
            "text/plain": [
              "['kaggle.json', 'credentials', 'config']"
            ]
          },
          "metadata": {
            "tags": []
          },
          "execution_count": 2
        }
      ]
    },
    {
      "metadata": {
        "id": "bq4VmHjPpMOR",
        "colab_type": "text"
      },
      "cell_type": "markdown",
      "source": [
        "#### Load AWS API Keys (Colab Notebook)"
      ]
    },
    {
      "metadata": {
        "id": "aWrzIk7WpRoh",
        "colab_type": "text"
      },
      "cell_type": "markdown",
      "source": [
        "Put keys in local or remote GDrive:  \n",
        "\n",
        "`cp ~/.aws/credentials /Users/myname/Google\\ Drive/awsml/`"
      ]
    },
    {
      "metadata": {
        "id": "fYu0ekUlqPk6",
        "colab_type": "text"
      },
      "cell_type": "markdown",
      "source": [
        "#### Install Boto"
      ]
    },
    {
      "metadata": {
        "id": "dJDDrUkWrYRY",
        "colab_type": "code",
        "colab": {}
      },
      "cell_type": "code",
      "source": [
        "!pip -q install boto3\n"
      ],
      "execution_count": 0,
      "outputs": []
    },
    {
      "metadata": {
        "id": "FpJhrpSQsK5E",
        "colab_type": "text"
      },
      "cell_type": "markdown",
      "source": [
        "#### Create API Config"
      ]
    },
    {
      "metadata": {
        "id": "QxRwGOZtsN0-",
        "colab_type": "code",
        "colab": {}
      },
      "cell_type": "code",
      "source": [
        "!mkdir -p ~/.aws &&\\\n",
        "  cp /content/gdrive/My\\ Drive/awsml/credentials ~/.aws/credentials "
      ],
      "execution_count": 0,
      "outputs": []
    },
    {
      "metadata": {
        "id": "Kj977UW3rph_",
        "colab_type": "text"
      },
      "cell_type": "markdown",
      "source": [
        "#### Test Comprehend API Call"
      ]
    },
    {
      "metadata": {
        "id": "P-A8Cia-raT0",
        "colab_type": "code",
        "outputId": "a64ec7f4-9659-4ce1-c637-523831331837",
        "colab": {
          "base_uri": "https://localhost:8080/",
          "height": 246
        }
      },
      "cell_type": "code",
      "source": [
        "import boto3\n",
        "comprehend = boto3.client(service_name='comprehend', region_name=\"us-east-1\")\n",
        "text = \"There is smoke in San Francisco and it makes me angry\"\n",
        "comprehend.detect_sentiment(Text=text, LanguageCode='en')"
      ],
      "execution_count": 0,
      "outputs": [
        {
          "output_type": "execute_result",
          "data": {
            "text/plain": [
              "{'ResponseMetadata': {'HTTPHeaders': {'connection': 'keep-alive',\n",
              "   'content-length': '164',\n",
              "   'content-type': 'application/x-amz-json-1.1',\n",
              "   'date': 'Tue, 04 Dec 2018 19:10:58 GMT',\n",
              "   'x-amzn-requestid': '54e64fc0-f7f8-11e8-8c3f-f109987ed7df'},\n",
              "  'HTTPStatusCode': 200,\n",
              "  'RequestId': '54e64fc0-f7f8-11e8-8c3f-f109987ed7df',\n",
              "  'RetryAttempts': 0},\n",
              " u'Sentiment': u'NEGATIVE',\n",
              " u'SentimentScore': {u'Mixed': 0.010819978080689907,\n",
              "  u'Negative': 0.9212133288383484,\n",
              "  u'Neutral': 0.06721948087215424,\n",
              "  u'Positive': 0.0007472822326235473}}"
            ]
          },
          "metadata": {
            "tags": []
          },
          "execution_count": 6
        }
      ]
    },
    {
      "metadata": {
        "id": "0IpVk_AVc4fM",
        "colab_type": "text"
      },
      "cell_type": "markdown",
      "source": [
        ""
      ]
    },
    {
      "metadata": {
        "id": "S2l0ozLudvx5",
        "colab_type": "text"
      },
      "cell_type": "markdown",
      "source": [
        "### Changing Runtime(s)"
      ]
    },
    {
      "metadata": {
        "id": "9lV9jRk4d3nF",
        "colab_type": "text"
      },
      "cell_type": "markdown",
      "source": [
        "\n",
        "\n",
        "*   GPU\n",
        "*   TPU\n",
        "*   Python 2\n",
        "*   Python 3\n",
        "*   Local runtime\n",
        "\n"
      ]
    },
    {
      "metadata": {
        "id": "nrkDViEcfnw8",
        "colab_type": "text"
      },
      "cell_type": "markdown",
      "source": [
        "### Universal Images and Data"
      ]
    },
    {
      "metadata": {
        "id": "3SUQ8fpuf3we",
        "colab_type": "text"
      },
      "cell_type": "markdown",
      "source": [
        "* Images (Can be stored using the Github Issue Hack)\n",
        "\n",
        "![Stored in github issue](https://user-images.githubusercontent.com/58792/52564586-6d738e00-2db9-11e9-92ff-f3252eac532b.png)\n",
        "\n",
        "* Files and Data can be stored used large file hack\n",
        "\n",
        " - [large file](https://github.com/noahgift/food/blob/master/data/en.openfoodfacts.org.products.tsv)\n",
        " - workflow:  https://git-lfs.github.com/\n",
        " \n",
        " \n",
        "\n",
        "```\n",
        "git lfs install\n",
        "git lfs track \"*.csv\"\n",
        "git add .gitattributes\n",
        "git add file.psd\n",
        "git commit -m \"Add design file\"\n",
        "git push origin maste\n",
        "```\n",
        "\n",
        "\n",
        "\n"
      ]
    },
    {
      "metadata": {
        "id": "rQkSyrDjxXA4",
        "colab_type": "text"
      },
      "cell_type": "markdown",
      "source": [
        "### Colab to Colab Cell Copy Hack"
      ]
    },
    {
      "metadata": {
        "id": "-TDCr58Xxa2b",
        "colab_type": "text"
      },
      "cell_type": "markdown",
      "source": [
        "![cell copy](https://user-images.githubusercontent.com/58792/52566608-0c4eb900-2dbf-11e9-93b9-86248ba2eee6.png)"
      ]
    },
    {
      "metadata": {
        "id": "jYjzO6a4N88q",
        "colab_type": "text"
      },
      "cell_type": "markdown",
      "source": [
        "## 2.3 Using magic functions"
      ]
    },
    {
      "metadata": {
        "id": "Zf35CYV9PrjS",
        "colab_type": "text"
      },
      "cell_type": "markdown",
      "source": [
        "### %timeit"
      ]
    },
    {
      "metadata": {
        "id": "tMpMJH0rfAEg",
        "colab_type": "code",
        "colab": {}
      },
      "cell_type": "code",
      "source": [
        "too_many_decimals = 1.912345897\n",
        "\n",
        "print(\"built in Python Round\")\n",
        "%timeit round(too_many_decimals, 2)\n",
        "\n",
        "print(\"numpy round\")\n",
        "%timeit np.round(too_many_decimals, 2)\n",
        "\n",
        "print(\"Pandas DataFrame round\")\n",
        "%timeit df.round(2)"
      ],
      "execution_count": 0,
      "outputs": []
    },
    {
      "metadata": {
        "id": "p_KLutZKq5yN",
        "colab_type": "text"
      },
      "cell_type": "markdown",
      "source": [
        "### %alias"
      ]
    },
    {
      "metadata": {
        "id": "jyIZLH6UpMou",
        "colab_type": "code",
        "colab": {}
      },
      "cell_type": "code",
      "source": [
        "alias lscsv ls -l sample_data/*.csv "
      ],
      "execution_count": 0,
      "outputs": []
    },
    {
      "metadata": {
        "id": "BNJ6bKtGpVn3",
        "colab_type": "code",
        "outputId": "148d9bf2-cb84-4679-92d9-f989db93576b",
        "colab": {
          "base_uri": "https://localhost:8080/",
          "height": 85
        }
      },
      "cell_type": "code",
      "source": [
        "lscsv"
      ],
      "execution_count": 0,
      "outputs": [
        {
          "output_type": "stream",
          "text": [
            "-rw-r--r-- 1 root root   301141 Feb  6 17:31 sample_data/california_housing_test.csv\n",
            "-rw-r--r-- 1 root root  1706430 Feb  6 17:31 sample_data/california_housing_train.csv\n",
            "-rw-r--r-- 1 root root 18289443 Feb  6 17:31 sample_data/mnist_test.csv\n",
            "-rw-r--r-- 1 root root 36523880 Feb  6 17:31 sample_data/mnist_train_small.csv\n"
          ],
          "name": "stdout"
        }
      ]
    },
    {
      "metadata": {
        "id": "AE1cfp41rcwL",
        "colab_type": "text"
      },
      "cell_type": "markdown",
      "source": [
        "[Reference These]\n",
        "https://ipython.readthedocs.io/en/stable/interactive/magics.html"
      ]
    },
    {
      "metadata": {
        "id": "MnsQIiDurIPp",
        "colab_type": "text"
      },
      "cell_type": "markdown",
      "source": [
        "### %who"
      ]
    },
    {
      "metadata": {
        "id": "ljy17rdjrWD9",
        "colab_type": "text"
      },
      "cell_type": "markdown",
      "source": [
        "Print variables"
      ]
    },
    {
      "metadata": {
        "id": "ACyoq3IsrNZV",
        "colab_type": "code",
        "outputId": "c173c805-b5df-4d7d-f7eb-d92dcd8e684f",
        "colab": {
          "base_uri": "https://localhost:8080/",
          "height": 34
        }
      },
      "cell_type": "code",
      "source": [
        "who"
      ],
      "execution_count": 0,
      "outputs": [
        {
          "output_type": "stream",
          "text": [
            "alt\t data\t os\t stocks\t \n"
          ],
          "name": "stdout"
        }
      ]
    },
    {
      "metadata": {
        "id": "MURtyzAMrZ1Z",
        "colab_type": "code",
        "outputId": "e0dcee57-5b74-4af6-81fc-9f9b62f56685",
        "colab": {
          "base_uri": "https://localhost:8080/",
          "height": 204
        }
      },
      "cell_type": "code",
      "source": [
        "stocks.head()"
      ],
      "execution_count": 0,
      "outputs": [
        {
          "output_type": "execute_result",
          "data": {
            "text/html": [
              "<div>\n",
              "<style scoped>\n",
              "    .dataframe tbody tr th:only-of-type {\n",
              "        vertical-align: middle;\n",
              "    }\n",
              "\n",
              "    .dataframe tbody tr th {\n",
              "        vertical-align: top;\n",
              "    }\n",
              "\n",
              "    .dataframe thead th {\n",
              "        text-align: right;\n",
              "    }\n",
              "</style>\n",
              "<table border=\"1\" class=\"dataframe\">\n",
              "  <thead>\n",
              "    <tr style=\"text-align: right;\">\n",
              "      <th></th>\n",
              "      <th>symbol</th>\n",
              "      <th>date</th>\n",
              "      <th>price</th>\n",
              "    </tr>\n",
              "  </thead>\n",
              "  <tbody>\n",
              "    <tr>\n",
              "      <th>0</th>\n",
              "      <td>MSFT</td>\n",
              "      <td>2000-01-01</td>\n",
              "      <td>39.81</td>\n",
              "    </tr>\n",
              "    <tr>\n",
              "      <th>1</th>\n",
              "      <td>MSFT</td>\n",
              "      <td>2000-02-01</td>\n",
              "      <td>36.35</td>\n",
              "    </tr>\n",
              "    <tr>\n",
              "      <th>2</th>\n",
              "      <td>MSFT</td>\n",
              "      <td>2000-03-01</td>\n",
              "      <td>43.22</td>\n",
              "    </tr>\n",
              "    <tr>\n",
              "      <th>3</th>\n",
              "      <td>MSFT</td>\n",
              "      <td>2000-04-01</td>\n",
              "      <td>28.37</td>\n",
              "    </tr>\n",
              "    <tr>\n",
              "      <th>4</th>\n",
              "      <td>MSFT</td>\n",
              "      <td>2000-05-01</td>\n",
              "      <td>25.45</td>\n",
              "    </tr>\n",
              "  </tbody>\n",
              "</table>\n",
              "</div>"
            ],
            "text/plain": [
              "  symbol       date  price\n",
              "0   MSFT 2000-01-01  39.81\n",
              "1   MSFT 2000-02-01  36.35\n",
              "2   MSFT 2000-03-01  43.22\n",
              "3   MSFT 2000-04-01  28.37\n",
              "4   MSFT 2000-05-01  25.45"
            ]
          },
          "metadata": {
            "tags": []
          },
          "execution_count": 21
        }
      ]
    },
    {
      "metadata": {
        "id": "l9z-cAQow-BO",
        "colab_type": "text"
      },
      "cell_type": "markdown",
      "source": [
        "### %writefile"
      ]
    },
    {
      "metadata": {
        "id": "luIP2qKqxJmB",
        "colab_type": "code",
        "outputId": "aa7be0b8-12dd-4a49-adaa-38cd5a9e4854",
        "colab": {
          "base_uri": "https://localhost:8080/",
          "height": 34
        }
      },
      "cell_type": "code",
      "source": [
        "%%writefile magic_stuff.txt\n",
        "import pandas as pd\n",
        "df = pd.read_csv(\n",
        "    \"https://raw.githubusercontent.com/noahgift/food/master/data/features.en.openfoodfacts.org.products.csv\")\n",
        "df.drop([\"Unnamed: 0\", \"exceeded\", \"g_sum\", \"energy_100g\"], axis=1, inplace=True) #drop two rows we don't need\n",
        "df = df.drop(df.index[[1,11877]]) #drop outlier\n",
        "df.rename(index=str, columns={\"reconstructed_energy\": \"energy_100g\"}, inplace=True)\n",
        "df.head()"
      ],
      "execution_count": 0,
      "outputs": [
        {
          "output_type": "stream",
          "text": [
            "Writing magic_stuff.txt\n"
          ],
          "name": "stdout"
        }
      ]
    },
    {
      "metadata": {
        "id": "uok6ppvvxRo9",
        "colab_type": "code",
        "outputId": "fa4f7af5-1bcf-4cf2-ce91-a3a7365e3b46",
        "colab": {
          "base_uri": "https://localhost:8080/",
          "height": 136
        }
      },
      "cell_type": "code",
      "source": [
        "cat magic_stuff.txt"
      ],
      "execution_count": 0,
      "outputs": [
        {
          "output_type": "stream",
          "text": [
            "import pandas as pd\n",
            "df = pd.read_csv(\n",
            "    \"https://raw.githubusercontent.com/noahgift/food/master/data/features.en.openfoodfacts.org.products.csv\")\n",
            "df.drop([\"Unnamed: 0\", \"exceeded\", \"g_sum\", \"energy_100g\"], axis=1, inplace=True) #drop two rows we don't need\n",
            "df = df.drop(df.index[[1,11877]]) #drop outlier\n",
            "df.rename(index=str, columns={\"reconstructed_energy\": \"energy_100g\"}, inplace=True)\n",
            "df.head()"
          ],
          "name": "stdout"
        }
      ]
    },
    {
      "metadata": {
        "id": "TtVDMB8EwJqG",
        "colab_type": "text"
      },
      "cell_type": "markdown",
      "source": [
        "### Bash"
      ]
    },
    {
      "metadata": {
        "id": "YC03T7XUuF1k",
        "colab_type": "code",
        "outputId": "bb16c476-f9bc-4a40-99e2-a6ce4e76e775",
        "colab": {
          "base_uri": "https://localhost:8080/",
          "height": 34
        }
      },
      "cell_type": "code",
      "source": [
        "%%bash\n",
        "uname -a"
      ],
      "execution_count": 0,
      "outputs": [
        {
          "output_type": "stream",
          "text": [
            "Linux f88d2e69704c 4.14.79+ #1 SMP Wed Dec 19 21:19:13 PST 2018 x86_64 x86_64 x86_64 GNU/Linux\n"
          ],
          "name": "stdout"
        }
      ]
    },
    {
      "metadata": {
        "id": "ohA_HAOewNMT",
        "colab_type": "text"
      },
      "cell_type": "markdown",
      "source": [
        "### Python2"
      ]
    },
    {
      "metadata": {
        "id": "eioZW4txwO7-",
        "colab_type": "code",
        "outputId": "56357e2c-ca56-4e55-eedf-f61f10548453",
        "colab": {
          "base_uri": "https://localhost:8080/",
          "height": 34
        }
      },
      "cell_type": "code",
      "source": [
        "%%python2\n",
        "print \"old school\"\n"
      ],
      "execution_count": 0,
      "outputs": [
        {
          "output_type": "stream",
          "text": [
            "old school\n"
          ],
          "name": "stdout"
        }
      ]
    },
    {
      "metadata": {
        "id": "A2sW1aQ-wuPH",
        "colab_type": "text"
      },
      "cell_type": "markdown",
      "source": [
        "### HTML"
      ]
    },
    {
      "metadata": {
        "id": "C8ueccG-wv8Z",
        "colab_type": "code",
        "outputId": "ddf177b4-d417-487f-d1ba-6227aefb09f8",
        "colab": {
          "base_uri": "https://localhost:8080/",
          "height": 74
        }
      },
      "cell_type": "code",
      "source": [
        "%%html\n",
        "<h1>Only The Best Tags</h>"
      ],
      "execution_count": 0,
      "outputs": [
        {
          "output_type": "display_data",
          "data": {
            "text/html": [
              "<h1>Only The Best Tags</h>"
            ],
            "text/plain": [
              "<IPython.core.display.HTML object>"
            ]
          },
          "metadata": {
            "tags": []
          }
        }
      ]
    },
    {
      "metadata": {
        "id": "ckb3xjN-PsAQ",
        "colab_type": "text"
      },
      "cell_type": "markdown",
      "source": [
        "## 2.4 Compatibility with Jupyter"
      ]
    },
    {
      "metadata": {
        "id": "vn1SjZ7Kr_Em",
        "colab_type": "text"
      },
      "cell_type": "markdown",
      "source": [
        "### Jupyter Import/Export"
      ]
    },
    {
      "metadata": {
        "id": "beO5GzArePIN",
        "colab_type": "text"
      },
      "cell_type": "markdown",
      "source": [
        "\n",
        "\n",
        "*   Upload Jupyter Notebooks\n",
        "*   Download Jupyter Notebooks\n",
        "\n"
      ]
    },
    {
      "metadata": {
        "id": "ZY_TjSncsuPq",
        "colab_type": "text"
      },
      "cell_type": "markdown",
      "source": [
        "### Using Plotly"
      ]
    },
    {
      "metadata": {
        "id": "3oQ7Vw_TP8z6",
        "colab_type": "text"
      },
      "cell_type": "markdown",
      "source": [
        "#### Install Latest Plotly"
      ]
    },
    {
      "metadata": {
        "id": "3VVuFQwwRm9l",
        "colab_type": "code",
        "outputId": "b6a0c1eb-f8f6-449e-8457-6074d7c3cdf6",
        "colab": {
          "base_uri": "https://localhost:8080/",
          "height": 35
        }
      },
      "cell_type": "code",
      "source": [
        "import plotly\n",
        "plotly.__version__"
      ],
      "execution_count": 0,
      "outputs": [
        {
          "output_type": "execute_result",
          "data": {
            "text/plain": [
              "'3.6.0'"
            ]
          },
          "metadata": {
            "tags": []
          },
          "execution_count": 11
        }
      ]
    },
    {
      "metadata": {
        "id": "zL4Kp0FcP3tE",
        "colab_type": "code",
        "outputId": "219bf55c-28aa-4edc-fe58-62df4e03d006",
        "colab": {
          "base_uri": "https://localhost:8080/",
          "height": 553
        }
      },
      "cell_type": "code",
      "source": [
        "!pip uninstall -q -y plotly\n",
        "!pip install plotly==3.6.0"
      ],
      "execution_count": 0,
      "outputs": [
        {
          "output_type": "stream",
          "text": [
            "Collecting plotly==3.6.0\n",
            "\u001b[?25l  Downloading https://files.pythonhosted.org/packages/4d/59/63a5a05532a67b1c49283e8b7885bbe55454a1eef8443e97a7479bb9964b/plotly-3.6.0.tar.gz (31.1MB)\n",
            "\u001b[K    100% |████████████████████████████████| 31.1MB 999kB/s \n",
            "\u001b[?25hRequirement already satisfied: decorator>=4.0.6 in /usr/local/lib/python3.6/dist-packages (from plotly==3.6.0) (4.3.2)\n",
            "Requirement already satisfied: nbformat>=4.2 in /usr/local/lib/python3.6/dist-packages (from plotly==3.6.0) (4.4.0)\n",
            "Requirement already satisfied: pytz in /usr/local/lib/python3.6/dist-packages (from plotly==3.6.0) (2018.9)\n",
            "Requirement already satisfied: requests in /usr/local/lib/python3.6/dist-packages (from plotly==3.6.0) (2.18.4)\n",
            "Collecting retrying>=1.3.3 (from plotly==3.6.0)\n",
            "  Downloading https://files.pythonhosted.org/packages/44/ef/beae4b4ef80902f22e3af073397f079c96969c69b2c7d52a57ea9ae61c9d/retrying-1.3.3.tar.gz\n",
            "Requirement already satisfied: six in /usr/local/lib/python3.6/dist-packages (from plotly==3.6.0) (1.11.0)\n",
            "Requirement already satisfied: traitlets>=4.1 in /usr/local/lib/python3.6/dist-packages (from nbformat>=4.2->plotly==3.6.0) (4.3.2)\n",
            "Requirement already satisfied: jupyter-core in /usr/local/lib/python3.6/dist-packages (from nbformat>=4.2->plotly==3.6.0) (4.4.0)\n",
            "Requirement already satisfied: ipython-genutils in /usr/local/lib/python3.6/dist-packages (from nbformat>=4.2->plotly==3.6.0) (0.2.0)\n",
            "Requirement already satisfied: jsonschema!=2.5.0,>=2.4 in /usr/local/lib/python3.6/dist-packages (from nbformat>=4.2->plotly==3.6.0) (2.6.0)\n",
            "Requirement already satisfied: idna<2.7,>=2.5 in /usr/local/lib/python3.6/dist-packages (from requests->plotly==3.6.0) (2.6)\n",
            "Requirement already satisfied: certifi>=2017.4.17 in /usr/local/lib/python3.6/dist-packages (from requests->plotly==3.6.0) (2018.11.29)\n",
            "Requirement already satisfied: chardet<3.1.0,>=3.0.2 in /usr/local/lib/python3.6/dist-packages (from requests->plotly==3.6.0) (3.0.4)\n",
            "Requirement already satisfied: urllib3<1.23,>=1.21.1 in /usr/local/lib/python3.6/dist-packages (from requests->plotly==3.6.0) (1.22)\n",
            "Building wheels for collected packages: plotly, retrying\n",
            "  Building wheel for plotly (setup.py) ... \u001b[?25ldone\n",
            "\u001b[?25h  Stored in directory: /root/.cache/pip/wheels/67/0b/29/08c7f5caed2d1ac446db982ff607b326d49bfa0bd3a67ef8c7\n",
            "  Building wheel for retrying (setup.py) ... \u001b[?25ldone\n",
            "\u001b[?25h  Stored in directory: /root/.cache/pip/wheels/d7/a9/33/acc7b709e2a35caa7d4cae442f6fe6fbf2c43f80823d46460c\n",
            "Successfully built plotly retrying\n",
            "Installing collected packages: retrying, plotly\n",
            "Successfully installed plotly-3.6.0 retrying-1.3.3\n"
          ],
          "name": "stdout"
        },
        {
          "output_type": "display_data",
          "data": {
            "application/vnd.colab-display-data+json": {
              "pip_warning": {
                "packages": [
                  "plotly"
                ]
              }
            }
          },
          "metadata": {
            "tags": []
          }
        }
      ]
    },
    {
      "metadata": {
        "id": "I8nL-l8MRn4f",
        "colab_type": "code",
        "outputId": "eefdfbfd-1610-4d7a-e32f-f647a359a3ac",
        "colab": {
          "base_uri": "https://localhost:8080/",
          "height": 35
        }
      },
      "cell_type": "code",
      "source": [
        "import plotly\n",
        "plotly.__version__"
      ],
      "execution_count": 0,
      "outputs": [
        {
          "output_type": "execute_result",
          "data": {
            "text/plain": [
              "'3.6.0'"
            ]
          },
          "metadata": {
            "tags": []
          },
          "execution_count": 12
        }
      ]
    },
    {
      "metadata": {
        "id": "RRsSd29rKn_3",
        "colab_type": "code",
        "colab": {}
      },
      "cell_type": "code",
      "source": [
        "def enable_plotly_in_cell():\n",
        "  import IPython\n",
        "  from plotly.offline import init_notebook_mode\n",
        "  display(IPython.core.display.HTML('''\n",
        "        <script src=\"/static/components/requirejs/require.js\"></script>\n",
        "  '''))\n",
        "  init_notebook_mode(connected=False)"
      ],
      "execution_count": 0,
      "outputs": []
    },
    {
      "metadata": {
        "id": "B6zuTd7EsvqV",
        "colab_type": "code",
        "colab": {}
      },
      "cell_type": "code",
      "source": [
        ""
      ],
      "execution_count": 0,
      "outputs": []
    },
    {
      "metadata": {
        "id": "Wo1AFvAKtVYI",
        "colab_type": "text"
      },
      "cell_type": "markdown",
      "source": [
        "#### Plot"
      ]
    },
    {
      "metadata": {
        "id": "LIKrdMkqtXCV",
        "colab_type": "code",
        "outputId": "d91d863f-f8d6-4442-c3ea-d93ff5ec41b1",
        "colab": {
          "base_uri": "https://localhost:8080/",
          "height": 204
        }
      },
      "cell_type": "code",
      "source": [
        "import pandas as pd\n",
        "df = pd.read_csv(\n",
        "    \"https://raw.githubusercontent.com/noahgift/food/master/data/features.en.openfoodfacts.org.products.csv\")\n",
        "df.drop([\"Unnamed: 0\", \"exceeded\", \"g_sum\", \"energy_100g\"], axis=1, inplace=True) #drop two rows we don't need\n",
        "df = df.drop(df.index[[1,11877]]) #drop outlier\n",
        "df.rename(index=str, columns={\"reconstructed_energy\": \"energy_100g\"}, inplace=True)\n",
        "df.head()"
      ],
      "execution_count": 0,
      "outputs": [
        {
          "output_type": "execute_result",
          "data": {
            "text/html": [
              "<div>\n",
              "<style scoped>\n",
              "    .dataframe tbody tr th:only-of-type {\n",
              "        vertical-align: middle;\n",
              "    }\n",
              "\n",
              "    .dataframe tbody tr th {\n",
              "        vertical-align: top;\n",
              "    }\n",
              "\n",
              "    .dataframe thead th {\n",
              "        text-align: right;\n",
              "    }\n",
              "</style>\n",
              "<table border=\"1\" class=\"dataframe\">\n",
              "  <thead>\n",
              "    <tr style=\"text-align: right;\">\n",
              "      <th></th>\n",
              "      <th>fat_100g</th>\n",
              "      <th>carbohydrates_100g</th>\n",
              "      <th>sugars_100g</th>\n",
              "      <th>proteins_100g</th>\n",
              "      <th>salt_100g</th>\n",
              "      <th>energy_100g</th>\n",
              "      <th>product</th>\n",
              "    </tr>\n",
              "  </thead>\n",
              "  <tbody>\n",
              "    <tr>\n",
              "      <th>0</th>\n",
              "      <td>28.57</td>\n",
              "      <td>64.29</td>\n",
              "      <td>14.29</td>\n",
              "      <td>3.57</td>\n",
              "      <td>0.00000</td>\n",
              "      <td>2267.85</td>\n",
              "      <td>Banana Chips Sweetened (Whole)</td>\n",
              "    </tr>\n",
              "    <tr>\n",
              "      <th>2</th>\n",
              "      <td>57.14</td>\n",
              "      <td>17.86</td>\n",
              "      <td>3.57</td>\n",
              "      <td>17.86</td>\n",
              "      <td>1.22428</td>\n",
              "      <td>2835.70</td>\n",
              "      <td>Organic Salted Nut Mix</td>\n",
              "    </tr>\n",
              "    <tr>\n",
              "      <th>3</th>\n",
              "      <td>18.75</td>\n",
              "      <td>57.81</td>\n",
              "      <td>15.62</td>\n",
              "      <td>14.06</td>\n",
              "      <td>0.13970</td>\n",
              "      <td>1953.04</td>\n",
              "      <td>Organic Muesli</td>\n",
              "    </tr>\n",
              "    <tr>\n",
              "      <th>4</th>\n",
              "      <td>36.67</td>\n",
              "      <td>36.67</td>\n",
              "      <td>3.33</td>\n",
              "      <td>16.67</td>\n",
              "      <td>1.60782</td>\n",
              "      <td>2336.91</td>\n",
              "      <td>Zen Party Mix</td>\n",
              "    </tr>\n",
              "    <tr>\n",
              "      <th>5</th>\n",
              "      <td>18.18</td>\n",
              "      <td>60.00</td>\n",
              "      <td>21.82</td>\n",
              "      <td>14.55</td>\n",
              "      <td>0.02286</td>\n",
              "      <td>1976.37</td>\n",
              "      <td>Cinnamon Nut Granola</td>\n",
              "    </tr>\n",
              "  </tbody>\n",
              "</table>\n",
              "</div>"
            ],
            "text/plain": [
              "   fat_100g  carbohydrates_100g  sugars_100g  proteins_100g  salt_100g  \\\n",
              "0     28.57               64.29        14.29           3.57    0.00000   \n",
              "2     57.14               17.86         3.57          17.86    1.22428   \n",
              "3     18.75               57.81        15.62          14.06    0.13970   \n",
              "4     36.67               36.67         3.33          16.67    1.60782   \n",
              "5     18.18               60.00        21.82          14.55    0.02286   \n",
              "\n",
              "   energy_100g                         product  \n",
              "0      2267.85  Banana Chips Sweetened (Whole)  \n",
              "2      2835.70          Organic Salted Nut Mix  \n",
              "3      1953.04                  Organic Muesli  \n",
              "4      2336.91                   Zen Party Mix  \n",
              "5      1976.37            Cinnamon Nut Granola  "
            ]
          },
          "metadata": {
            "tags": []
          },
          "execution_count": 22
        }
      ]
    },
    {
      "metadata": {
        "id": "g1VJGC8PtaGY",
        "colab_type": "code",
        "outputId": "a913b1bf-09e1-4388-c79f-baa5104cd907",
        "colab": {
          "base_uri": "https://localhost:8080/",
          "height": 204
        }
      },
      "cell_type": "code",
      "source": [
        "from sklearn.preprocessing import MinMaxScaler\n",
        "from sklearn.cluster import KMeans\n",
        "\n",
        "df_cluster_features = df.drop(\"product\", axis=1)\n",
        "scaler = MinMaxScaler()\n",
        "scaler.fit(df_cluster_features)\n",
        "k_means = KMeans(n_clusters=3)\n",
        "kmeans = k_means.fit(scaler.transform(df_cluster_features))\n",
        "df['cluster'] = kmeans.labels_\n",
        "df.head()"
      ],
      "execution_count": 0,
      "outputs": [
        {
          "output_type": "execute_result",
          "data": {
            "text/html": [
              "<div>\n",
              "<style scoped>\n",
              "    .dataframe tbody tr th:only-of-type {\n",
              "        vertical-align: middle;\n",
              "    }\n",
              "\n",
              "    .dataframe tbody tr th {\n",
              "        vertical-align: top;\n",
              "    }\n",
              "\n",
              "    .dataframe thead th {\n",
              "        text-align: right;\n",
              "    }\n",
              "</style>\n",
              "<table border=\"1\" class=\"dataframe\">\n",
              "  <thead>\n",
              "    <tr style=\"text-align: right;\">\n",
              "      <th></th>\n",
              "      <th>fat_100g</th>\n",
              "      <th>carbohydrates_100g</th>\n",
              "      <th>sugars_100g</th>\n",
              "      <th>proteins_100g</th>\n",
              "      <th>salt_100g</th>\n",
              "      <th>energy_100g</th>\n",
              "      <th>product</th>\n",
              "      <th>cluster</th>\n",
              "    </tr>\n",
              "  </thead>\n",
              "  <tbody>\n",
              "    <tr>\n",
              "      <th>0</th>\n",
              "      <td>28.57</td>\n",
              "      <td>64.29</td>\n",
              "      <td>14.29</td>\n",
              "      <td>3.57</td>\n",
              "      <td>0.00000</td>\n",
              "      <td>2267.85</td>\n",
              "      <td>Banana Chips Sweetened (Whole)</td>\n",
              "      <td>2</td>\n",
              "    </tr>\n",
              "    <tr>\n",
              "      <th>2</th>\n",
              "      <td>57.14</td>\n",
              "      <td>17.86</td>\n",
              "      <td>3.57</td>\n",
              "      <td>17.86</td>\n",
              "      <td>1.22428</td>\n",
              "      <td>2835.70</td>\n",
              "      <td>Organic Salted Nut Mix</td>\n",
              "      <td>2</td>\n",
              "    </tr>\n",
              "    <tr>\n",
              "      <th>3</th>\n",
              "      <td>18.75</td>\n",
              "      <td>57.81</td>\n",
              "      <td>15.62</td>\n",
              "      <td>14.06</td>\n",
              "      <td>0.13970</td>\n",
              "      <td>1953.04</td>\n",
              "      <td>Organic Muesli</td>\n",
              "      <td>2</td>\n",
              "    </tr>\n",
              "    <tr>\n",
              "      <th>4</th>\n",
              "      <td>36.67</td>\n",
              "      <td>36.67</td>\n",
              "      <td>3.33</td>\n",
              "      <td>16.67</td>\n",
              "      <td>1.60782</td>\n",
              "      <td>2336.91</td>\n",
              "      <td>Zen Party Mix</td>\n",
              "      <td>2</td>\n",
              "    </tr>\n",
              "    <tr>\n",
              "      <th>5</th>\n",
              "      <td>18.18</td>\n",
              "      <td>60.00</td>\n",
              "      <td>21.82</td>\n",
              "      <td>14.55</td>\n",
              "      <td>0.02286</td>\n",
              "      <td>1976.37</td>\n",
              "      <td>Cinnamon Nut Granola</td>\n",
              "      <td>2</td>\n",
              "    </tr>\n",
              "  </tbody>\n",
              "</table>\n",
              "</div>"
            ],
            "text/plain": [
              "   fat_100g  carbohydrates_100g  sugars_100g  proteins_100g  salt_100g  \\\n",
              "0     28.57               64.29        14.29           3.57    0.00000   \n",
              "2     57.14               17.86         3.57          17.86    1.22428   \n",
              "3     18.75               57.81        15.62          14.06    0.13970   \n",
              "4     36.67               36.67         3.33          16.67    1.60782   \n",
              "5     18.18               60.00        21.82          14.55    0.02286   \n",
              "\n",
              "   energy_100g                         product  cluster  \n",
              "0      2267.85  Banana Chips Sweetened (Whole)        2  \n",
              "2      2835.70          Organic Salted Nut Mix        2  \n",
              "3      1953.04                  Organic Muesli        2  \n",
              "4      2336.91                   Zen Party Mix        2  \n",
              "5      1976.37            Cinnamon Nut Granola        2  "
            ]
          },
          "metadata": {
            "tags": []
          },
          "execution_count": 26
        }
      ]
    },
    {
      "metadata": {
        "id": "NezPRI_jt2-r",
        "colab_type": "code",
        "colab": {}
      },
      "cell_type": "code",
      "source": [
        "import plotly.offline as py\n",
        "import plotly.graph_objs as go\n",
        "\n",
        "from plotly.offline import init_notebook_mode\n",
        "enable_plotly_in_cell()\n",
        "\n",
        "\n",
        "trace1 = go.Scatter3d(\n",
        "    x=df[\"fat_100g\"],\n",
        "    y=df[\"carbohydrates_100g\"],\n",
        "    z=df[\"proteins_100g\"],\n",
        "    mode='markers',\n",
        "    text=df[\"product\"],\n",
        "    marker=dict(\n",
        "        size=12,\n",
        "        color=df[\"cluster\"],                # set color to an array/list of desired values\n",
        "        colorscale='Viridis',   # choose a colorscale\n",
        "        opacity=0.8\n",
        "    )\n",
        ")\n",
        "#print(trace1)\n",
        "data = [trace1]\n",
        "layout = go.Layout(\n",
        "    showlegend=False,\n",
        "    title=\"Protein-Fat-Carb:  Food Energy Types\",\n",
        "    scene = dict(\n",
        "        xaxis = dict(title='X: Fat Content-100g'),\n",
        "        yaxis = dict(title=\"Y:  Carbohydrate Content-100g\"),\n",
        "        zaxis = dict(title=\"Z:  Protein Content-100g\"),\n",
        "    ),\n",
        "    width=1000,\n",
        "    height=900,\n",
        ")\n",
        "fig = go.Figure(data=data, layout=layout)\n",
        "py.iplot(fig, filename='3d-scatter-colorscale')"
      ],
      "execution_count": 0,
      "outputs": []
    },
    {
      "metadata": {
        "id": "kwBHbQ0hStY9",
        "colab_type": "text"
      },
      "cell_type": "markdown",
      "source": [
        "### Installing Software"
      ]
    },
    {
      "metadata": {
        "id": "TahfRg1BSwSG",
        "colab_type": "code",
        "colab": {}
      },
      "cell_type": "code",
      "source": [
        "!pip install -q requests"
      ],
      "execution_count": 0,
      "outputs": []
    },
    {
      "metadata": {
        "id": "OGazXSvuTJ0P",
        "colab_type": "code",
        "colab": {}
      },
      "cell_type": "code",
      "source": [
        ""
      ],
      "execution_count": 0,
      "outputs": []
    }
  ]
}