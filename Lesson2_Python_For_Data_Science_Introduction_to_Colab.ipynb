{
  "nbformat": 4,
  "nbformat_minor": 0,
  "metadata": {
    "colab": {
      "name": "Lesson2-Python For Data Science-Introduction-to-Colab.ipynb",
      "version": "0.3.2",
      "provenance": [],
      "collapsed_sections": [
        "gG6bUpCQcWQe",
        "AeKABmxNenku",
        "hPWO_zyRopXN",
        "bq4VmHjPpMOR",
        "FpJhrpSQsK5E",
        "Kj977UW3rph_"
      ],
      "toc_visible": true,
      "include_colab_link": true
    },
    "kernelspec": {
      "name": "python3",
      "display_name": "Python 3"
    }
  },
  "cells": [
    {
      "cell_type": "markdown",
      "metadata": {
        "id": "view-in-github",
        "colab_type": "text"
      },
      "source": [
        "<a href=\"https://colab.research.google.com/github/paiml/python_for_datascience/blob/master/Lesson2_Python_For_Data_Science_Introduction_to_Colab.ipynb\" target=\"_parent\"><img src=\"https://colab.research.google.com/assets/colab-badge.svg\" alt=\"Open In Colab\"/></a>"
      ]
    },
    {
      "metadata": {
        "id": "spdivf2TMnGC",
        "colab_type": "text"
      },
      "cell_type": "markdown",
      "source": [
        "# Lesson 2 Introduction to Colab"
      ]
    },
    {
      "metadata": {
        "id": "qqAIvhP5N4iu",
        "colab_type": "text"
      },
      "cell_type": "markdown",
      "source": [
        "## 2.1 First Colab Document"
      ]
    },
    {
      "metadata": {
        "id": "rFoJ_ekfWrY8",
        "colab_type": "text"
      },
      "cell_type": "markdown",
      "source": [
        "### What is Colab?"
      ]
    },
    {
      "metadata": {
        "id": "7MBiLIWmWzzF",
        "colab_type": "text"
      },
      "cell_type": "markdown",
      "source": [
        "\n",
        "\n",
        "*   Hosted Jupyter Notebooks\n",
        "*   GPU/TPU enabled runtimes\n",
        "*   Google Docs Integration\n",
        "\n"
      ]
    },
    {
      "metadata": {
        "id": "epYHKGvoN8n3",
        "colab_type": "text"
      },
      "cell_type": "markdown",
      "source": [
        "### Creating Colab Notebooks\n",
        "\n",
        "\n",
        "\n"
      ]
    },
    {
      "metadata": {
        "id": "8mYKNSGTYjX8",
        "colab_type": "text"
      },
      "cell_type": "markdown",
      "source": [
        "**[Demo: Creation of Colab Documents]**\n",
        "\n",
        "*   [Demo: Create from colab.research.google.com]\n",
        "\n",
        "*   [Demo: Create from Google Drive]\n",
        "*   [Demo: Create from Github]\n",
        "*   [Demo: Create from Gist]\n",
        "*   [Demo: Import from Jupyter file]\n",
        "\n"
      ]
    },
    {
      "metadata": {
        "id": "IrhCtqRnXE0H",
        "colab_type": "text"
      },
      "cell_type": "markdown",
      "source": [
        "### Key Features\n",
        "\n",
        "\n",
        "\n"
      ]
    },
    {
      "metadata": {
        "id": "52ptGIrQXPQq",
        "colab_type": "text"
      },
      "cell_type": "markdown",
      "source": [
        "\n",
        "*   Iron Icon\n",
        "*  Table of Contents\n",
        "*  Code snippits\n",
        "*  Files\n",
        "\n",
        "\n",
        "\n"
      ]
    },
    {
      "metadata": {
        "id": "gG6bUpCQcWQe",
        "colab_type": "text"
      },
      "cell_type": "markdown",
      "source": [
        "### GitHub Integration\n",
        "\n",
        "\n"
      ]
    },
    {
      "metadata": {
        "id": "JwifSk6ya1g1",
        "colab_type": "text"
      },
      "cell_type": "markdown",
      "source": [
        "\n",
        "*   Load Public  Notebooks from Github\n",
        "\n",
        "\n",
        "*   B\n",
        "\n"
      ]
    },
    {
      "metadata": {
        "id": "yHdWIarsN850",
        "colab_type": "text"
      },
      "cell_type": "markdown",
      "source": [
        "## 2.2 Managing Colab Documents"
      ]
    },
    {
      "metadata": {
        "id": "hPWO_zyRopXN",
        "colab_type": "text"
      },
      "cell_type": "markdown",
      "source": [
        "### Mount GDrive\n"
      ]
    },
    {
      "metadata": {
        "id": "XI73HZNLobp4",
        "colab_type": "code",
        "colab": {}
      },
      "cell_type": "code",
      "source": [
        "from google.colab import drive\n",
        "drive.mount('/content/gdrive', force_remount=True)"
      ],
      "execution_count": 0,
      "outputs": []
    },
    {
      "metadata": {
        "id": "UNyzZwgmoxwm",
        "colab_type": "code",
        "outputId": "1be9ef3b-60bf-4aa7-918c-20c83341fe23",
        "colab": {
          "base_uri": "https://localhost:8080/",
          "height": 35
        }
      },
      "cell_type": "code",
      "source": [
        "import os;os.listdir(\"/content/gdrive/My Drive/awsml\")"
      ],
      "execution_count": 0,
      "outputs": [
        {
          "output_type": "execute_result",
          "data": {
            "text/plain": [
              "['kaggle.json', 'credentials', 'config']"
            ]
          },
          "metadata": {
            "tags": []
          },
          "execution_count": 2
        }
      ]
    },
    {
      "metadata": {
        "id": "bq4VmHjPpMOR",
        "colab_type": "text"
      },
      "cell_type": "markdown",
      "source": [
        "### Load AWS API Keys (Colab Notebook)"
      ]
    },
    {
      "metadata": {
        "id": "aWrzIk7WpRoh",
        "colab_type": "text"
      },
      "cell_type": "markdown",
      "source": [
        "Put keys in local or remote GDrive:  \n",
        "\n",
        "`cp ~/.aws/credentials /Users/myname/Google\\ Drive/awsml/`"
      ]
    },
    {
      "metadata": {
        "id": "fYu0ekUlqPk6",
        "colab_type": "text"
      },
      "cell_type": "markdown",
      "source": [
        "#### Install Boto"
      ]
    },
    {
      "metadata": {
        "id": "dJDDrUkWrYRY",
        "colab_type": "code",
        "colab": {}
      },
      "cell_type": "code",
      "source": [
        "!pip -q install boto3\n"
      ],
      "execution_count": 0,
      "outputs": []
    },
    {
      "metadata": {
        "id": "FpJhrpSQsK5E",
        "colab_type": "text"
      },
      "cell_type": "markdown",
      "source": [
        "#### Create API Config"
      ]
    },
    {
      "metadata": {
        "id": "QxRwGOZtsN0-",
        "colab_type": "code",
        "colab": {}
      },
      "cell_type": "code",
      "source": [
        "!mkdir -p ~/.aws &&\\\n",
        "  cp /content/gdrive/My\\ Drive/awsml/credentials ~/.aws/credentials "
      ],
      "execution_count": 0,
      "outputs": []
    },
    {
      "metadata": {
        "id": "Kj977UW3rph_",
        "colab_type": "text"
      },
      "cell_type": "markdown",
      "source": [
        "#### Test Comprehend API Call"
      ]
    },
    {
      "metadata": {
        "id": "P-A8Cia-raT0",
        "colab_type": "code",
        "outputId": "a64ec7f4-9659-4ce1-c637-523831331837",
        "colab": {
          "base_uri": "https://localhost:8080/",
          "height": 246
        }
      },
      "cell_type": "code",
      "source": [
        "import boto3\n",
        "comprehend = boto3.client(service_name='comprehend', region_name=\"us-east-1\")\n",
        "text = \"There is smoke in San Francisco and it makes me angry\"\n",
        "comprehend.detect_sentiment(Text=text, LanguageCode='en')"
      ],
      "execution_count": 0,
      "outputs": [
        {
          "output_type": "execute_result",
          "data": {
            "text/plain": [
              "{'ResponseMetadata': {'HTTPHeaders': {'connection': 'keep-alive',\n",
              "   'content-length': '164',\n",
              "   'content-type': 'application/x-amz-json-1.1',\n",
              "   'date': 'Tue, 04 Dec 2018 19:10:58 GMT',\n",
              "   'x-amzn-requestid': '54e64fc0-f7f8-11e8-8c3f-f109987ed7df'},\n",
              "  'HTTPStatusCode': 200,\n",
              "  'RequestId': '54e64fc0-f7f8-11e8-8c3f-f109987ed7df',\n",
              "  'RetryAttempts': 0},\n",
              " u'Sentiment': u'NEGATIVE',\n",
              " u'SentimentScore': {u'Mixed': 0.010819978080689907,\n",
              "  u'Negative': 0.9212133288383484,\n",
              "  u'Neutral': 0.06721948087215424,\n",
              "  u'Positive': 0.0007472822326235473}}"
            ]
          },
          "metadata": {
            "tags": []
          },
          "execution_count": 6
        }
      ]
    },
    {
      "metadata": {
        "id": "0IpVk_AVc4fM",
        "colab_type": "text"
      },
      "cell_type": "markdown",
      "source": [
        ""
      ]
    },
    {
      "metadata": {
        "id": "S2l0ozLudvx5",
        "colab_type": "text"
      },
      "cell_type": "markdown",
      "source": [
        "### Changing Runtime(s)"
      ]
    },
    {
      "metadata": {
        "id": "9lV9jRk4d3nF",
        "colab_type": "text"
      },
      "cell_type": "markdown",
      "source": [
        "\n",
        "\n",
        "*   GPU\n",
        "*   TPU\n",
        "*   Python 2\n",
        "*   Python 3\n",
        "*   Local runtime\n",
        "\n"
      ]
    },
    {
      "metadata": {
        "id": "jYjzO6a4N88q",
        "colab_type": "text"
      },
      "cell_type": "markdown",
      "source": [
        "## 2.3 Using magic functions"
      ]
    },
    {
      "metadata": {
        "id": "Zf35CYV9PrjS",
        "colab_type": "text"
      },
      "cell_type": "markdown",
      "source": [
        "### %timeit"
      ]
    },
    {
      "metadata": {
        "id": "3Qdsg2GxcuZu",
        "colab_type": "text"
      },
      "cell_type": "markdown",
      "source": [
        ""
      ]
    },
    {
      "metadata": {
        "id": "tMpMJH0rfAEg",
        "colab_type": "code",
        "colab": {}
      },
      "cell_type": "code",
      "source": [
        "too_many_decimals = 1.912345897\n",
        "\n",
        "print(\"built in Python Round\")\n",
        "%timeit round(too_many_decimals, 2)\n",
        "\n",
        "print(\"numpy round\")\n",
        "%timeit np.round(too_many_decimals, 2)\n",
        "\n",
        "print(\"Pandas DataFrame round\")\n",
        "%timeit df.round(2)"
      ],
      "execution_count": 0,
      "outputs": []
    },
    {
      "metadata": {
        "id": "p_KLutZKq5yN",
        "colab_type": "text"
      },
      "cell_type": "markdown",
      "source": [
        ""
      ]
    },
    {
      "metadata": {
        "id": "AE1cfp41rcwL",
        "colab_type": "text"
      },
      "cell_type": "markdown",
      "source": [
        "[Reference These]\n",
        "https://ipython.readthedocs.io/en/stable/interactive/magics.html"
      ]
    },
    {
      "metadata": {
        "id": "ckb3xjN-PsAQ",
        "colab_type": "text"
      },
      "cell_type": "markdown",
      "source": [
        "## 2.4 Compatibility with Jupyter"
      ]
    },
    {
      "metadata": {
        "id": "beO5GzArePIN",
        "colab_type": "text"
      },
      "cell_type": "markdown",
      "source": [
        "\n",
        "\n",
        "*   Upload Jupyter Notebooks\n",
        "*   Download Jupyter Notebooks\n",
        "\n"
      ]
    }
  ]
}